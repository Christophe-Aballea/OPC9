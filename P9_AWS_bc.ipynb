{
 "cells": [
  {
   "cell_type": "markdown",
   "id": "87b1e6b2-8a21-4f02-b3a7-e315ba4eb084",
   "metadata": {},
   "source": [
    "# Réaliser un traitement dans un environnement Big Data sur le Cloud\n",
    "## Notebook 2 - Traitement des données sur Amazon Web Services - Elastic MapReduce  "
   ]
  },
  {
   "cell_type": "markdown",
   "id": "8e871c10-55c2-4d72-918b-1bdf90f205aa",
   "metadata": {},
   "source": [
    "## Sommaire  \n",
    "__1. Préambule__  \n",
    "&emsp;1.1 Contexte  \n",
    "&emsp;1.2 Étapes du projet   \n",
    "&emsp;1.3 Remarques   \n",
    "__2. Exécution du code__  \n",
    "&emsp;2.1 Démarrage de la session Spark  \n",
    "&emsp;2.2 Installation des packages  \n",
    "&emsp;2.3 Définition des chemins d'accès aux fichiers  \n",
    "&emsp;2.4 Traitement des données  \n",
    "&emsp;&emsp;2.4.1 Chargement des données  \n",
    "&emsp;&emsp;2.4.2 Préparation du modèle  \n",
    "&emsp;&emsp;2.4.3 Définition du processus de chargement des images et application de leur featurisation à travers l'utilisation de pandas UDF  \n",
    "&emsp;&emsp;2.4.4 Exécution des actions d'extraction de features  \n",
    "&emsp;2.5 Réduction de dimension  \n",
    "&emsp;&emsp;2.5.1 Mise à l'échelle : StandardScaler  \n",
    "&emsp;&emsp;2.5.2 Réduction de dimension : PCA  \n",
    "&emsp;2.6 Chargement des données enregistrées et validation du résultat  "
   ]
  },
  {
   "cell_type": "markdown",
   "id": "cd4294c0-08b8-48af-9d3f-9a46ffc51d92",
   "metadata": {},
   "source": [
    "# 1. Préambule  \n",
    "## 1.1 Contexte  \n",
    "__\"Fruits!\"__, très jeune start-up de l'AgriTech, cherche à proposer des solutions innovantes pour la récolte des fruits et a pour projet de développer des robots cueilleurs intelligents.  \n",
    "Pour se faire connaître, elle souhaite mettre à disposition du grand public une application mobile qui permettrait aux utilisateurs de prendre en photo un fruit et d'obtenir des informations sur ce fruit.  \n",
    "Une première approche d'extraction des features d'images de fruits via le modèle ModeleNetV2 a été testée en environnement local puis AWS EMR.  \n",
    "## 1.2 Étapes du projet  \n",
    "- Choix techniques  \n",
    "- Traitement des données en environnement local (notebook 1)  \n",
    "- Mise en place de l'environnement AWS EMR  \n",
    "- __Traitement des données sur AWS (ce notebook)__\n",
    "- Résiliation du cluster EMR\n",
    "- Conclusion  \n",
    "## 1.3 Remarques  \n",
    "- Rendons à César ce qui appartient à César : la grande majorité du code qui suit a été repris de la première approche fournie\n",
    "- Quels sont les apports par rapport à la version fournie ?  \n",
    "    - Modification de la définition du décorateur `@pandas_udf` et ajout des types de données à la fonction `featurize_udf` pour s'adapter au document [SPARK-28264](https://issues.apache.org/jira/browse/SPARK-28264) et supprimer le warning associé  \n",
    "    - Ajout en pyspark d'une mise à l'échelle (StandardScaler) et d'une réduction de dimension (PCA) des features après extraction  "
   ]
  },
  {
   "cell_type": "markdown",
   "id": "a216c410-07a5-44bd-a484-1c4cb2fe3383",
   "metadata": {},
   "source": [
    "# 2. Exécution du code  "
   ]
  },
  {
   "cell_type": "markdown",
   "id": "7663caac-bd48-44bc-8773-4e22ae544cfe",
   "metadata": {},
   "source": [
    "Ce notebook est conçu pour être exécuté sur __JupyterHub__ avec un kernel __pyspark__.  \n",
    "La version JupyterHub fournie par Amazon EMR est configurée avec [__Sparkmagic__](https://github.com/jupyter-incubator/sparkmagic/blob/master/README.md) qui implémente de nombreuses fonctionnalités (liste et exemples sur le [GitHub SparkMagic](https://github.com/jupyter-incubator/sparkmagic/blob/master/examples/Pyspark%20Kernel.ipynb))  \n",
    "Ce notebook utilise les suivantes :  \n",
    "- A l'exécution de la première cellule de code :\n",
    "    - Création d'un SparkContext accessible via la variable `sc`\n",
    "    - Démarrage d'une SparkSession accessible via la variable `spark`\n",
    "- PySpark magics :\n",
    "   - `%%info` : informations sur la session  \n",
    "   - `%%pretty` : formatage HTML des dataframes Spark"
   ]
  },
  {
   "cell_type": "markdown",
   "id": "9e133f42-73fb-4be3-a2e7-ed2b556fe8ca",
   "metadata": {},
   "source": [
    "## 2.1 Démarrage de la session Spark"
   ]
  },
  {
   "cell_type": "code",
   "execution_count": 1,
   "id": "e83dc114",
   "metadata": {},
   "outputs": [
    {
     "name": "stdout",
     "output_type": "stream",
     "text": [
      "Starting Spark application\n"
     ]
    },
    {
     "data": {
      "text/html": [
       "<table>\n",
       "<tr><th>ID</th><th>YARN Application ID</th><th>Kind</th><th>State</th><th>Spark UI</th><th>Driver log</th><th>User</th><th>Current session?</th></tr><tr><td>0</td><td>application_1725828263236_0001</td><td>pyspark</td><td>idle</td><td><a target=\"_blank\" href=\"http://ip-172-31-0-32.eu-west-1.compute.internal:20888/proxy/application_1725828263236_0001/\">Link</a></td><td><a target=\"_blank\" href=\"http://ip-172-31-12-248.eu-west-1.compute.internal:8042/node/containerlogs/container_1725828263236_0001_01_000001/livy\">Link</a></td><td>None</td><td>✔</td></tr></table>"
      ],
      "text/plain": [
       "<IPython.core.display.HTML object>"
      ]
     },
     "metadata": {},
     "output_type": "display_data"
    },
    {
     "data": {
      "application/vnd.jupyter.widget-view+json": {
       "model_id": "",
       "version_major": 2,
       "version_minor": 0
      },
      "text/plain": [
       "FloatProgress(value=0.0, bar_style='info', description='Progress:', layout=Layout(height='25px', width='50%'),…"
      ]
     },
     "metadata": {},
     "output_type": "display_data"
    },
    {
     "name": "stdout",
     "output_type": "stream",
     "text": [
      "SparkSession available as 'spark'.\n"
     ]
    },
    {
     "data": {
      "application/vnd.jupyter.widget-view+json": {
       "model_id": "",
       "version_major": 2,
       "version_minor": 0
      },
      "text/plain": [
       "FloatProgress(value=0.0, bar_style='info', description='Progress:', layout=Layout(height='25px', width='50%'),…"
      ]
     },
     "metadata": {},
     "output_type": "display_data"
    }
   ],
   "source": [
    "# L'exécution de cette cellule démarre l'application Spark"
   ]
  },
  {
   "cell_type": "markdown",
   "id": "38a94977-55cc-42f7-9af1-ed886a0d39b6",
   "metadata": {},
   "source": [
    "<u>Affichage des information sur la session en cours :"
   ]
  },
  {
   "cell_type": "code",
   "execution_count": 2,
   "id": "29701bee",
   "metadata": {},
   "outputs": [
    {
     "data": {
      "text/html": [
       "Current session configs: <tt>{'driverMemory': '1000M', 'executorCores': 2, 'proxyUser': 'jovyan', 'kind': 'pyspark'}</tt><br>"
      ],
      "text/plain": [
       "<IPython.core.display.HTML object>"
      ]
     },
     "metadata": {},
     "output_type": "display_data"
    },
    {
     "data": {
      "text/html": [
       "<table>\n",
       "<tr><th>ID</th><th>YARN Application ID</th><th>Kind</th><th>State</th><th>Spark UI</th><th>Driver log</th><th>User</th><th>Current session?</th></tr><tr><td>0</td><td>application_1725828263236_0001</td><td>pyspark</td><td>idle</td><td><a target=\"_blank\" href=\"http://ip-172-31-0-32.eu-west-1.compute.internal:20888/proxy/application_1725828263236_0001/\">Link</a></td><td><a target=\"_blank\" href=\"http://ip-172-31-12-248.eu-west-1.compute.internal:8042/node/containerlogs/container_1725828263236_0001_01_000001/livy\">Link</a></td><td>None</td><td>✔</td></tr></table>"
      ],
      "text/plain": [
       "<IPython.core.display.HTML object>"
      ]
     },
     "metadata": {},
     "output_type": "display_data"
    }
   ],
   "source": [
    "%%info"
   ]
  },
  {
   "cell_type": "markdown",
   "id": "2f6073cf-4c72-4deb-a757-20fb063c31e3",
   "metadata": {},
   "source": [
    "## 2.2 Import des librairies  \n",
    "Les packages ont été installés à l'instanciation du cluster, via le fichier __boostrap-emr.sh__"
   ]
  },
  {
   "cell_type": "code",
   "execution_count": 3,
   "id": "99e36450",
   "metadata": {},
   "outputs": [
    {
     "data": {
      "application/vnd.jupyter.widget-view+json": {
       "model_id": "",
       "version_major": 2,
       "version_minor": 0
      },
      "text/plain": [
       "FloatProgress(value=0.0, bar_style='info', description='Progress:', layout=Layout(height='25px', width='50%'),…"
      ]
     },
     "metadata": {},
     "output_type": "display_data"
    }
   ],
   "source": [
    "import pandas as pd\n",
    "import numpy as np\n",
    "import sys\n",
    "import io\n",
    "import os\n",
    "from PIL import Image\n",
    "from typing import Iterator\n",
    "\n",
    "import tensorflow as tf\n",
    "from tensorflow.keras.applications.mobilenet_v2 import MobileNetV2, preprocess_input\n",
    "from tensorflow.keras.preprocessing.image import img_to_array\n",
    "from tensorflow.keras import Model\n",
    "\n",
    "import pyspark\n",
    "from pyspark.sql.functions import col, pandas_udf, PandasUDFType, element_at, split, udf #, expr, slice\n",
    "from pyspark.sql.types import ArrayType, FloatType\n",
    "from pyspark.ml.linalg import Vectors, VectorUDT\n",
    "from pyspark.ml.feature import StandardScaler, PCA"
   ]
  },
  {
   "cell_type": "markdown",
   "id": "6f9664ba-ea75-464f-93ba-d132d91d2ab1",
   "metadata": {},
   "source": [
    "<u>Affichage des versions utilisées :"
   ]
  },
  {
   "cell_type": "code",
   "execution_count": 4,
   "id": "4aa7b7a7",
   "metadata": {},
   "outputs": [
    {
     "data": {
      "application/vnd.jupyter.widget-view+json": {
       "model_id": "",
       "version_major": 2,
       "version_minor": 0
      },
      "text/plain": [
       "FloatProgress(value=0.0, bar_style='info', description='Progress:', layout=Layout(height='25px', width='50%'),…"
      ]
     },
     "metadata": {},
     "output_type": "display_data"
    },
    {
     "name": "stdout",
     "output_type": "stream",
     "text": [
      "Version python :\n",
      "Python : 3.9.16 (main, Jul  5 2024, 00:00:00) \n",
      "[GCC 11.4.1 20230605 (Red Hat 11.4.1-2)]\n",
      "\n",
      "Versions librairies :\n",
      "tensorflow : 2.17.0\n",
      "pyspark : 3.5.1+amzn.0.dev0\n",
      "PIL : 10.4.0\n",
      "Numpy : 1.26.4\n",
      "Pandas : 1.3.5"
     ]
    }
   ],
   "source": [
    "# Versions\n",
    "print('Version python :')\n",
    "print('Python : ' + sys.version)\n",
    "print('\\nVersions librairies :')\n",
    "print('tensorflow : ' + tf.__version__)\n",
    "print('pyspark : ' + pyspark.__version__)\n",
    "print('PIL : ' + Image.__version__)\n",
    "print('Numpy : ' + np.__version__)\n",
    "print('Pandas : ' + pd.__version__)"
   ]
  },
  {
   "cell_type": "markdown",
   "id": "2ff2bdc0-5a6a-463c-92c0-b56ecf448dc1",
   "metadata": {},
   "source": [
    "## 2.3 Définition des chemins d'accès aux fichiers  \n",
    "Les __22 688__ images du jeu de données Test seront utilisées, elles sont stockées dans le dossier __img__ du bucket S3 __cap9-fruits__  \n",
    "Une fois extraites, les caractéristiques vectorisées des images seront stockées dans le dossier __Results__ du même bucket __cap9-fruits__  "
   ]
  },
  {
   "cell_type": "code",
   "execution_count": 5,
   "id": "ed55e86b",
   "metadata": {},
   "outputs": [
    {
     "data": {
      "application/vnd.jupyter.widget-view+json": {
       "model_id": "",
       "version_major": 2,
       "version_minor": 0
      },
      "text/plain": [
       "FloatProgress(value=0.0, bar_style='info', description='Progress:', layout=Layout(height='25px', width='50%'),…"
      ]
     },
     "metadata": {},
     "output_type": "display_data"
    },
    {
     "name": "stdout",
     "output_type": "stream",
     "text": [
      "PATH:        s3://cap9-fruits\n",
      "PATH_Data:   s3://cap9-fruits/img\n",
      "PATH_Result: s3://cap9-fruits/Results"
     ]
    }
   ],
   "source": [
    "PATH = 's3://cap9-fruits'\n",
    "PATH_Data = PATH+'/img'\n",
    "PATH_Result = PATH+'/Results'\n",
    "print('PATH:        '+\\\n",
    "      PATH+'\\nPATH_Data:   '+\\\n",
    "      PATH_Data+'\\nPATH_Result: '+PATH_Result)"
   ]
  },
  {
   "cell_type": "markdown",
   "id": "b15deaec-166c-408a-a0ff-57de899a3520",
   "metadata": {},
   "source": [
    "## 2.4 Traitement des données  \n",
    "### 2.4.1 Chargement des données"
   ]
  },
  {
   "cell_type": "markdown",
   "id": "7c1e11ce-cceb-475e-9858-ae79ca5a9b36",
   "metadata": {},
   "source": [
    "Structure du dossier __img__ :  \n",
    "img  \n",
    "&emsp;└ Apple Braeburn  \n",
    "&emsp;&emsp;&emsp;&emsp;└ 3_100.jpg  \n",
    "&emsp;&emsp;&emsp;&emsp;└ 4_100.jpg  \n",
    "&emsp;&emsp;&emsp;&emsp;└ 5_100.jpg  \n",
    "&emsp;&emsp;&emsp;&emsp;└ ...  \n",
    "&emsp;└ Apple Crimson Snow  \n",
    "&emsp;&emsp;&emsp;&emsp;└ 80_100.jpg  \n",
    "&emsp;&emsp;&emsp;&emsp;└ 81_100.jpg  \n",
    "&emsp;&emsp;&emsp;&emsp;└ ...  \n",
    "&emsp;└ ...  \n",
    "<br>\n",
    "<u>Chargement dans un dataframe Spark des fichiers __*.jpg__ au format __binaire__, avec l'option `recursiveFileLookup` pour prendre en compte tous les sous-dossiers :"
   ]
  },
  {
   "cell_type": "code",
   "execution_count": 6,
   "id": "71fcf936",
   "metadata": {},
   "outputs": [
    {
     "data": {
      "application/vnd.jupyter.widget-view+json": {
       "model_id": "",
       "version_major": 2,
       "version_minor": 0
      },
      "text/plain": [
       "FloatProgress(value=0.0, bar_style='info', description='Progress:', layout=Layout(height='25px', width='50%'),…"
      ]
     },
     "metadata": {},
     "output_type": "display_data"
    }
   ],
   "source": [
    "images = spark.read.format(\"binaryFile\") \\\n",
    "  .option(\"pathGlobFilter\", \"*.jpg\") \\\n",
    "  .option(\"recursiveFileLookup\", \"true\") \\\n",
    "  .load(PATH_Data)"
   ]
  },
  {
   "cell_type": "markdown",
   "id": "2a347c85-174f-4323-8672-a71f9a9cb3c2",
   "metadata": {},
   "source": [
    "<u>Ajout des labels au dataframe, par récupération de l'avant-dernier élément de la chaîne du path splittée par '/' :"
   ]
  },
  {
   "cell_type": "code",
   "execution_count": 7,
   "id": "ca50f182",
   "metadata": {},
   "outputs": [
    {
     "data": {
      "application/vnd.jupyter.widget-view+json": {
       "model_id": "",
       "version_major": 2,
       "version_minor": 0
      },
      "text/plain": [
       "FloatProgress(value=0.0, bar_style='info', description='Progress:', layout=Layout(height='25px', width='50%'),…"
      ]
     },
     "metadata": {},
     "output_type": "display_data"
    },
    {
     "data": {
      "text/html": [
       "<pre>root\n",
       " |-- path: string (nullable = true)\n",
       " |-- modificationTime: timestamp (nullable = true)\n",
       " |-- length: long (nullable = true)\n",
       " |-- content: binary (nullable = true)\n",
       " |-- label: string (nullable = true)</pre><br /><table><tr><th>path</th><th>label</th></tr><tr><td>s3://cap9-fruits/img/Watermelon/r_106_100.jpg</td><td>Watermelon</td></tr><tr><td>s3://cap9-fruits/img/Watermelon/r_109_100.jpg</td><td>Watermelon</td></tr><tr><td>s3://cap9-fruits/img/Watermelon/r_108_100.jpg</td><td>Watermelon</td></tr><tr><td>s3://cap9-fruits/img/Watermelon/r_107_100.jpg</td><td>Watermelon</td></tr><tr><td>s3://cap9-fruits/img/Watermelon/r_95_100.jpg</td><td>Watermelon</td></tr></table><br /><pre>only showing top 5 rows</pre>"
      ],
      "text/plain": [
       "<IPython.core.display.HTML object>"
      ]
     },
     "metadata": {},
     "output_type": "display_data"
    }
   ],
   "source": [
    "%%pretty\n",
    "images = images.withColumn('label', element_at(split(images['path'], '/'), -2))\n",
    "images.printSchema()\n",
    "images.select('path','label').show(5, False)"
   ]
  },
  {
   "cell_type": "markdown",
   "id": "0f6c11b3-a8d1-4f45-a16d-b979970f4e78",
   "metadata": {},
   "source": [
    "### 2.4.2 Préparation du modèle"
   ]
  },
  {
   "cell_type": "markdown",
   "id": "0ab1efd8-1854-44e4-8c05-21268e829fdd",
   "metadata": {},
   "source": [
    "Le modèle __MobileNetV2__ a été sélectionné pour extraire les features des images, pour sa rapidité d'exécution en comparaison avec d'autres modèles comme VGG16.  \n",
    "Ce modèle est utilisé ici après un pré-entraînement sur les images issue de la base __Imagenet__ (transfer learning), et attend en entrée des images au format 224 x 224, alors que les images du jeu de données Test sont de dimension 100 x 100.  \n",
    "<br>\n",
    "<u>Chargment du modèle avec les poids précalculés issus d'imagenet, et en spécifiant le format d'entrée :"
   ]
  },
  {
   "cell_type": "code",
   "execution_count": 8,
   "id": "2de714a9",
   "metadata": {},
   "outputs": [
    {
     "data": {
      "application/vnd.jupyter.widget-view+json": {
       "model_id": "",
       "version_major": 2,
       "version_minor": 0
      },
      "text/plain": [
       "FloatProgress(value=0.0, bar_style='info', description='Progress:', layout=Layout(height='25px', width='50%'),…"
      ]
     },
     "metadata": {},
     "output_type": "display_data"
    },
    {
     "name": "stdout",
     "output_type": "stream",
     "text": [
      "Downloading data from https://storage.googleapis.com/tensorflow/keras-applications/mobilenet_v2/mobilenet_v2_weights_tf_dim_ordering_tf_kernels_1.0_224.h5\n",
      "\r",
      "\u001b[1m       0/14536120\u001b[0m \u001b[37m━━━━━━━━━━━━━━━━━━━━\u001b[0m \u001b[1m0s\u001b[0m 0s/step\b\b\b\b\b\b\b\b\b\b\b\b\b\b\b\b\b\b\b\b\b\b\b\b\b\b\b\b\b\b\b\b\b\b\b\b\b\b\b\b\b\b\b\b\b\b\b\b\b\r",
      "\u001b[1m   49152/14536120\u001b[0m \u001b[37m━━━━━━━━━━━━━━━━━━━━\u001b[0m \u001b[1m36s\u001b[0m 3us/step\b\b\b\b\b\b\b\b\b\b\b\b\b\b\b\b\b\b\b\b\b\b\b\b\b\b\b\b\b\b\b\b\b\b\b\b\b\b\b\b\b\b\b\b\b\b\b\b\b\b\b\r",
      "\u001b[1m   81920/14536120\u001b[0m \u001b[37m━━━━━━━━━━━━━━━━━━━━\u001b[0m \u001b[1m40s\u001b[0m 3us/step\b\b\b\b\b\b\b\b\b\b\b\b\b\b\b\b\b\b\b\b\b\b\b\b\b\b\b\b\b\b\b\b\b\b\b\b\b\b\b\b\b\b\b\b\b\b\b\b\b\b\b\r",
      "\u001b[1m  147456/14536120\u001b[0m \u001b[37m━━━━━━━━━━━━━━━━━━━━\u001b[0m \u001b[1m28s\u001b[0m 2us/step\b\b\b\b\b\b\b\b\b\b\b\b\b\b\b\b\b\b\b\b\b\b\b\b\b\b\b\b\b\b\b\b\b\b\b\b\b\b\b\b\b\b\b\b\b\b\b\b\b\b\b\r",
      "\u001b[1m  212992/14536120\u001b[0m \u001b[37m━━━━━━━━━━━━━━━━━━━━\u001b[0m \u001b[1m22s\u001b[0m 2us/step\b\b\b\b\b\b\b\b\b\b\b\b\b\b\b\b\b\b\b\b\b\b\b\b\b\b\b\b\b\b\b\b\b\b\b\b\b\b\b\b\b\b\b\b\b\b\b\b\b\b\b\r",
      "\u001b[1m  278528/14536120\u001b[0m \u001b[37m━━━━━━━━━━━━━━━━━━━━\u001b[0m \u001b[1m20s\u001b[0m 1us/step\b\b\b\b\b\b\b\b\b\b\b\b\b\b\b\b\b\b\b\b\b\b\b\b\b\b\b\b\b\b\b\b\b\b\b\b\b\b\b\b\b\b\b\b\b\b\b\b\b\b\b\r",
      "\u001b[1m  393216/14536120\u001b[0m \u001b[37m━━━━━━━━━━━━━━━━━━━━\u001b[0m \u001b[1m15s\u001b[0m 1us/step\b\b\b\b\b\b\b\b\b\b\b\b\b\b\b\b\b\b\b\b\b\b\b\b\b\b\b\b\b\b\b\b\b\b\b\b\b\b\b\b\b\b\b\b\b\b\b\b\b\b\b\r",
      "\u001b[1m  557056/14536120\u001b[0m \u001b[37m━━━━━━━━━━━━━━━━━━━━\u001b[0m \u001b[1m12s\u001b[0m 1us/step\b\b\b\b\b\b\b\b\b\b\b\b\b\b\b\b\b\b\b\b\b\b\b\b\b\b\b\b\b\b\b\b\b\b\b\b\b\b\b\b\b\b\b\b\b\b\b\b\b\b\b\r",
      "\u001b[1m  737280/14536120\u001b[0m \u001b[32m━\u001b[0m\u001b[37m━━━━━━━━━━━━━━━━━━━\u001b[0m \u001b[1m10s\u001b[0m 1us/step\b\b\b\b\b\b\b\b\b\b\b\b\b\b\b\b\b\b\b\b\b\b\b\b\b\b\b\b\b\b\b\b\b\b\b\b\b\b\b\b\b\b\b\b\b\b\b\b\b\b\b\r",
      "\u001b[1m 1064960/14536120\u001b[0m \u001b[32m━\u001b[0m\u001b[37m━━━━━━━━━━━━━━━━━━━\u001b[0m \u001b[1m7s\u001b[0m 1us/step \b\b\b\b\b\b\b\b\b\b\b\b\b\b\b\b\b\b\b\b\b\b\b\b\b\b\b\b\b\b\b\b\b\b\b\b\b\b\b\b\b\b\b\b\b\b\b\b\b\b\r",
      "\u001b[1m 1474560/14536120\u001b[0m \u001b[32m━━\u001b[0m\u001b[37m━━━━━━━━━━━━━━━━━━\u001b[0m \u001b[1m5s\u001b[0m 0us/step\b\b\b\b\b\b\b\b\b\b\b\b\b\b\b\b\b\b\b\b\b\b\b\b\b\b\b\b\b\b\b\b\b\b\b\b\b\b\b\b\b\b\b\b\b\b\b\b\b\b\r",
      "\u001b[1m 2064384/14536120\u001b[0m \u001b[32m━━\u001b[0m\u001b[37m━━━━━━━━━━━━━━━━━━\u001b[0m \u001b[1m4s\u001b[0m 0us/step\b\b\b\b\b\b\b\b\b\b\b\b\b\b\b\b\b\b\b\b\b\b\b\b\b\b\b\b\b\b\b\b\b\b\b\b\b\b\b\b\b\b\b\b\b\b\b\b\b\b\r",
      "\u001b[1m 2957312/14536120\u001b[0m \u001b[32m━━━━\u001b[0m\u001b[37m━━━━━━━━━━━━━━━━\u001b[0m \u001b[1m2s\u001b[0m 0us/step\b\b\b\b\b\b\b\b\b\b\b\b\b\b\b\b\b\b\b\b\b\b\b\b\b\b\b\b\b\b\b\b\b\b\b\b\b\b\b\b\b\b\b\b\b\b\b\b\b\b\r",
      "\u001b[1m 4186112/14536120\u001b[0m \u001b[32m━━━━━\u001b[0m\u001b[37m━━━━━━━━━━━━━━━\u001b[0m \u001b[1m1s\u001b[0m 0us/step\b\b\b\b\b\b\b\b\b\b\b\b\b\b\b\b\b\b\b\b\b\b\b\b\b\b\b\b\b\b\b\b\b\b\b\b\b\b\b\b\b\b\b\b\b\b\b\b\b\b\r",
      "\u001b[1m 5963776/14536120\u001b[0m \u001b[32m━━━━━━━━\u001b[0m\u001b[37m━━━━━━━━━━━━\u001b[0m \u001b[1m1s\u001b[0m 0us/step\b\b\b\b\b\b\b\b\b\b\b\b\b\b\b\b\b\b\b\b\b\b\b\b\b\b\b\b\b\b\b\b\b\b\b\b\b\b\b\b\b\b\b\b\b\b\b\b\b\b\r",
      "\u001b[1m 8077312/14536120\u001b[0m \u001b[32m━━━━━━━━━━━\u001b[0m\u001b[37m━━━━━━━━━\u001b[0m \u001b[1m0s\u001b[0m 0us/step\b\b\b\b\b\b\b\b\b\b\b\b\b\b\b\b\b\b\b\b\b\b\b\b\b\b\b\b\b\b\b\b\b\b\b\b\b\b\b\b\b\b\b\b\b\b\b\b\b\b\r",
      "\u001b[1m10092544/14536120\u001b[0m \u001b[32m━━━━━━━━━━━━━\u001b[0m\u001b[37m━━━━━━━\u001b[0m \u001b[1m0s\u001b[0m 0us/step\b\b\b\b\b\b\b\b\b\b\b\b\b\b\b\b\b\b\b\b\b\b\b\b\b\b\b\b\b\b\b\b\b\b\b\b\b\b\b\b\b\b\b\b\b\b\b\b\b\b\r",
      "\u001b[1m12271616/14536120\u001b[0m \u001b[32m━━━━━━━━━━━━━━━━\u001b[0m\u001b[37m━━━━\u001b[0m \u001b[1m0s\u001b[0m 0us/step\b\b\b\b\b\b\b\b\b\b\b\b\b\b\b\b\b\b\b\b\b\b\b\b\b\b\b\b\b\b\b\b\b\b\b\b\b\b\b\b\b\b\b\b\b\b\b\b\b\b\r",
      "\u001b[1m14032896/14536120\u001b[0m \u001b[32m━━━━━━━━━━━━━━━━━━━\u001b[0m\u001b[37m━\u001b[0m \u001b[1m0s\u001b[0m 0us/step\b\b\b\b\b\b\b\b\b\b\b\b\b\b\b\b\b\b\b\b\b\b\b\b\b\b\b\b\b\b\b\b\b\b\b\b\b\b\b\b\b\b\b\b\b\b\b\b\b\b\r",
      "\u001b[1m14536120/14536120\u001b[0m \u001b[32m━━━━━━━━━━━━━━━━━━━━\u001b[0m\u001b[37m\u001b[0m \u001b[1m1s\u001b[0m 0us/step"
     ]
    }
   ],
   "source": [
    "model = MobileNetV2(weights='imagenet',\n",
    "                    include_top=True,\n",
    "                    input_shape=(224, 224, 3))"
   ]
  },
  {
   "cell_type": "markdown",
   "id": "fc92ebe2-d12d-4adf-ac15-47b48e632f5b",
   "metadata": {},
   "source": [
    "Schéma de l'architecture globale de __MobileNetV2__ :  \n",
    "![Architecture modèle MobileNetV2](https://miro.medium.com/v2/resize:fit:640/format:webp/1*5iA55983nBMlQn9f6ICxKg.png)  \n",
    "<br>\n",
    "La dernière couche sert à classer les images selon 1 000 catégories, elle ne sera pas utilisée ici. La couche précédente a en sortie un vecteur de dimension 1280 qui sera utilisé plus tard pour reconnaître les différents fruits via un modèle de classification.  \n",
    "<br>\n",
    "<u>Ajustement du modèle pour récupérer la sortie de l'avant-dernière couche :"
   ]
  },
  {
   "cell_type": "code",
   "execution_count": 9,
   "id": "26e7ba48",
   "metadata": {},
   "outputs": [
    {
     "data": {
      "application/vnd.jupyter.widget-view+json": {
       "model_id": "",
       "version_major": 2,
       "version_minor": 0
      },
      "text/plain": [
       "FloatProgress(value=0.0, bar_style='info', description='Progress:', layout=Layout(height='25px', width='50%'),…"
      ]
     },
     "metadata": {},
     "output_type": "display_data"
    }
   ],
   "source": [
    "model = Model(inputs=model.input,\n",
    "              outputs=model.layers[-2].output)"
   ]
  },
  {
   "cell_type": "markdown",
   "id": "27e76ce1-fde2-493c-8136-f77406fc8776",
   "metadata": {},
   "source": [
    "<u>Affichage du résumé du modèle ajusté (la dernière couche est bien de dimension 1280) :"
   ]
  },
  {
   "cell_type": "code",
   "execution_count": 10,
   "id": "a53c1340",
   "metadata": {},
   "outputs": [
    {
     "data": {
      "application/vnd.jupyter.widget-view+json": {
       "model_id": "",
       "version_major": 2,
       "version_minor": 0
      },
      "text/plain": [
       "FloatProgress(value=0.0, bar_style='info', description='Progress:', layout=Layout(height='25px', width='50%'),…"
      ]
     },
     "metadata": {},
     "output_type": "display_data"
    },
    {
     "name": "stdout",
     "output_type": "stream",
     "text": [
      "Model: \"functional\"\n",
      "┏━━━━━━━━━━━━━━━━━━━━━┳━━━━━━━━━━━━━━━━━━━┳━━━━━━━━━━━━┳━━━━━━━━━━━━━━━━━━━┓\n",
      "┃ Layer (type)        ┃ Output Shape      ┃    Param # ┃ Connected to      ┃\n",
      "┡━━━━━━━━━━━━━━━━━━━━━╇━━━━━━━━━━━━━━━━━━━╇━━━━━━━━━━━━╇━━━━━━━━━━━━━━━━━━━┩\n",
      "│ input_layer         │ (None, 224, 224,  │          0 │ -                 │\n",
      "│ (InputLayer)        │ 3)                │            │                   │\n",
      "├─────────────────────┼───────────────────┼────────────┼───────────────────┤\n",
      "│ Conv1 (Conv2D)      │ (None, 112, 112,  │        864 │ input_layer[0][0] │\n",
      "│                     │ 32)               │            │                   │\n",
      "├─────────────────────┼───────────────────┼────────────┼───────────────────┤\n",
      "│ bn_Conv1            │ (None, 112, 112,  │        128 │ Conv1[0][0]       │\n",
      "│ (BatchNormalizatio… │ 32)               │            │                   │\n",
      "├─────────────────────┼───────────────────┼────────────┼───────────────────┤\n",
      "│ Conv1_relu (ReLU)   │ (None, 112, 112,  │          0 │ bn_Conv1[0][0]    │\n",
      "│                     │ 32)               │            │                   │\n",
      "├─────────────────────┼───────────────────┼────────────┼───────────────────┤\n",
      "│ expanded_conv_dept… │ (None, 112, 112,  │        288 │ Conv1_relu[0][0]  │\n",
      "│ (DepthwiseConv2D)   │ 32)               │            │                   │\n",
      "├─────────────────────┼───────────────────┼────────────┼───────────────────┤\n",
      "│ expanded_conv_dept… │ (None, 112, 112,  │        128 │ expanded_conv_de… │\n",
      "│ (BatchNormalizatio… │ 32)               │            │                   │\n",
      "├─────────────────────┼───────────────────┼────────────┼───────────────────┤\n",
      "│ expanded_conv_dept… │ (None, 112, 112,  │          0 │ expanded_conv_de… │\n",
      "│ (ReLU)              │ 32)               │            │                   │\n",
      "├─────────────────────┼───────────────────┼────────────┼───────────────────┤\n",
      "│ expanded_conv_proj… │ (None, 112, 112,  │        512 │ expanded_conv_de… │\n",
      "│ (Conv2D)            │ 16)               │            │                   │\n",
      "├─────────────────────┼───────────────────┼────────────┼───────────────────┤\n",
      "│ expanded_conv_proj… │ (None, 112, 112,  │         64 │ expanded_conv_pr… │\n",
      "│ (BatchNormalizatio… │ 16)               │            │                   │\n",
      "├─────────────────────┼───────────────────┼────────────┼───────────────────┤\n",
      "│ block_1_expand      │ (None, 112, 112,  │      1,536 │ expanded_conv_pr… │\n",
      "│ (Conv2D)            │ 96)               │            │                   │\n",
      "├─────────────────────┼───────────────────┼────────────┼───────────────────┤\n",
      "│ block_1_expand_BN   │ (None, 112, 112,  │        384 │ block_1_expand[0… │\n",
      "│ (BatchNormalizatio… │ 96)               │            │                   │\n",
      "├─────────────────────┼───────────────────┼────────────┼───────────────────┤\n",
      "│ block_1_expand_relu │ (None, 112, 112,  │          0 │ block_1_expand_B… │\n",
      "│ (ReLU)              │ 96)               │            │                   │\n",
      "├─────────────────────┼───────────────────┼────────────┼───────────────────┤\n",
      "│ block_1_pad         │ (None, 113, 113,  │          0 │ block_1_expand_r… │\n",
      "│ (ZeroPadding2D)     │ 96)               │            │                   │\n",
      "├─────────────────────┼───────────────────┼────────────┼───────────────────┤\n",
      "│ block_1_depthwise   │ (None, 56, 56,    │        864 │ block_1_pad[0][0] │\n",
      "│ (DepthwiseConv2D)   │ 96)               │            │                   │\n",
      "├─────────────────────┼───────────────────┼────────────┼───────────────────┤\n",
      "│ block_1_depthwise_… │ (None, 56, 56,    │        384 │ block_1_depthwis… │\n",
      "│ (BatchNormalizatio… │ 96)               │            │                   │\n",
      "├─────────────────────┼───────────────────┼────────────┼───────────────────┤\n",
      "│ block_1_depthwise_… │ (None, 56, 56,    │          0 │ block_1_depthwis… │\n",
      "│ (ReLU)              │ 96)               │            │                   │\n",
      "├─────────────────────┼───────────────────┼────────────┼───────────────────┤\n",
      "│ block_1_project     │ (None, 56, 56,    │      2,304 │ block_1_depthwis… │\n",
      "│ (Conv2D)            │ 24)               │            │                   │\n",
      "├─────────────────────┼───────────────────┼────────────┼───────────────────┤\n",
      "│ block_1_project_BN  │ (None, 56, 56,    │         96 │ block_1_project[… │\n",
      "│ (BatchNormalizatio… │ 24)               │            │                   │\n",
      "├─────────────────────┼───────────────────┼────────────┼───────────────────┤\n",
      "│ block_2_expand      │ (None, 56, 56,    │      3,456 │ block_1_project_… │\n",
      "│ (Conv2D)            │ 144)              │            │                   │\n",
      "├─────────────────────┼───────────────────┼────────────┼───────────────────┤\n",
      "│ block_2_expand_BN   │ (None, 56, 56,    │        576 │ block_2_expand[0… │\n",
      "│ (BatchNormalizatio… │ 144)              │            │                   │\n",
      "├─────────────────────┼───────────────────┼────────────┼───────────────────┤\n",
      "│ block_2_expand_relu │ (None, 56, 56,    │          0 │ block_2_expand_B… │\n",
      "│ (ReLU)              │ 144)              │            │                   │\n",
      "├─────────────────────┼───────────────────┼────────────┼───────────────────┤\n",
      "│ block_2_depthwise   │ (None, 56, 56,    │      1,296 │ block_2_expand_r… │\n",
      "│ (DepthwiseConv2D)   │ 144)              │            │                   │\n",
      "├─────────────────────┼───────────────────┼────────────┼───────────────────┤\n",
      "│ block_2_depthwise_… │ (None, 56, 56,    │        576 │ block_2_depthwis… │\n",
      "│ (BatchNormalizatio… │ 144)              │            │                   │\n",
      "├─────────────────────┼───────────────────┼────────────┼───────────────────┤\n",
      "│ block_2_depthwise_… │ (None, 56, 56,    │          0 │ block_2_depthwis… │\n",
      "│ (ReLU)              │ 144)              │            │                   │\n",
      "├─────────────────────┼───────────────────┼────────────┼───────────────────┤\n",
      "│ block_2_project     │ (None, 56, 56,    │      3,456 │ block_2_depthwis… │\n",
      "│ (Conv2D)            │ 24)               │            │                   │\n",
      "├─────────────────────┼───────────────────┼────────────┼───────────────────┤\n",
      "│ block_2_project_BN  │ (None, 56, 56,    │         96 │ block_2_project[… │\n",
      "│ (BatchNormalizatio… │ 24)               │            │                   │\n",
      "├─────────────────────┼───────────────────┼────────────┼───────────────────┤\n",
      "│ block_2_add (Add)   │ (None, 56, 56,    │          0 │ block_1_project_… │\n",
      "│                     │ 24)               │            │ block_2_project_… │\n",
      "├─────────────────────┼───────────────────┼────────────┼───────────────────┤\n",
      "│ block_3_expand      │ (None, 56, 56,    │      3,456 │ block_2_add[0][0] │\n",
      "│ (Conv2D)            │ 144)              │            │                   │\n",
      "├─────────────────────┼───────────────────┼────────────┼───────────────────┤\n",
      "│ block_3_expand_BN   │ (None, 56, 56,    │        576 │ block_3_expand[0… │\n",
      "│ (BatchNormalizatio… │ 144)              │            │                   │\n",
      "├─────────────────────┼───────────────────┼────────────┼───────────────────┤\n",
      "│ block_3_expand_relu │ (None, 56, 56,    │          0 │ block_3_expand_B… │\n",
      "│ (ReLU)              │ 144)              │            │                   │\n",
      "├─────────────────────┼───────────────────┼────────────┼───────────────────┤\n",
      "│ block_3_pad         │ (None, 57, 57,    │          0 │ block_3_expand_r… │\n",
      "│ (ZeroPadding2D)     │ 144)              │            │                   │\n",
      "├─────────────────────┼───────────────────┼────────────┼───────────────────┤\n",
      "│ block_3_depthwise   │ (None, 28, 28,    │      1,296 │ block_3_pad[0][0] │\n",
      "│ (DepthwiseConv2D)   │ 144)              │            │                   │\n",
      "├─────────────────────┼───────────────────┼────────────┼───────────────────┤\n",
      "│ block_3_depthwise_… │ (None, 28, 28,    │        576 │ block_3_depthwis… │\n",
      "│ (BatchNormalizatio… │ 144)              │            │                   │\n",
      "├─────────────────────┼───────────────────┼────────────┼───────────────────┤\n",
      "│ block_3_depthwise_… │ (None, 28, 28,    │          0 │ block_3_depthwis… │\n",
      "│ (ReLU)              │ 144)              │            │                   │\n",
      "├─────────────────────┼───────────────────┼────────────┼───────────────────┤\n",
      "│ block_3_project     │ (None, 28, 28,    │      4,608 │ block_3_depthwis… │\n",
      "│ (Conv2D)            │ 32)               │            │                   │\n",
      "├─────────────────────┼───────────────────┼────────────┼───────────────────┤\n",
      "│ block_3_project_BN  │ (None, 28, 28,    │        128 │ block_3_project[… │\n",
      "│ (BatchNormalizatio… │ 32)               │            │                   │\n",
      "├─────────────────────┼───────────────────┼────────────┼───────────────────┤\n",
      "│ block_4_expand      │ (None, 28, 28,    │      6,144 │ block_3_project_… │\n",
      "│ (Conv2D)            │ 192)              │            │                   │\n",
      "├─────────────────────┼───────────────────┼────────────┼───────────────────┤\n",
      "│ block_4_expand_BN   │ (None, 28, 28,    │        768 │ block_4_expand[0… │\n",
      "│ (BatchNormalizatio… │ 192)              │            │                   │\n",
      "├─────────────────────┼───────────────────┼────────────┼───────────────────┤\n",
      "│ block_4_expand_relu │ (None, 28, 28,    │          0 │ block_4_expand_B… │\n",
      "│ (ReLU)              │ 192)              │            │                   │\n",
      "├─────────────────────┼───────────────────┼────────────┼───────────────────┤\n",
      "│ block_4_depthwise   │ (None, 28, 28,    │      1,728 │ block_4_expand_r… │\n",
      "│ (DepthwiseConv2D)   │ 192)              │            │                   │\n",
      "├─────────────────────┼───────────────────┼────────────┼───────────────────┤\n",
      "│ block_4_depthwise_… │ (None, 28, 28,    │        768 │ block_4_depthwis… │\n",
      "│ (BatchNormalizatio… │ 192)              │            │                   │\n",
      "├─────────────────────┼───────────────────┼────────────┼───────────────────┤\n",
      "│ block_4_depthwise_… │ (None, 28, 28,    │          0 │ block_4_depthwis… │\n",
      "│ (ReLU)              │ 192)              │            │                   │\n",
      "├─────────────────────┼───────────────────┼────────────┼───────────────────┤\n",
      "│ block_4_project     │ (None, 28, 28,    │      6,144 │ block_4_depthwis… │\n",
      "│ (Conv2D)            │ 32)               │            │                   │\n",
      "├─────────────────────┼───────────────────┼────────────┼───────────────────┤\n",
      "│ block_4_project_BN  │ (None, 28, 28,    │        128 │ block_4_project[… │\n",
      "│ (BatchNormalizatio… │ 32)               │            │                   │\n",
      "├─────────────────────┼───────────────────┼────────────┼───────────────────┤\n",
      "│ block_4_add (Add)   │ (None, 28, 28,    │          0 │ block_3_project_… │\n",
      "│                     │ 32)               │            │ block_4_project_… │\n",
      "├─────────────────────┼───────────────────┼────────────┼───────────────────┤\n",
      "│ block_5_expand      │ (None, 28, 28,    │      6,144 │ block_4_add[0][0] │\n",
      "│ (Conv2D)            │ 192)              │            │                   │\n",
      "├─────────────────────┼───────────────────┼────────────┼───────────────────┤\n",
      "│ block_5_expand_BN   │ (None, 28, 28,    │        768 │ block_5_expand[0… │\n",
      "│ (BatchNormalizatio… │ 192)              │            │                   │\n",
      "├─────────────────────┼───────────────────┼────────────┼───────────────────┤\n",
      "│ block_5_expand_relu │ (None, 28, 28,    │          0 │ block_5_expand_B… │\n",
      "│ (ReLU)              │ 192)              │            │                   │\n",
      "├─────────────────────┼───────────────────┼────────────┼───────────────────┤\n",
      "│ block_5_depthwise   │ (None, 28, 28,    │      1,728 │ block_5_expand_r… │\n",
      "│ (DepthwiseConv2D)   │ 192)              │            │                   │\n",
      "├─────────────────────┼───────────────────┼────────────┼───────────────────┤\n",
      "│ block_5_depthwise_… │ (None, 28, 28,    │        768 │ block_5_depthwis… │\n",
      "│ (BatchNormalizatio… │ 192)              │            │                   │\n",
      "├─────────────────────┼───────────────────┼────────────┼───────────────────┤\n",
      "│ block_5_depthwise_… │ (None, 28, 28,    │          0 │ block_5_depthwis… │\n",
      "│ (ReLU)              │ 192)              │            │                   │\n",
      "├─────────────────────┼───────────────────┼────────────┼───────────────────┤\n",
      "│ block_5_project     │ (None, 28, 28,    │      6,144 │ block_5_depthwis… │\n",
      "│ (Conv2D)            │ 32)               │            │                   │\n",
      "├─────────────────────┼───────────────────┼────────────┼───────────────────┤\n",
      "│ block_5_project_BN  │ (None, 28, 28,    │        128 │ block_5_project[… │\n",
      "│ (BatchNormalizatio… │ 32)               │            │                   │\n",
      "├─────────────────────┼───────────────────┼────────────┼───────────────────┤\n",
      "│ block_5_add (Add)   │ (None, 28, 28,    │          0 │ block_4_add[0][0… │\n",
      "│                     │ 32)               │            │ block_5_project_… │\n",
      "├─────────────────────┼───────────────────┼────────────┼───────────────────┤\n",
      "│ block_6_expand      │ (None, 28, 28,    │      6,144 │ block_5_add[0][0] │\n",
      "│ (Conv2D)            │ 192)              │            │                   │\n",
      "├─────────────────────┼───────────────────┼────────────┼───────────────────┤\n",
      "│ block_6_expand_BN   │ (None, 28, 28,    │        768 │ block_6_expand[0… │\n",
      "│ (BatchNormalizatio… │ 192)              │            │                   │\n",
      "├─────────────────────┼───────────────────┼────────────┼───────────────────┤\n",
      "│ block_6_expand_relu │ (None, 28, 28,    │          0 │ block_6_expand_B… │\n",
      "│ (ReLU)              │ 192)              │            │                   │\n",
      "├─────────────────────┼───────────────────┼────────────┼───────────────────┤\n",
      "│ block_6_pad         │ (None, 29, 29,    │          0 │ block_6_expand_r… │\n",
      "│ (ZeroPadding2D)     │ 192)              │            │                   │\n",
      "├─────────────────────┼───────────────────┼────────────┼───────────────────┤\n",
      "│ block_6_depthwise   │ (None, 14, 14,    │      1,728 │ block_6_pad[0][0] │\n",
      "│ (DepthwiseConv2D)   │ 192)              │            │                   │\n",
      "├─────────────────────┼───────────────────┼────────────┼───────────────────┤\n",
      "│ block_6_depthwise_… │ (None, 14, 14,    │        768 │ block_6_depthwis… │\n",
      "│ (BatchNormalizatio… │ 192)              │            │                   │\n",
      "├─────────────────────┼───────────────────┼────────────┼───────────────────┤\n",
      "│ block_6_depthwise_… │ (None, 14, 14,    │          0 │ block_6_depthwis… │\n",
      "│ (ReLU)              │ 192)              │            │                   │\n",
      "├─────────────────────┼───────────────────┼────────────┼───────────────────┤\n",
      "│ block_6_project     │ (None, 14, 14,    │     12,288 │ block_6_depthwis… │\n",
      "│ (Conv2D)            │ 64)               │            │                   │\n",
      "├─────────────────────┼───────────────────┼────────────┼───────────────────┤\n",
      "│ block_6_project_BN  │ (None, 14, 14,    │        256 │ block_6_project[… │\n",
      "│ (BatchNormalizatio… │ 64)               │            │                   │\n",
      "├─────────────────────┼───────────────────┼────────────┼───────────────────┤\n",
      "│ block_7_expand      │ (None, 14, 14,    │     24,576 │ block_6_project_… │\n",
      "│ (Conv2D)            │ 384)              │            │                   │\n",
      "├─────────────────────┼───────────────────┼────────────┼───────────────────┤\n",
      "│ block_7_expand_BN   │ (None, 14, 14,    │      1,536 │ block_7_expand[0… │\n",
      "│ (BatchNormalizatio… │ 384)              │            │                   │\n",
      "├─────────────────────┼───────────────────┼────────────┼───────────────────┤\n",
      "│ block_7_expand_relu │ (None, 14, 14,    │          0 │ block_7_expand_B… │\n",
      "│ (ReLU)              │ 384)              │            │                   │\n",
      "├─────────────────────┼───────────────────┼────────────┼───────────────────┤\n",
      "│ block_7_depthwise   │ (None, 14, 14,    │      3,456 │ block_7_expand_r… │\n",
      "│ (DepthwiseConv2D)   │ 384)              │            │                   │\n",
      "├─────────────────────┼───────────────────┼────────────┼───────────────────┤\n",
      "│ block_7_depthwise_… │ (None, 14, 14,    │      1,536 │ block_7_depthwis… │\n",
      "│ (BatchNormalizatio… │ 384)              │            │                   │\n",
      "├─────────────────────┼───────────────────┼────────────┼───────────────────┤\n",
      "│ block_7_depthwise_… │ (None, 14, 14,    │          0 │ block_7_depthwis… │\n",
      "│ (ReLU)              │ 384)              │            │                   │\n",
      "├─────────────────────┼───────────────────┼────────────┼───────────────────┤\n",
      "│ block_7_project     │ (None, 14, 14,    │     24,576 │ block_7_depthwis… │\n",
      "│ (Conv2D)            │ 64)               │            │                   │\n",
      "├─────────────────────┼───────────────────┼────────────┼───────────────────┤\n",
      "│ block_7_project_BN  │ (None, 14, 14,    │        256 │ block_7_project[… │\n",
      "│ (BatchNormalizatio… │ 64)               │            │                   │\n",
      "├─────────────────────┼───────────────────┼────────────┼───────────────────┤\n",
      "│ block_7_add (Add)   │ (None, 14, 14,    │          0 │ block_6_project_… │\n",
      "│                     │ 64)               │            │ block_7_project_… │\n",
      "├─────────────────────┼───────────────────┼────────────┼───────────────────┤\n",
      "│ block_8_expand      │ (None, 14, 14,    │     24,576 │ block_7_add[0][0] │\n",
      "│ (Conv2D)            │ 384)              │            │                   │\n",
      "├─────────────────────┼───────────────────┼────────────┼───────────────────┤\n",
      "│ block_8_expand_BN   │ (None, 14, 14,    │      1,536 │ block_8_expand[0… │\n",
      "│ (BatchNormalizatio… │ 384)              │            │                   │\n",
      "├─────────────────────┼───────────────────┼────────────┼───────────────────┤\n",
      "│ block_8_expand_relu │ (None, 14, 14,    │          0 │ block_8_expand_B… │\n",
      "│ (ReLU)              │ 384)              │            │                   │\n",
      "├─────────────────────┼───────────────────┼────────────┼───────────────────┤\n",
      "│ block_8_depthwise   │ (None, 14, 14,    │      3,456 │ block_8_expand_r… │\n",
      "│ (DepthwiseConv2D)   │ 384)              │            │                   │\n",
      "├─────────────────────┼───────────────────┼────────────┼───────────────────┤\n",
      "│ block_8_depthwise_… │ (None, 14, 14,    │      1,536 │ block_8_depthwis… │\n",
      "│ (BatchNormalizatio… │ 384)              │            │                   │\n",
      "├─────────────────────┼───────────────────┼────────────┼───────────────────┤\n",
      "│ block_8_depthwise_… │ (None, 14, 14,    │          0 │ block_8_depthwis… │\n",
      "│ (ReLU)              │ 384)              │            │                   │\n",
      "├─────────────────────┼───────────────────┼────────────┼───────────────────┤\n",
      "│ block_8_project     │ (None, 14, 14,    │     24,576 │ block_8_depthwis… │\n",
      "│ (Conv2D)            │ 64)               │            │                   │\n",
      "├─────────────────────┼───────────────────┼────────────┼───────────────────┤\n",
      "│ block_8_project_BN  │ (None, 14, 14,    │        256 │ block_8_project[… │\n",
      "│ (BatchNormalizatio… │ 64)               │            │                   │\n",
      "├─────────────────────┼───────────────────┼────────────┼───────────────────┤\n",
      "│ block_8_add (Add)   │ (None, 14, 14,    │          0 │ block_7_add[0][0… │\n",
      "│                     │ 64)               │            │ block_8_project_… │\n",
      "├─────────────────────┼───────────────────┼────────────┼───────────────────┤\n",
      "│ block_9_expand      │ (None, 14, 14,    │     24,576 │ block_8_add[0][0] │\n",
      "│ (Conv2D)            │ 384)              │            │                   │\n",
      "├─────────────────────┼───────────────────┼────────────┼───────────────────┤\n",
      "│ block_9_expand_BN   │ (None, 14, 14,    │      1,536 │ block_9_expand[0… │\n",
      "│ (BatchNormalizatio… │ 384)              │            │                   │\n",
      "├─────────────────────┼───────────────────┼────────────┼───────────────────┤\n",
      "│ block_9_expand_relu │ (None, 14, 14,    │          0 │ block_9_expand_B… │\n",
      "│ (ReLU)              │ 384)              │            │                   │\n",
      "├─────────────────────┼───────────────────┼────────────┼───────────────────┤\n",
      "│ block_9_depthwise   │ (None, 14, 14,    │      3,456 │ block_9_expand_r… │\n",
      "│ (DepthwiseConv2D)   │ 384)              │            │                   │\n",
      "├─────────────────────┼───────────────────┼────────────┼───────────────────┤\n",
      "│ block_9_depthwise_… │ (None, 14, 14,    │      1,536 │ block_9_depthwis… │\n",
      "│ (BatchNormalizatio… │ 384)              │            │                   │\n",
      "├─────────────────────┼───────────────────┼────────────┼───────────────────┤\n",
      "│ block_9_depthwise_… │ (None, 14, 14,    │          0 │ block_9_depthwis… │\n",
      "│ (ReLU)              │ 384)              │            │                   │\n",
      "├─────────────────────┼───────────────────┼────────────┼───────────────────┤\n",
      "│ block_9_project     │ (None, 14, 14,    │     24,576 │ block_9_depthwis… │\n",
      "│ (Conv2D)            │ 64)               │            │                   │\n",
      "├─────────────────────┼───────────────────┼────────────┼───────────────────┤\n",
      "│ block_9_project_BN  │ (None, 14, 14,    │        256 │ block_9_project[… │\n",
      "│ (BatchNormalizatio… │ 64)               │            │                   │\n",
      "├─────────────────────┼───────────────────┼────────────┼───────────────────┤\n",
      "│ block_9_add (Add)   │ (None, 14, 14,    │          0 │ block_8_add[0][0… │\n",
      "│                     │ 64)               │            │ block_9_project_… │\n",
      "├─────────────────────┼───────────────────┼────────────┼───────────────────┤\n",
      "│ block_10_expand     │ (None, 14, 14,    │     24,576 │ block_9_add[0][0] │\n",
      "│ (Conv2D)            │ 384)              │            │                   │\n",
      "├─────────────────────┼───────────────────┼────────────┼───────────────────┤\n",
      "│ block_10_expand_BN  │ (None, 14, 14,    │      1,536 │ block_10_expand[… │\n",
      "│ (BatchNormalizatio… │ 384)              │            │                   │\n",
      "├─────────────────────┼───────────────────┼────────────┼───────────────────┤\n",
      "│ block_10_expand_re… │ (None, 14, 14,    │          0 │ block_10_expand_… │\n",
      "│ (ReLU)              │ 384)              │            │                   │\n",
      "├─────────────────────┼───────────────────┼────────────┼───────────────────┤\n",
      "│ block_10_depthwise  │ (None, 14, 14,    │      3,456 │ block_10_expand_… │\n",
      "│ (DepthwiseConv2D)   │ 384)              │            │                   │\n",
      "├─────────────────────┼───────────────────┼────────────┼───────────────────┤\n",
      "│ block_10_depthwise… │ (None, 14, 14,    │      1,536 │ block_10_depthwi… │\n",
      "│ (BatchNormalizatio… │ 384)              │            │                   │\n",
      "├─────────────────────┼───────────────────┼────────────┼───────────────────┤\n",
      "│ block_10_depthwise… │ (None, 14, 14,    │          0 │ block_10_depthwi… │\n",
      "│ (ReLU)              │ 384)              │            │                   │\n",
      "├─────────────────────┼───────────────────┼────────────┼───────────────────┤\n",
      "│ block_10_project    │ (None, 14, 14,    │     36,864 │ block_10_depthwi… │\n",
      "│ (Conv2D)            │ 96)               │            │                   │\n",
      "├─────────────────────┼───────────────────┼────────────┼───────────────────┤\n",
      "│ block_10_project_BN │ (None, 14, 14,    │        384 │ block_10_project… │\n",
      "│ (BatchNormalizatio… │ 96)               │            │                   │\n",
      "├─────────────────────┼───────────────────┼────────────┼───────────────────┤\n",
      "│ block_11_expand     │ (None, 14, 14,    │     55,296 │ block_10_project… │\n",
      "│ (Conv2D)            │ 576)              │            │                   │\n",
      "├─────────────────────┼───────────────────┼────────────┼───────────────────┤\n",
      "│ block_11_expand_BN  │ (None, 14, 14,    │      2,304 │ block_11_expand[… │\n",
      "│ (BatchNormalizatio… │ 576)              │            │                   │\n",
      "├─────────────────────┼───────────────────┼────────────┼───────────────────┤\n",
      "│ block_11_expand_re… │ (None, 14, 14,    │          0 │ block_11_expand_… │\n",
      "│ (ReLU)              │ 576)              │            │                   │\n",
      "├─────────────────────┼───────────────────┼────────────┼───────────────────┤\n",
      "│ block_11_depthwise  │ (None, 14, 14,    │      5,184 │ block_11_expand_… │\n",
      "│ (DepthwiseConv2D)   │ 576)              │            │                   │\n",
      "├─────────────────────┼───────────────────┼────────────┼───────────────────┤\n",
      "│ block_11_depthwise… │ (None, 14, 14,    │      2,304 │ block_11_depthwi… │\n",
      "│ (BatchNormalizatio… │ 576)              │            │                   │\n",
      "├─────────────────────┼───────────────────┼────────────┼───────────────────┤\n",
      "│ block_11_depthwise… │ (None, 14, 14,    │          0 │ block_11_depthwi… │\n",
      "│ (ReLU)              │ 576)              │            │                   │\n",
      "├─────────────────────┼───────────────────┼────────────┼───────────────────┤\n",
      "│ block_11_project    │ (None, 14, 14,    │     55,296 │ block_11_depthwi… │\n",
      "│ (Conv2D)            │ 96)               │            │                   │\n",
      "├─────────────────────┼───────────────────┼────────────┼───────────────────┤\n",
      "│ block_11_project_BN │ (None, 14, 14,    │        384 │ block_11_project… │\n",
      "│ (BatchNormalizatio… │ 96)               │            │                   │\n",
      "├─────────────────────┼───────────────────┼────────────┼───────────────────┤\n",
      "│ block_11_add (Add)  │ (None, 14, 14,    │          0 │ block_10_project… │\n",
      "│                     │ 96)               │            │ block_11_project… │\n",
      "├─────────────────────┼───────────────────┼────────────┼───────────────────┤\n",
      "│ block_12_expand     │ (None, 14, 14,    │     55,296 │ block_11_add[0][… │\n",
      "│ (Conv2D)            │ 576)              │            │                   │\n",
      "├─────────────────────┼───────────────────┼────────────┼───────────────────┤\n",
      "│ block_12_expand_BN  │ (None, 14, 14,    │      2,304 │ block_12_expand[… │\n",
      "│ (BatchNormalizatio… │ 576)              │            │                   │\n",
      "├─────────────────────┼───────────────────┼────────────┼───────────────────┤\n",
      "│ block_12_expand_re… │ (None, 14, 14,    │          0 │ block_12_expand_… │\n",
      "│ (ReLU)              │ 576)              │            │                   │\n",
      "├─────────────────────┼───────────────────┼────────────┼───────────────────┤\n",
      "│ block_12_depthwise  │ (None, 14, 14,    │      5,184 │ block_12_expand_… │\n",
      "│ (DepthwiseConv2D)   │ 576)              │            │                   │\n",
      "├─────────────────────┼───────────────────┼────────────┼───────────────────┤\n",
      "│ block_12_depthwise… │ (None, 14, 14,    │      2,304 │ block_12_depthwi… │\n",
      "│ (BatchNormalizatio… │ 576)              │            │                   │\n",
      "├─────────────────────┼───────────────────┼────────────┼───────────────────┤\n",
      "│ block_12_depthwise… │ (None, 14, 14,    │          0 │ block_12_depthwi… │\n",
      "│ (ReLU)              │ 576)              │            │                   │\n",
      "├─────────────────────┼───────────────────┼────────────┼───────────────────┤\n",
      "│ block_12_project    │ (None, 14, 14,    │     55,296 │ block_12_depthwi… │\n",
      "│ (Conv2D)            │ 96)               │            │                   │\n",
      "├─────────────────────┼───────────────────┼────────────┼───────────────────┤\n",
      "│ block_12_project_BN │ (None, 14, 14,    │        384 │ block_12_project… │\n",
      "│ (BatchNormalizatio… │ 96)               │            │                   │\n",
      "├─────────────────────┼───────────────────┼────────────┼───────────────────┤\n",
      "│ block_12_add (Add)  │ (None, 14, 14,    │          0 │ block_11_add[0][… │\n",
      "│                     │ 96)               │            │ block_12_project… │\n",
      "├─────────────────────┼───────────────────┼────────────┼───────────────────┤\n",
      "│ block_13_expand     │ (None, 14, 14,    │     55,296 │ block_12_add[0][… │\n",
      "│ (Conv2D)            │ 576)              │            │                   │\n",
      "├─────────────────────┼───────────────────┼────────────┼───────────────────┤\n",
      "│ block_13_expand_BN  │ (None, 14, 14,    │      2,304 │ block_13_expand[… │\n",
      "│ (BatchNormalizatio… │ 576)              │            │                   │\n",
      "├─────────────────────┼───────────────────┼────────────┼───────────────────┤\n",
      "│ block_13_expand_re… │ (None, 14, 14,    │          0 │ block_13_expand_… │\n",
      "│ (ReLU)              │ 576)              │            │                   │\n",
      "├─────────────────────┼───────────────────┼────────────┼───────────────────┤\n",
      "│ block_13_pad        │ (None, 15, 15,    │          0 │ block_13_expand_… │\n",
      "│ (ZeroPadding2D)     │ 576)              │            │                   │\n",
      "├─────────────────────┼───────────────────┼────────────┼───────────────────┤\n",
      "│ block_13_depthwise  │ (None, 7, 7, 576) │      5,184 │ block_13_pad[0][… │\n",
      "│ (DepthwiseConv2D)   │                   │            │                   │\n",
      "├─────────────────────┼───────────────────┼────────────┼───────────────────┤\n",
      "│ block_13_depthwise… │ (None, 7, 7, 576) │      2,304 │ block_13_depthwi… │\n",
      "│ (BatchNormalizatio… │                   │            │                   │\n",
      "├─────────────────────┼───────────────────┼────────────┼───────────────────┤\n",
      "│ block_13_depthwise… │ (None, 7, 7, 576) │          0 │ block_13_depthwi… │\n",
      "│ (ReLU)              │                   │            │                   │\n",
      "├─────────────────────┼───────────────────┼────────────┼───────────────────┤\n",
      "│ block_13_project    │ (None, 7, 7, 160) │     92,160 │ block_13_depthwi… │\n",
      "│ (Conv2D)            │                   │            │                   │\n",
      "├─────────────────────┼───────────────────┼────────────┼───────────────────┤\n",
      "│ block_13_project_BN │ (None, 7, 7, 160) │        640 │ block_13_project… │\n",
      "│ (BatchNormalizatio… │                   │            │                   │\n",
      "├─────────────────────┼───────────────────┼────────────┼───────────────────┤\n",
      "│ block_14_expand     │ (None, 7, 7, 960) │    153,600 │ block_13_project… │\n",
      "│ (Conv2D)            │                   │            │                   │\n",
      "├─────────────────────┼───────────────────┼────────────┼───────────────────┤\n",
      "│ block_14_expand_BN  │ (None, 7, 7, 960) │      3,840 │ block_14_expand[… │\n",
      "│ (BatchNormalizatio… │                   │            │                   │\n",
      "├─────────────────────┼───────────────────┼────────────┼───────────────────┤\n",
      "│ block_14_expand_re… │ (None, 7, 7, 960) │          0 │ block_14_expand_… │\n",
      "│ (ReLU)              │                   │            │                   │\n",
      "├─────────────────────┼───────────────────┼────────────┼───────────────────┤\n",
      "│ block_14_depthwise  │ (None, 7, 7, 960) │      8,640 │ block_14_expand_… │\n",
      "│ (DepthwiseConv2D)   │                   │            │                   │\n",
      "├─────────────────────┼───────────────────┼────────────┼───────────────────┤\n",
      "│ block_14_depthwise… │ (None, 7, 7, 960) │      3,840 │ block_14_depthwi… │\n",
      "│ (BatchNormalizatio… │                   │            │                   │\n",
      "├─────────────────────┼───────────────────┼────────────┼───────────────────┤\n",
      "│ block_14_depthwise… │ (None, 7, 7, 960) │          0 │ block_14_depthwi… │\n",
      "│ (ReLU)              │                   │            │                   │\n",
      "├─────────────────────┼───────────────────┼────────────┼───────────────────┤\n",
      "│ block_14_project    │ (None, 7, 7, 160) │    153,600 │ block_14_depthwi… │\n",
      "│ (Conv2D)            │                   │            │                   │\n",
      "├─────────────────────┼───────────────────┼────────────┼───────────────────┤\n",
      "│ block_14_project_BN │ (None, 7, 7, 160) │        640 │ block_14_project… │\n",
      "│ (BatchNormalizatio… │                   │            │                   │\n",
      "├─────────────────────┼───────────────────┼────────────┼───────────────────┤\n",
      "│ block_14_add (Add)  │ (None, 7, 7, 160) │          0 │ block_13_project… │\n",
      "│                     │                   │            │ block_14_project… │\n",
      "├─────────────────────┼───────────────────┼────────────┼───────────────────┤\n",
      "│ block_15_expand     │ (None, 7, 7, 960) │    153,600 │ block_14_add[0][… │\n",
      "│ (Conv2D)            │                   │            │                   │\n",
      "├─────────────────────┼───────────────────┼────────────┼───────────────────┤\n",
      "│ block_15_expand_BN  │ (None, 7, 7, 960) │      3,840 │ block_15_expand[… │\n",
      "│ (BatchNormalizatio… │                   │            │                   │\n",
      "├─────────────────────┼───────────────────┼────────────┼───────────────────┤\n",
      "│ block_15_expand_re… │ (None, 7, 7, 960) │          0 │ block_15_expand_… │\n",
      "│ (ReLU)              │                   │            │                   │\n",
      "├─────────────────────┼───────────────────┼────────────┼───────────────────┤\n",
      "│ block_15_depthwise  │ (None, 7, 7, 960) │      8,640 │ block_15_expand_… │\n",
      "│ (DepthwiseConv2D)   │                   │            │                   │\n",
      "├─────────────────────┼───────────────────┼────────────┼───────────────────┤\n",
      "│ block_15_depthwise… │ (None, 7, 7, 960) │      3,840 │ block_15_depthwi… │\n",
      "│ (BatchNormalizatio… │                   │            │                   │\n",
      "├─────────────────────┼───────────────────┼────────────┼───────────────────┤\n",
      "│ block_15_depthwise… │ (None, 7, 7, 960) │          0 │ block_15_depthwi… │\n",
      "│ (ReLU)              │                   │            │                   │\n",
      "├─────────────────────┼───────────────────┼────────────┼───────────────────┤\n",
      "│ block_15_project    │ (None, 7, 7, 160) │    153,600 │ block_15_depthwi… │\n",
      "│ (Conv2D)            │                   │            │                   │\n",
      "├─────────────────────┼───────────────────┼────────────┼───────────────────┤\n",
      "│ block_15_project_BN │ (None, 7, 7, 160) │        640 │ block_15_project… │\n",
      "│ (BatchNormalizatio… │                   │            │                   │\n",
      "├─────────────────────┼───────────────────┼────────────┼───────────────────┤\n",
      "│ block_15_add (Add)  │ (None, 7, 7, 160) │          0 │ block_14_add[0][… │\n",
      "│                     │                   │            │ block_15_project… │\n",
      "├─────────────────────┼───────────────────┼────────────┼───────────────────┤\n",
      "│ block_16_expand     │ (None, 7, 7, 960) │    153,600 │ block_15_add[0][… │\n",
      "│ (Conv2D)            │                   │            │                   │\n",
      "├─────────────────────┼───────────────────┼────────────┼───────────────────┤\n",
      "│ block_16_expand_BN  │ (None, 7, 7, 960) │      3,840 │ block_16_expand[… │\n",
      "│ (BatchNormalizatio… │                   │            │                   │\n",
      "├─────────────────────┼───────────────────┼────────────┼───────────────────┤\n",
      "│ block_16_expand_re… │ (None, 7, 7, 960) │          0 │ block_16_expand_… │\n",
      "│ (ReLU)              │                   │            │                   │\n",
      "├─────────────────────┼───────────────────┼────────────┼───────────────────┤\n",
      "│ block_16_depthwise  │ (None, 7, 7, 960) │      8,640 │ block_16_expand_… │\n",
      "│ (DepthwiseConv2D)   │                   │            │                   │\n",
      "├─────────────────────┼───────────────────┼────────────┼───────────────────┤\n",
      "│ block_16_depthwise… │ (None, 7, 7, 960) │      3,840 │ block_16_depthwi… │\n",
      "│ (BatchNormalizatio… │                   │            │                   │\n",
      "├─────────────────────┼───────────────────┼────────────┼───────────────────┤\n",
      "│ block_16_depthwise… │ (None, 7, 7, 960) │          0 │ block_16_depthwi… │\n",
      "│ (ReLU)              │                   │            │                   │\n",
      "├─────────────────────┼───────────────────┼────────────┼───────────────────┤\n",
      "│ block_16_project    │ (None, 7, 7, 320) │    307,200 │ block_16_depthwi… │\n",
      "│ (Conv2D)            │                   │            │                   │\n",
      "├─────────────────────┼───────────────────┼────────────┼───────────────────┤\n",
      "│ block_16_project_BN │ (None, 7, 7, 320) │      1,280 │ block_16_project… │\n",
      "│ (BatchNormalizatio… │                   │            │                   │\n",
      "├─────────────────────┼───────────────────┼────────────┼───────────────────┤\n",
      "│ Conv_1 (Conv2D)     │ (None, 7, 7,      │    409,600 │ block_16_project… │\n",
      "│                     │ 1280)             │            │                   │\n",
      "├─────────────────────┼───────────────────┼────────────┼───────────────────┤\n",
      "│ Conv_1_bn           │ (None, 7, 7,      │      5,120 │ Conv_1[0][0]      │\n",
      "│ (BatchNormalizatio… │ 1280)             │            │                   │\n",
      "├─────────────────────┼───────────────────┼────────────┼───────────────────┤\n",
      "│ out_relu (ReLU)     │ (None, 7, 7,      │          0 │ Conv_1_bn[0][0]   │\n",
      "│                     │ 1280)             │            │                   │\n",
      "├─────────────────────┼───────────────────┼────────────┼───────────────────┤\n",
      "│ global_average_poo… │ (None, 1280)      │          0 │ out_relu[0][0]    │\n",
      "│ (GlobalAveragePool… │                   │            │                   │\n",
      "└─────────────────────┴───────────────────┴────────────┴───────────────────┘\n",
      " Total params: 2,257,984 (8.61 MB)\n",
      " Trainable params: 2,223,872 (8.48 MB)\n",
      " Non-trainable params: 34,112 (133.25 KB)"
     ]
    }
   ],
   "source": [
    "model.summary()"
   ]
  },
  {
   "cell_type": "markdown",
   "id": "0a773135-70e6-4514-a198-65c9568d91d0",
   "metadata": {},
   "source": [
    "Tous les workeurs doivent pouvoir accéder au modèle ainsi qu'à ses poids.  \n",
    "Une bonne pratique consiste à charger le modèle sur le driver puis à diffuser les poids aux différents workeurs.  \n",
    "Cette opération peut être effectuée grâce à la méthode `sc.broadcast()` qui crée une variable 'broadcast'. Les variables broadcast sont définifies à partir du noeud maître, en lecture seule, distribuées automatiquement et gardées en mémoire par tous les autres noeuds du cluster Spark.  \n",
    "<br>\n",
    "<u>Diffusion des poids du modèle aux workers :"
   ]
  },
  {
   "cell_type": "code",
   "execution_count": 11,
   "id": "0abda825",
   "metadata": {},
   "outputs": [
    {
     "data": {
      "application/vnd.jupyter.widget-view+json": {
       "model_id": "",
       "version_major": 2,
       "version_minor": 0
      },
      "text/plain": [
       "FloatProgress(value=0.0, bar_style='info', description='Progress:', layout=Layout(height='25px', width='50%'),…"
      ]
     },
     "metadata": {},
     "output_type": "display_data"
    }
   ],
   "source": [
    "broadcast_weights = sc.broadcast(model.get_weights())"
   ]
  },
  {
   "cell_type": "markdown",
   "id": "34e24d03-b943-4fc9-bc2a-babe6cf5df60",
   "metadata": {},
   "source": [
    "La diffusion (broadcast) dans Spark repose sur la sérialisation 'pickle' qui ne gère pas bien les objets TensorFlow complexes, ce qui exclut la possibilité de diffusion du modèle MobileNetV2.  \n",
    "<br>\n",
    "<u>Fonction de création du modèle __MobileNetV2__ avec dans l'ordre :  \n",
    "- chargement du modèle avec les poids pré-calculés issus d'imagenet, conservation de toutes les couches, spécification du format d'entrée des images  \n",
    "- désactivation de l'entraînement (gel des poids des couches pré-entraînées sur imagenet)\n",
    "- suppression de la dernère couche (la sortie sera celle de la couche précédente)\n",
    "- chargement des poids initialement broadcastés"
   ]
  },
  {
   "cell_type": "code",
   "execution_count": 12,
   "id": "c9ca0d89",
   "metadata": {},
   "outputs": [
    {
     "data": {
      "application/vnd.jupyter.widget-view+json": {
       "model_id": "",
       "version_major": 2,
       "version_minor": 0
      },
      "text/plain": [
       "FloatProgress(value=0.0, bar_style='info', description='Progress:', layout=Layout(height='25px', width='50%'),…"
      ]
     },
     "metadata": {},
     "output_type": "display_data"
    }
   ],
   "source": [
    "def model_fn():\n",
    "    \"\"\"\n",
    "    Returns a MobileNetV2 model with top layer removed and broadcasted pretrained weights.\n",
    "    \"\"\"\n",
    "    # Chargement du modèle\n",
    "    model = MobileNetV2(\n",
    "        weights='imagenet',\n",
    "        include_top=True,\n",
    "        input_shape=(224, 224, 3)\n",
    "    )\n",
    "    # Gel des poids des couches pré-entraînées\n",
    "    for layer in model.layers:\n",
    "        layer.trainable = False\n",
    "    # Suppression de la dernière couche\n",
    "    model = Model(\n",
    "        inputs=model.input,\n",
    "        outputs=model.layers[-2].output\n",
    "    )\n",
    "    # Affectation des poids broadcastés\n",
    "    model.set_weights(broadcast_weights.value)\n",
    "    return model"
   ]
  },
  {
   "cell_type": "markdown",
   "id": "79d99754-c9e5-423d-bda9-8697592b31cd",
   "metadata": {},
   "source": [
    "### 2.4.3 Définition du processus de chargement des images et application de leur featurisation à travers l'utilisation de pandas UDF  \n",
    "\n",
    "![Encapsulation des appels de fonctions](encapsulation_v1.png)  \n",
    "\n",
    "<u>Encapsulation des appels de fonctions dans le processus d'extraction des caractéristiques d'images</u><br><br>\n",
    "La fonction <code>featurize_udf</code> est une Pandas UDF (User Defined Function) qui encapsule tout le processus, depuis la création du modèle via <code>model_fn</code> jusqu'à l'extraction des vecteurs de caractéristiques via <code>featurize_series</code>.<br>\n",
    "L'intérêt de cette encapsulation dans une Pandas UDF est que Spark exécutera cette fonction sur les données distribuées, en traitant chaque partition de données dans le cluster de manière parallèle.\n"
   ]
  },
  {
   "cell_type": "markdown",
   "id": "c952efda-877d-41c8-be34-302b8422a9dd",
   "metadata": {},
   "source": [
    "<u>Fonction de redimensionnent des images au format 224 x 224 :</u>  "
   ]
  },
  {
   "cell_type": "code",
   "execution_count": 13,
   "id": "1ab3fa3b-f9ab-4888-86a4-ae3b2b2f2b65",
   "metadata": {},
   "outputs": [
    {
     "data": {
      "application/vnd.jupyter.widget-view+json": {
       "model_id": "",
       "version_major": 2,
       "version_minor": 0
      },
      "text/plain": [
       "FloatProgress(value=0.0, bar_style='info', description='Progress:', layout=Layout(height='25px', width='50%'),…"
      ]
     },
     "metadata": {},
     "output_type": "display_data"
    }
   ],
   "source": [
    "def preprocess(content):\n",
    "    \"\"\"\n",
    "    Preprocesses raw image bytes for prediction.\n",
    "    \"\"\"\n",
    "    # Chargement et redimensionnement 224 x 224\n",
    "    img = Image.open(io.BytesIO(content)).resize([224, 224])\n",
    "    # Utilisation de la fonction 'img_to_array' de Tensorflow Keras\n",
    "    # pour coller au format d'input attendu par le modèle\n",
    "    arr = img_to_array(img)\n",
    "    # Normalisation\n",
    "    return preprocess_input(arr)"
   ]
  },
  {
   "cell_type": "markdown",
   "id": "cab8024f-8342-463a-be1e-f61e8444f5a8",
   "metadata": {},
   "source": [
    "<u>Fonction d'extraction des vecteurs des caractéristiques des images (feature extraction) :"
   ]
  },
  {
   "cell_type": "code",
   "execution_count": 14,
   "id": "e88b82b9-d136-4b5a-a964-4dbff451e161",
   "metadata": {},
   "outputs": [
    {
     "data": {
      "application/vnd.jupyter.widget-view+json": {
       "model_id": "",
       "version_major": 2,
       "version_minor": 0
      },
      "text/plain": [
       "FloatProgress(value=0.0, bar_style='info', description='Progress:', layout=Layout(height='25px', width='50%'),…"
      ]
     },
     "metadata": {},
     "output_type": "display_data"
    }
   ],
   "source": [
    "def featurize_series(model, content_series):\n",
    "    \"\"\"\n",
    "    Featurize a pd.Series of raw images using the input model.\n",
    "    :return: a pd.Series of image features\n",
    "    \"\"\"\n",
    "    # Preprocess de chaque image puis stockage dans\n",
    "    # un tableau numpy 4D (nombre d'images, hauteur, largeur, canal RVB)\n",
    "    input = np.stack(content_series.map(preprocess))\n",
    "    # Récupération de la dernière couche (vectorisation des caractéristiques des images)\n",
    "    preds = model.predict(input)\n",
    "    # Aplatissement des vecteurs\n",
    "    output = [p.flatten() for p in preds]\n",
    "    return pd.Series(output)"
   ]
  },
  {
   "cell_type": "markdown",
   "id": "19d73000-81e2-455c-9582-167d761232a4",
   "metadata": {},
   "source": [
    "Une __UDF (User Defined Function)__ est une 'fonction définie par l'utilisateur' qui permet d'exécuter des opérations personnalisées sur les données dans un DataFrame Spark. On utilise une UDF pour appliquer des transformations ou des calculs qui ne sont pas disponibles nativement dans Spark SQL.  \n",
    "Les __Pandas UDFs__ sont des UDFs permettant d'utiliser des fonctions pandas sur des dataframes Spark, en tirant parti des optimisations vectorisées de pandas pour améliorer les performances par rapport aux UDFs de base. Il y a 3 types de pandas UDFs :  \n",
    "- __Scalar UDF__ : fonctionne sur une série pandas et renvoie une autre série pandas\n",
    "- __Grouped Mad UDF__ : appliquée à un groupe de données, renvoie un DataFrame pandas\n",
    "- __Iterator UDF__ : prend un itérateur de séries pandas en entrée et renvoie un itérateur de séries pandas en sortie, ce qui permet un traitement des données par lots.  "
   ]
  },
  {
   "cell_type": "markdown",
   "id": "33aae74f-d5e9-4093-8ef0-febde6fc45f1",
   "metadata": {},
   "source": [
    "<u>Iterator UDF pandas permettant l'extraction des caractéristiques des images par lots :"
   ]
  },
  {
   "cell_type": "code",
   "execution_count": 15,
   "id": "0747d4b4",
   "metadata": {},
   "outputs": [
    {
     "data": {
      "application/vnd.jupyter.widget-view+json": {
       "model_id": "",
       "version_major": 2,
       "version_minor": 0
      },
      "text/plain": [
       "FloatProgress(value=0.0, bar_style='info', description='Progress:', layout=Layout(height='25px', width='50%'),…"
      ]
     },
     "metadata": {},
     "output_type": "display_data"
    }
   ],
   "source": [
    "# Décorateur indiquant que la fonction 'featurize_udf' est une pandas UDF renvoyant un tableau de floats\n",
    "@pandas_udf(ArrayType(FloatType()))\n",
    "def featurize_udf(content_series_iter: Iterator[pd.Series]) -> Iterator[pd.Series]:\n",
    "    '''\n",
    "    Cette fonction est une UDF pandas Iterator qui encapsule la fonction de featurization.\n",
    "    '''\n",
    "    model = model_fn()\n",
    "    for content_series in content_series_iter:\n",
    "        yield featurize_series(model, content_series)"
   ]
  },
  {
   "cell_type": "markdown",
   "id": "c51c4b7e-d7c2-4950-897d-32b9554eb9ef",
   "metadata": {},
   "source": [
    "### 2.4.4 Exécution des actions d'extraction de features"
   ]
  },
  {
   "cell_type": "markdown",
   "id": "d4bd8006-ba82-4169-9465-248a98518e82",
   "metadata": {},
   "source": [
    "L'intérêt d'utiliser Spark et les pandas UDFs est de pouvoir paralléliser les taches.  \n",
    "En partionnant le dataframe Spark contenant les images à featuriser, Spark exécutera la fonction `featurize_udf` __en parallèle sur chaque partition__.  \n",
    "\n",
    "Les bonnes pratiques se basent sur le __nombre de coeurs__ dans le cluster et la __taille des données__. Il est préconisé :  \n",
    "- de définir le nombre de partitions à 2 à 4 fois le nombre de coeurs dans le cluster. Avec 2 instances EC2 m5.xlarge, 8 vCore sont disponibles, ce qui sous-entend un nombre optimal de partitions compris entre __16 et 32__.  \n",
    "- de faire en sorte que la taille d'une partition soit comprise entre 100 Mo et 1 Go de données non compressées. Les 22 688 fichiers jpg occupent un espace disque total de 98.4 Mo, au format 100 x 100. En supposant que l'espace occupé après redimensionnement au format 224 x 244 soit proportionnel, la nouvelle taille estimée serait de 494 Mo (98.4 x 224² / 100²), ce qui donnerait un nombre de partitions de 494 Mo / 100 Mo = 4.94 soit __5 partitions__.  \n",
    "\n",
    "Le choix initial de 24 partitions semble cohérent vis-à-vis du nombre de coeurs, mais pour éviter d'avoir des partitions trop petites le nombre de __16 partitions__ sera retenu.  \n",
    "\n",
    "<u>Extraction parallélisée des vecteurs de caractéristiques des images :"
   ]
  },
  {
   "cell_type": "code",
   "execution_count": 16,
   "id": "a728ab46",
   "metadata": {},
   "outputs": [
    {
     "data": {
      "application/vnd.jupyter.widget-view+json": {
       "model_id": "",
       "version_major": 2,
       "version_minor": 0
      },
      "text/plain": [
       "FloatProgress(value=0.0, bar_style='info', description='Progress:', layout=Layout(height='25px', width='50%'),…"
      ]
     },
     "metadata": {},
     "output_type": "display_data"
    }
   ],
   "source": [
    "features_df = images.repartition(16).select(\n",
    "    col(\"path\"),\n",
    "    col(\"label\"),\n",
    "    featurize_udf(\"content\").alias(\"features\")\n",
    ")"
   ]
  },
  {
   "cell_type": "markdown",
   "id": "ef2385c9-998f-4f15-a5cc-fec13b7816bb",
   "metadata": {},
   "source": [
    "## 2.5 Réduction de dimension  "
   ]
  },
  {
   "cell_type": "markdown",
   "id": "546f8ff6-4049-4b1a-aa92-04db7c9d581a",
   "metadata": {},
   "source": [
    "La couche de sortie de modèle est de dimension 1280.  \n",
    "Réduire cette dimension permettra :  \n",
    "- d'accélérer les temps d'entraînement et d'inférence du modèle de classification qui sera utilisé par la suite  \n",
    "- de diminuer le risque de surapprentissage (overfitting) de ce même modèle en réduisant le nombre de variables d'entrée\n",
    "\n",
    "Les implémentations de StandardScaler et de PCA dans PySpark sont optimisées pour fonctionner sur des clusters de calcul distribué et peuvent traiter de grandes quantités de données en parallèle.  \n",
    "Le code utilisé ici calcule le nombre de composantes principales nécessaires pour conserver 90 % de la variance, de manière à conserver la majorité de l'information contenue dans les caractéristiques extraites, tout en éliminant les dimensions qui contribuent le moins à la variance totale. Ce choix de 90 % pourra être ajusté en fonction des résultats du modèle de classification (performances prédictives / performances computationnelles)."
   ]
  },
  {
   "cell_type": "markdown",
   "id": "75badcc6-7c84-471f-a356-0cc743a8477d",
   "metadata": {},
   "source": [
    "### 2.5.1 Mise à l'échelle : StandardScaler  \n",
    "Les table de données résilientes (Resilient Distributred Datasets ou __RDD__) sont l'un des éléments clé de Spark. Il s’agit d’un ensemble d’enregistrements ou objets d’un type spécifique, partitionnés ou distribués sur plusieurs nœuds du cluster. Les RDDs sont tolérants aux pannes : si un nœud est touché par une défaillance matérielle ou de réseau, la table résiliente est reconstruite automatiquement sur les autres nœuds et la tâche achevée.  \n",
    "La principale propriété des RDDs est que Spark peut les mettre en cache mémoire (RAM) de chaque nœud. Cela permet d’économiser énormément d’accès disques et donc une amélioration significative en terme de temps de calcul.  \n",
    "\n",
    "Les objets gérés dans les RDDs ont des types spécifiques que PySpark permet d'implémenter via le sous module `pyspark.ml.linalg` qui fait partie de l'API MLlib (Machine Learning Library). Ce module fournit des classes et des fonctions pour manipuler et représenter des vecteurs, des matrices et des opérations linéaires, qui sont utilisés dans les algorithmes de machine learning distribués de Spark.  \n",
    "\n",
    "<u>L'implémentation de `StandardScaler` dans PySpark se fait de manière classique, mais nécessite en entrée des 'vecteurs denses' (sans données manquantes) de type `VectorUDT` :"
   ]
  },
  {
   "cell_type": "code",
   "execution_count": 17,
   "id": "8955b220",
   "metadata": {},
   "outputs": [
    {
     "data": {
      "application/vnd.jupyter.widget-view+json": {
       "model_id": "",
       "version_major": 2,
       "version_minor": 0
      },
      "text/plain": [
       "FloatProgress(value=0.0, bar_style='info', description='Progress:', layout=Layout(height='25px', width='50%'),…"
      ]
     },
     "metadata": {},
     "output_type": "display_data"
    }
   ],
   "source": [
    "# Convertion des features en format VectorUDT\n",
    "to_vector_udf = udf(lambda features: Vectors.dense(features), VectorUDT())\n",
    "features_df = features_df.withColumn(\"features\", to_vector_udf(\"features\"))"
   ]
  },
  {
   "cell_type": "code",
   "execution_count": 18,
   "id": "ca7c8b68",
   "metadata": {},
   "outputs": [
    {
     "data": {
      "application/vnd.jupyter.widget-view+json": {
       "model_id": "",
       "version_major": 2,
       "version_minor": 0
      },
      "text/plain": [
       "FloatProgress(value=0.0, bar_style='info', description='Progress:', layout=Layout(height='25px', width='50%'),…"
      ]
     },
     "metadata": {},
     "output_type": "display_data"
    }
   ],
   "source": [
    "# Initialisation du StandardScaler\n",
    "scaler = StandardScaler(\n",
    "    inputCol=\"features\",\n",
    "    outputCol=\"scaled_features\",\n",
    "    withMean=True,\n",
    "    withStd=True\n",
    ")"
   ]
  },
  {
   "cell_type": "code",
   "execution_count": 19,
   "id": "d0c12d87",
   "metadata": {},
   "outputs": [
    {
     "data": {
      "application/vnd.jupyter.widget-view+json": {
       "model_id": "",
       "version_major": 2,
       "version_minor": 0
      },
      "text/plain": [
       "FloatProgress(value=0.0, bar_style='info', description='Progress:', layout=Layout(height='25px', width='50%'),…"
      ]
     },
     "metadata": {},
     "output_type": "display_data"
    }
   ],
   "source": [
    "# Ajustement du StandardScaler\n",
    "scaler_model = scaler.fit(features_df)"
   ]
  },
  {
   "cell_type": "code",
   "execution_count": 20,
   "id": "ddb537a1",
   "metadata": {},
   "outputs": [
    {
     "data": {
      "application/vnd.jupyter.widget-view+json": {
       "model_id": "",
       "version_major": 2,
       "version_minor": 0
      },
      "text/plain": [
       "FloatProgress(value=0.0, bar_style='info', description='Progress:', layout=Layout(height='25px', width='50%'),…"
      ]
     },
     "metadata": {},
     "output_type": "display_data"
    }
   ],
   "source": [
    "# Mise à l'échelle\n",
    "scaled_features_df = scaler_model.transform(features_df)"
   ]
  },
  {
   "cell_type": "markdown",
   "id": "abe6a30e-64b2-4923-83b3-f8d5bd4e9daa",
   "metadata": {},
   "source": [
    "### 2.5.2 Réduction de dimension : PCA  \n",
    "Les premiers tests ont montré une reduction à 342 composantes pour conserver 90 % de la variance.  \n",
    "\n",
    "<u>Afin de réduire les temps de traitement, la PCA est initialisée à 350 composantes :"
   ]
  },
  {
   "cell_type": "code",
   "execution_count": 21,
   "id": "d825230e",
   "metadata": {},
   "outputs": [
    {
     "data": {
      "application/vnd.jupyter.widget-view+json": {
       "model_id": "",
       "version_major": 2,
       "version_minor": 0
      },
      "text/plain": [
       "FloatProgress(value=0.0, bar_style='info', description='Progress:', layout=Layout(height='25px', width='50%'),…"
      ]
     },
     "metadata": {},
     "output_type": "display_data"
    }
   ],
   "source": [
    "# Initialisation de la PCA\n",
    "pca = PCA(k=350, inputCol=\"scaled_features\", outputCol=\"pca_features\")"
   ]
  },
  {
   "cell_type": "code",
   "execution_count": 22,
   "id": "9d6c3e2b",
   "metadata": {},
   "outputs": [
    {
     "data": {
      "application/vnd.jupyter.widget-view+json": {
       "model_id": "",
       "version_major": 2,
       "version_minor": 0
      },
      "text/plain": [
       "FloatProgress(value=0.0, bar_style='info', description='Progress:', layout=Layout(height='25px', width='50%'),…"
      ]
     },
     "metadata": {},
     "output_type": "display_data"
    }
   ],
   "source": [
    "# Ajustement du modèle PCA\n",
    "pca_model = pca.fit(scaled_features_df)"
   ]
  },
  {
   "cell_type": "markdown",
   "id": "8b9b2c2c-27a1-45e5-97f0-2b5e18768ebe",
   "metadata": {},
   "source": [
    "<u>Calcul du nombre de composantes à conserver :"
   ]
  },
  {
   "cell_type": "code",
   "execution_count": 23,
   "id": "acff8cb1",
   "metadata": {},
   "outputs": [
    {
     "data": {
      "application/vnd.jupyter.widget-view+json": {
       "model_id": "",
       "version_major": 2,
       "version_minor": 0
      },
      "text/plain": [
       "FloatProgress(value=0.0, bar_style='info', description='Progress:', layout=Layout(height='25px', width='50%'),…"
      ]
     },
     "metadata": {},
     "output_type": "display_data"
    }
   ],
   "source": [
    "# Récupération de la variance expliquée pour chaque composante\n",
    "explained_variance = pca_model.explainedVariance.toArray()"
   ]
  },
  {
   "cell_type": "code",
   "execution_count": 24,
   "id": "1a0428b6",
   "metadata": {},
   "outputs": [
    {
     "data": {
      "application/vnd.jupyter.widget-view+json": {
       "model_id": "",
       "version_major": 2,
       "version_minor": 0
      },
      "text/plain": [
       "FloatProgress(value=0.0, bar_style='info', description='Progress:', layout=Layout(height='25px', width='50%'),…"
      ]
     },
     "metadata": {},
     "output_type": "display_data"
    },
    {
     "name": "stdout",
     "output_type": "stream",
     "text": [
      "Nombre de composantes expliquant au moins 90 % de la variance : 342"
     ]
    }
   ],
   "source": [
    "# Calcul du nombre de composantes nécessaires pour expliquer au moins 90 % de la variance\n",
    "cumulative_variance = np.cumsum(explained_variance)\n",
    "num_components = int(np.argmax(cumulative_variance >= 0.90) + 1)\n",
    "\n",
    "print(f\"Nombre de composantes expliquant au moins 90 % de la variance : {num_components}\")"
   ]
  },
  {
   "cell_type": "markdown",
   "id": "abd6aa2d-93c0-45cd-a327-bf5f96b72668",
   "metadata": {},
   "source": [
    "<u>Extraction des premières composantes :"
   ]
  },
  {
   "cell_type": "code",
   "execution_count": 25,
   "id": "54ab236e",
   "metadata": {},
   "outputs": [
    {
     "data": {
      "application/vnd.jupyter.widget-view+json": {
       "model_id": "",
       "version_major": 2,
       "version_minor": 0
      },
      "text/plain": [
       "FloatProgress(value=0.0, bar_style='info', description='Progress:', layout=Layout(height='25px', width='50%'),…"
      ]
     },
     "metadata": {},
     "output_type": "display_data"
    }
   ],
   "source": [
    "# Transformation du DataFrame en utilisant le modèle PCA ajusté\n",
    "pca_features_df = pca_model.transform(scaled_features_df)"
   ]
  },
  {
   "cell_type": "code",
   "execution_count": 26,
   "id": "1ff502f6",
   "metadata": {},
   "outputs": [
    {
     "data": {
      "application/vnd.jupyter.widget-view+json": {
       "model_id": "",
       "version_major": 2,
       "version_minor": 0
      },
      "text/plain": [
       "FloatProgress(value=0.0, bar_style='info', description='Progress:', layout=Layout(height='25px', width='50%'),…"
      ]
     },
     "metadata": {},
     "output_type": "display_data"
    }
   ],
   "source": [
    "# UDF pour extraire les 'num_components' premières composantes\n",
    "extract_components_udf = udf(lambda vector: Vectors.dense(vector[:num_components]), VectorUDT())"
   ]
  },
  {
   "cell_type": "code",
   "execution_count": 27,
   "id": "9d3d4a77",
   "metadata": {},
   "outputs": [
    {
     "data": {
      "application/vnd.jupyter.widget-view+json": {
       "model_id": "",
       "version_major": 2,
       "version_minor": 0
      },
      "text/plain": [
       "FloatProgress(value=0.0, bar_style='info', description='Progress:', layout=Layout(height='25px', width='50%'),…"
      ]
     },
     "metadata": {},
     "output_type": "display_data"
    }
   ],
   "source": [
    "# Application de l'UDF pour créer la colonne 'pca_features'\n",
    "pca_features_df = pca_features_df.withColumn(\"pca_features\", extract_components_udf(\"pca_features\"))"
   ]
  },
  {
   "cell_type": "markdown",
   "id": "89128bef-3b52-4ac3-8b94-b07ba3de5601",
   "metadata": {},
   "source": [
    "<u>Vérification par affichage des premières lignes du dataframe :"
   ]
  },
  {
   "cell_type": "code",
   "execution_count": 28,
   "id": "086f520c",
   "metadata": {},
   "outputs": [
    {
     "data": {
      "application/vnd.jupyter.widget-view+json": {
       "model_id": "",
       "version_major": 2,
       "version_minor": 0
      },
      "text/plain": [
       "FloatProgress(value=0.0, bar_style='info', description='Progress:', layout=Layout(height='25px', width='50%'),…"
      ]
     },
     "metadata": {},
     "output_type": "display_data"
    },
    {
     "data": {
      "text/html": [
       "<table><tr><th>path</th><th>label</th><th>features</th><th>pca_features</th></tr><tr><td>s3://cap9-fruits/img/Pineapple Mini/132_100.jpg</td><td>Pineapple Mini</td><td>[0.0,4.777818202972412,0.0,0.0,0.0,0.0,0.09176623076200485,0.05137640982866287,0.0,0.0,0.0,0.0,0.3982822597026825,0.0,0.0,0.0,0.0,0.18929213285446167,0.0,0.05891105905175209,0.0,0.0,0.0,1.3003057392779738E-4,0.0,0.0,0.0,0.0,1.0020654201507568,0.0,0.0,0.0,0.0,4.588894367218018,0.0,0.4349501132965088,0.31607043743133545,0.03229225054383278,0.4645872414112091,0.0,0.0,0.0,0.0,0.006966931279748678,1.094490647315979,0.0,0.6153271198272705,0.0,0.1776985228061676,0.2667357325553894,0.14580853283405304,0.18024355173110962,0.0,0.0,0.16595979034900665,0.6981455683708191,0.0,0.0,0.3847625255584717,0.0,8.483322453685105E-4,0.0,0.004002707544714212,1.0375571250915527,0.6485270261764526,0.0,0.0,0.12219706177711487,0.06180911138653755,0.1944226771593094,0.0,2.365962266921997,0.0,2.6850106716156006,1.4243168830871582,1.6144845485687256,0.0,0.0,0.0,0.0,0.0,0.0,0.0,0.0,0.22834719717502594,0.0,0.0,1.1184167861938477,0.004445572383701801,1.3478590250015259,0.023270217701792717,0.7841929793357849,0.12583667039871216,0.0,0.9007768630981445,0.0,0.0,0.0,0.0,0.0,1.2656335830688477,0.6054572463035583,0.0,0.0,0.009620296768844128,0.0,0.8005463480949402,0.3127392828464508,0.0,0.0,0.0,0.014120939187705517,0.08847963809967041,1.6967217922210693,0.0828467458486557,0.004760158248245716,0.7946869134902954,0.0,0.0016655143117532134,0.3615308403968811,0.03666514903306961,0.0,0.0,0.04673198610544205,0.0,0.0,0.0,0.8258386850357056,0.19194665551185608,0.0,0.0018386451993137598,0.0,1.1953140497207642,0.0,0.0,0.0,0.0,0.0,0.21933084726333618,0.01433830801397562,0.0,0.0,0.14127764105796814,0.0,0.0,0.01621028408408165,0.2619239389896393,0.011606157757341862,0.12495796382427216,0.0,0.0,0.0,1.5325815677642822,0.0,0.4249478578567505,1.2919729948043823,0.048267900943756104,0.0,3.331209182739258,0.005700714886188507,0.0,1.083776831626892,0.0,0.0,0.005030300933867693,0.41692984104156494,0.0,2.0570175647735596,0.008209520019590855,0.0,0.0,0.0,0.0,0.0,0.0,0.020301692187786102,0.8376657962799072,0.0,0.0,0.11210618913173676,0.0,0.009015063755214214,0.5143060088157654,0.8730065226554871,0.19439440965652466,0.005483569111675024,0.03573283553123474,1.2353020906448364,0.0,0.0,0.0,0.0,0.2540130317211151,0.0,0.01437021791934967,0.0,0.0,0.0,0.02452894113957882,2.4360899925231934,0.0,0.03038833662867546,0.01593768782913685,0.0,0.0,0.0,0.0,0.0,0.0,0.018910009413957596,0.0,0.0,0.09555725008249283,0.09216257929801941,0.0,0.05082106962800026,0.06553073972463608,0.0,0.8406519889831543,0.0,0.24653339385986328,0.0,0.11315127462148666,0.0029013692401349545,0.20705164968967438,0.0,3.308377981185913,0.0,0.7444543838500977,0.14120201766490936,1.815775990486145,0.0,0.0,0.07727758586406708,0.0,0.0,1.439867615699768,0.0,0.024968478828668594,0.4444742500782013,0.0,0.28096869587898254,0.0,0.23931527137756348,0.0,0.19150513410568237,0.7878431081771851,0.0,0.0,0.11436454951763153,0.0,0.0,0.04242130368947983,1.2691395282745361,0.14346234500408173,0.9093031883239746,0.0,0.0,1.7019226551055908,0.0680575966835022,0.0,0.014115576632320881,0.42955249547958374,0.0,0.0,0.0,0.0,0.0,0.0,0.0,0.0,0.02103215828537941,0.47972744703292847,0.24448570609092712,0.0,0.0,1.8666627407073975,0.3365330994129181,0.07346764206886292,0.0,0.08761806041002274,0.0,0.0,0.0,0.42402383685112,0.029495161026716232,0.0,1.4500255584716797,0.007724246010184288,0.0,0.14307892322540283,0.18404462933540344,0.0,0.0,0.0033657210879027843,0.7498202323913574,0.0,0.0,0.14293526113033295,0.0,0.0,0.0,8.032273035496473E-4,0.014277263544499874,0.0,0.0,0.0,0.0,1.2748125791549683,0.5408792495727539,0.0,0.0,0.0,0.5651007890701294,0.0,0.0,0.0,0.0,0.0,0.0,0.0,0.778503954410553,0.007506983820348978,0.1641051173210144,4.821115580853075E-4,0.009960806928575039,0.0,0.21087145805358887,0.2766784429550171,1.4615167379379272,0.0,0.009129115380346775,0.06198306009173393,0.35273975133895874,0.0,2.5822041034698486,0.014216160401701927,0.0,0.0,0.0,0.6512600779533386,0.0,3.62907075881958,0.2913113832473755,0.0,0.9540227651596069,0.0,0.0,0.018852194771170616,0.0,0.0,0.21105416119098663,0.0,0.0,0.0,0.006215582136064768,0.0,0.0,0.010898599401116371,0.06981388479471207,0.0,0.0,0.0,0.8252170085906982,0.0,0.0,0.0,0.0,0.15429793298244476,0.0,0.023707175627350807,0.2336878478527069,0.0011547341709956527,0.0,0.0,0.19020679593086243,0.16164332628250122,3.5891096591949463,0.0,0.0,0.0,0.0,0.07442901283502579,0.0,0.03221535310149193,0.0,0.0,0.0,0.0,0.0,1.5982184410095215,0.0,0.0,0.0,0.0,0.008917040191590786,0.0,0.0,0.0,0.41339215636253357,0.0,0.0,0.0,1.9480960369110107,0.0,0.4316561222076416,0.0,0.0,0.13235987722873688,0.0,0.0,0.28460898995399475,0.017036758363246918,1.6425068378448486,0.41694650053977966,0.08499469608068466,0.22967925667762756,0.5499157309532166,0.4447324275970459,3.174956946168095E-4,0.0,2.901108741760254,0.0,0.0,0.0,0.3916880190372467,0.3701190948486328,0.0,0.0,0.3274851143360138,0.36492815613746643,0.0,0.0031629193108528852,0.0,0.0,1.800345540046692,0.23544926941394806,0.0,0.0,0.11658966541290283,0.07945940643548965,0.15798449516296387,0.8702463507652283,0.03964948654174805,0.0,1.8426225185394287,0.0,0.0,0.0,0.0,0.001307584811002016,0.3451521098613739,0.44809725880622864,0.0,0.007784123532474041,0.0,0.7052131295204163,0.0032721247989684343,0.012243456207215786,0.0,1.5294249057769775,0.0,0.13939787447452545,0.9607897400856018,0.6608695983886719,0.004963874816894531,0.0,0.0153026869520545,0.009924372658133507,3.080521583557129,0.018348712474107742,0.0,0.0,2.688526153564453,0.0,0.0,2.699718475341797,0.0,0.0,0.19566620886325836,0.0,0.0,0.0,0.29845964908599854,0.08177325874567032,0.0,0.08382266759872437,0.20888514816761017,0.12640170753002167,0.8848795890808105,0.0,0.0,0.0,0.3837842643260956,0.8590949773788452,0.0,0.998681902885437,0.011955679394304752,0.0,0.0,0.21839497983455658,0.7151492238044739,0.0,0.0,0.0,0.0,0.0,0.0,0.009320268407464027,0.0,0.0063934619538486,1.1659033298492432,0.38319286704063416,0.09066000580787659,0.027643593028187752,0.0,0.0,0.0,0.0,0.2454589307308197,0.0,2.3491527826990932E-5,0.0,0.22121676802635193,0.0,0.0,0.12825368344783783,0.0027535399422049522,0.34493544697761536,0.0,0.017202386632561684,0.0,0.0,0.015217927284538746,0.10352525115013123,0.09260326623916626,0.0,0.6363140940666199,0.0,0.11483536660671234,0.0,0.0,0.0,0.0,1.0439960956573486,0.2903793752193451,0.0,0.0,1.0950531959533691,0.06651779264211655,0.0,0.0,3.5369640681892633E-4,1.0252354145050049,0.03979220613837242,0.41799458861351013,0.611730694770813,0.0,0.052970945835113525,0.0,0.0,0.0,0.0,0.005011091474443674,0.06454622745513916,0.288731187582016,0.020868048071861267,0.5502790212631226,0.0,0.0,0.2873782217502594,2.4304726123809814,0.0,0.0,0.3436206877231598,0.0,0.0,0.0,0.30808064341545105,0.7035568356513977,0.0,0.0,0.0,0.0,0.0,0.024753239005804062,0.06989609450101852,0.0,0.730586051940918,0.0,0.0,0.0,1.2258622646331787,0.008184043690562248,0.0,0.04006383940577507,0.0,0.0,0.0228714756667614,0.44295525550842285,0.0,2.662590265274048,0.3755074441432953,0.0,0.0,0.0,0.5488520264625549,0.024925503879785538,0.0,0.06468871235847473,0.3664773106575012,0.0,0.0,0.0,0.4704732298851013,0.0,0.0,0.02721092663705349,0.0,0.0,0.0,0.8045802712440491,0.0700635313987732,0.0,0.08375535905361176,0.0,0.008250907994806767,0.0,0.0,0.0,2.074209213256836,0.04236547276377678,0.04544456675648689,0.0,0.0,0.0,1.470126986503601,1.8555799722671509,0.0,0.0,0.0,0.002854668302461505,0.0,0.0,0.0,0.030450839549303055,0.0,0.015431647188961506,0.043493058532476425,0.0,0.0,0.0,0.0,0.0,0.10631564259529114,0.0,0.0018658345798030496,0.0,0.1341915875673294,0.08583288639783859,0.0699714720249176,0.34304070472717285,0.0,0.2698981761932373,0.0,0.0,0.0,0.0,0.0,0.0,0.0,0.0018284466350451112,3.467164993286133,0.0,0.0,2.671110153198242,0.0,0.0,0.0,0.0,0.0,0.0,0.12766672670841217,0.0,0.0,0.0,0.0,0.011833492666482925,0.0,0.0,0.452169269323349,0.0,0.08005063235759735,0.0,0.0,0.07260408252477646,0.0,0.0,0.0,0.0,0.0,0.0,0.0,0.0,0.0,0.0,0.0,0.0,0.0,1.334800124168396,0.12499796599149704,1.5763062238693237,0.0,0.0,2.8165886402130127,0.42678505182266235,0.1438683718442917,0.0,0.0,2.0337910652160645,0.34814563393592834,8.914811187423766E-4,0.0,1.6998475790023804,0.0,0.8158503770828247,0.0,0.0,0.0029630856588482857,0.026719501242041588,0.0,0.022477898746728897,0.0,0.0,0.332751989364624,0.4227045774459839,1.7069851160049438,0.0,0.0,0.0,0.0,0.31338196992874146,0.0,0.7424680590629578,0.010598104447126389,0.0,0.0,0.0,0.0,0.0,6.8411536631174386E-6,0.0,0.0,1.3608524799346924,0.0,0.0,0.015003759413957596,0.0021312383469194174,0.8101707100868225,0.0,1.815399169921875,0.011055528186261654,0.38895899057388306,0.0,0.0,0.0,0.023152409121394157,0.10746517032384872,0.0,0.0,1.3254599571228027,0.0023869883734732866,0.06532220542430878,0.036750033497810364,0.0031206461135298014,0.0032300364691764116,0.0823528841137886,0.0,0.021631892770528793,0.5704329609870911,0.0,0.5695809125900269,0.0,0.24388056993484497,0.1496821790933609,0.0,0.005371025763452053,0.05154247581958771,0.0,0.0,0.0,0.0,0.8476762771606445,0.0,0.2953318655490875,0.0,0.0,0.0,0.0,0.01854369044303894,0.43434247374534607,0.0,0.0,0.0,0.14860570430755615,0.0,0.0,0.0,0.0,0.0,1.1886277198791504,0.0,0.0,0.0,3.228585720062256,0.0,0.0,0.00707906624302268,0.0,0.10150805115699768,1.2172271013259888,0.0,0.0,0.0,0.0,0.0,0.0,0.1320207417011261,0.0,0.00390721345320344,0.15806162357330322,0.0,0.06743703782558441,0.0,0.16813336312770844,0.0,3.1061463356018066,0.1686234027147293,0.0,0.0,0.0,1.2079808712005615,0.0,0.0895179733633995,0.0,2.068542957305908,0.24446417391300201,0.0,0.27823418378829956,0.0,0.0,3.221749782562256,0.0,1.6575583219528198,0.39110174775123596,0.0,0.2995886504650116,0.0,0.009916120208799839,0.0,0.024646351113915443,0.01557064987719059,0.0,0.0,0.0,0.0,0.0,0.2997041940689087,0.0,0.0,0.0,0.3576999604701996,0.06945594400167465,0.0,0.0545329749584198,0.0,0.0,0.06311909109354019,0.12042004615068436,0.06396450102329254,0.0,0.0442417673766613,0.22865886986255646,0.0,0.0,0.7723268270492554,0.0,0.0,0.10097096860408783,0.22889138758182526,0.0,0.01879432238638401,0.0,0.09250382333993912,0.0,0.8015360236167908,0.08020767569541931,0.409106969833374,0.0,0.5968509316444397,0.0,0.323976993560791,0.6011251211166382,0.0,0.05622709169983864,0.1523175686597824,0.0,0.0,0.0,0.0,0.02880137227475643,0.010194194503128529,0.0,0.695402204990387,0.0519099235534668,0.011196729727089405,0.008145303465425968,0.013187875971198082,0.0,0.0,0.0015841795830056071,1.8763091564178467,0.15149328112602234,0.0,0.0,0.0,1.125978708267212,0.10459214448928833,0.0,0.0,0.0,0.0,0.0,1.5297714471817017,0.009788542054593563,0.0,0.02918095514178276,0.7639581561088562,0.0,1.881400465965271,0.0,0.0,0.0,0.15265025198459625,0.03894802927970886,0.0,0.13566510379314423,0.8906093239784241,0.011516901664435863,0.0,0.37295785546302795,0.320674866437912,0.004024301189929247,0.018098412081599236,0.014243573881685734,0.0,0.1213206946849823,0.0,0.11822903901338577,0.0,0.23292237520217896,0.0,0.0,0.0,0.5305505990982056,0.3180922269821167,0.0,0.9551019668579102,0.0,4.243558406829834,1.157711386680603,0.0670086219906807,0.07134339958429337,4.521254062652588,0.0,0.0,0.0,0.014067251235246658,0.0,0.0,0.36713001132011414,0.2742321193218231,0.023875372484326363,0.0,0.0,0.0,0.0,0.3539557456970215,0.0,0.0,0.48043137788772583,0.012399761006236076,0.010246734134852886,0.26857370138168335,0.019350003451108932,0.0,0.0,0.0,0.0,0.0,0.8723484873771667,0.9350435733795166,0.5930677056312561,0.0,0.0,0.0,0.0,0.4278883635997772,0.0,0.0,0.0,0.0,0.0,0.0,0.0,0.3626389801502228,0.030137859284877777,0.0,0.43054723739624023,0.0,0.0,0.01030131708830595,0.0026147025637328625,0.0,0.02366175875067711,0.0,0.03384177386760712,0.0,0.0,0.0,0.0,0.0,0.19064483046531677,0.0,0.8946737051010132,0.26584216952323914,0.4948822259902954,0.0,0.0,0.018477080389857292,0.21869488060474396,0.0,0.0,0.007463766727596521,0.017507923766970634,1.0739808082580566,0.0,0.7435157895088196,0.31145909428596497,3.2330079078674316,0.004807705990970135,0.0,0.0,0.0,0.16203957796096802,0.0,0.22376656532287598,0.0,0.1868012696504593,0.0,0.10765619575977325,0.0,0.06692485511302948,0.021397210657596588,0.03887511417269707,0.0,1.0253748893737793,0.0,0.082945816218853,0.0,0.886224091053009,0.030011886730790138,0.0,0.0,0.36300358176231384,0.0,0.0,0.6975756287574768,0.07684417814016342,0.906432032585144,0.01591438241302967,0.0,0.0,0.0,3.239694356918335,0.1066877692937851,0.2953784465789795,0.0,0.0,0.0,0.004951652139425278,0.0,0.7539831399917603,0.024300584569573402,0.04384788125753403,0.0,0.016527565196156502,0.006271732039749622,0.039577797055244446,0.0,0.06587820500135422,0.0,0.10187359154224396,1.096242904663086,0.4111924469470978,0.0,0.0,0.2574728727340698,0.0,0.0,0.0,0.0,0.0540485680103302,0.0,0.0,0.020372526720166206,0.0,0.0,0.024851292371749878,0.0,0.0,0.09475202858448029,0.05126253515481949,0.0,0.0,0.08622448146343231,0.12561295926570892,0.0,0.002875405829399824,0.0,0.0,0.0,0.0,0.0,2.2530243396759033,0.0,1.2626887559890747,3.0361931324005127,0.03073154203593731,0.8853902220726013,0.0,0.005084310192614794,0.2641368508338928,0.09775187075138092,0.0,0.0,0.0,0.0,0.0,0.0,0.0,0.0,0.7587822079658508,0.5134271383285522,0.1282474398612976,0.0,0.6903958916664124,0.0,0.01666487567126751,0.0,0.0060127899050712585,0.0,0.5145556926727295,0.0,0.0,0.0,0.0,0.0,1.3432185649871826,0.0,0.022261882200837135,0.0,0.17328771948814392,0.0,0.0,0.010045801289379597,0.0,0.0,0.0,0.0,0.04756016656756401,0.023960240185260773,0.004714274778962135,0.0,0.31794869899749756,0.0,0.0,0.0,0.0,1.1043375730514526,0.6955444812774658,0.0,0.14914125204086304,0.16156694293022156,0.07490088790655136,0.0,0.0,0.05169373005628586,0.0,0.0,1.0928571224212646,0.22307029366493225,1.986581563949585,1.1480200290679932,0.0,0.23541738092899323,0.0,4.106533527374268,0.3433254063129425,0.029124006628990173,1.733670949935913,0.005257684271782637,0.0,0.0,0.032590895891189575,0.017036398872733116,0.08612873405218124,0.0,0.42829591035842896,0.4251338541507721,0.0,0.5416953563690186,0.0,0.011933171190321445,1.4167227745056152,0.0,0.2855045795440674,0.0,0.002084556967020035,0.0,0.004311629571020603,0.0,0.0,0.0,0.0,0.5493401885032654,0.22827814519405365,1.5222268104553223,0.0,0.0,0.5522037148475647,0.0,0.0,0.0,0.14862443506717682,0.0,0.29969701170921326,0.0,0.36630451679229736,0.0,0.06394591927528381,0.0,0.0,0.18299387395381927,0.0663432776927948,0.0,0.18284644186496735,0.040480975061655045,0.0,0.0,0.0,0.7884839177131653,0.2815859317779541,0.0,0.026722509413957596,0.07267455756664276,0.0,0.0,0.0,1.1379785537719727,0.0,0.0,0.013820239342749119,0.2750350832939148,0.4521808326244354,0.0,0.0,0.0,0.0,0.08602720499038696]</td><td>[-8.785913288625945,5.841628246589612,1.7655500244664033,-13.69783090373012,-12.97604795408102,-1.772958089547789,-3.444157125989268,9.127108780026226,-6.266108800509823,6.329802362230572,-7.6791976373092,-6.662824851277458,-6.49592390487941,-9.233793102949486,2.086887747840219,-3.51560073460862,3.9922079300338327,0.12113892041522274,2.0336453271161443,-2.032984441560627,1.8371493468087157,-1.431126132422827,-1.7087758857235855,-8.334965696139909,-1.448597342662042,-0.4340809769460331,1.97865737391846,1.5497333220128948,-0.38035207058942694,-1.1663228197760644,1.1286643905594687,-0.5492098569215128,-1.189142208196598,-1.0937546680621106,6.7508437029825545,0.10066361575537096,5.065418282516355,-0.014930421745991925,1.2006364282169288,3.2920545938788295,3.0020361970535556,-2.123053658251106,0.9133987470387745,3.110300853874601,5.3544402610501365,1.2001093800477565,-0.05967380524364927,-4.51931743356315,-0.2553932491942008,-2.8058704324335775,-3.3484949864864824,-1.3377720167348377,2.3093866086247994,3.1751382484039046,3.2899416019810612,1.8781142378221607,0.8070320434327465,1.209439207575132,2.6030914353816534,1.0680151662153963,0.8817161536370647,2.4008344337978293,-4.929209360771088,1.7573848112246506,-1.7257825778691325,0.723657052457845,0.20051455693362277,-0.7332806633504386,-0.9538329829174859,4.452926234480249,-0.6792310614250174,1.4763925361033527,-5.335541855499298,3.1603792960960444,-1.6496706986502772,-3.4336207219953985,-0.49818856004757905,0.11289183194604131,1.0713072061578925,2.237180388363115,0.9510400839873246,-1.7008007315199118,-0.7945047045731397,2.580332523476105,2.8788445627688457,-2.530730195296554,0.4642397175116009,4.326001471293041,-1.781968035440753,1.0826196448253713,0.1327125274646977,-2.3279773247024482,0.19689841302334887,0.37332064317274405,-1.297702737011281,1.5938048531257851,0.45191762601850066,0.1256216981276031,-1.2484813591031945,-2.299406203846594,3.128742077843713,2.1737492027126697,-0.7636766146234915,-1.0842745056957295,0.14778270413692515,0.9410176199269441,1.0757166045691582,0.019278446497457493,1.5953187035613492,1.9528216454829879,-1.1427040800541994,-0.5972373319616184,-0.00825178097678715,1.3172467842397304,-0.8485911660092912,-3.6572424899877785,0.4634996354225034,0.9963285850026212,0.14647905175673145,0.7032187400739327,2.835140512823489,2.9432433156249327,0.6076927496424974,0.103970019261404,-1.5950892611461132,0.5166078666809392,0.2908347375433238,-2.1820333714000837,-1.2356207878165473,0.6138240894314829,-0.2432313810785311,0.17449374026194722,0.6080413455205542,0.10328377831941075,-1.996775642932711,1.2827129528962966,0.8247130561262017,-0.14147895618739562,-2.0350302912015636,-0.4844710953687221,0.6960295898766249,0.947060013001132,1.2225922485955367,-1.7118112526985758,-0.9329660967097384,-1.5738043924652214,1.0578201552287905,-1.192485567902625,-0.5809602363898404,1.0276837869751752,-1.6980698507844134,0.5198062072377615,-0.2432704925719778,0.3667575723628983,0.4668577410612377,0.6712435459192516,-2.8561727842095075,-0.36344530047724044,-0.05336923227666402,1.32492834865577,1.2771053961954735,1.1983832779766916,0.2123745616574541,-0.218936483844867,-1.171749298621084,-0.14010536937546367,0.01631273193731355,0.2627398200425559,0.42508266759033664,1.6982270066010454,-1.42296846686269,-1.7980317679736504,-0.2765483919129496,1.765960393271211,1.3290963331990249,-1.2934387171259254,-0.4831888816086181,1.9848149058842075,1.6781533216131286,0.7438317498911419,-0.5746388688562689,1.2682123416371722,-0.7489379153066175,1.0500475200883723,2.357068913111959,0.6308846468287388,-0.09385343157712724,-0.780189826657565,0.8420727381661032,-0.2548231904222998,-0.05503229626557971,-0.20780160809890508,-0.2536805567888207,0.21045699294932932,0.8592322287694546,-2.8080119039007387,0.821333722260835,-1.5652051066803132,-0.10806238322805205,2.1681426566727855,1.229181427277918,-0.7685884585126963,-0.31589517347692797,1.1640668113495445,0.7020501489956646,0.27724142983069006,0.36308561613156964,-1.3548349670025321,-0.3076362211071157,-0.28703980536024676,-0.10937118626163041,-0.7761008714450288,-1.176162837771664,-0.4459420449995246,-0.019534318926798907,0.017182446039043665,1.5427572402695924,-0.6719429563919976,-0.3841200774717889,0.2530448822452213,-0.9483107358171198,1.8829669346204219,-0.48930864767802573,0.2547657942525563,0.04186795205144586,-0.33034394133910655,1.0614841501334846,-0.9462001027813334,0.010109341634802095,0.48041153121272145,0.7837123543433249,-0.2847388791097004,-0.8513340264099737,-0.23186225002480979,1.1211318590583175,0.5031981011236746,0.838645312032481,0.5016662707858369,0.02681538192134268,-0.3082979311239537,-0.885043739769285,0.31011901144315646,-1.0393959225836695,-0.2237414806319668,1.2588145323063433,-1.2665993766688586,-0.3106132398737573,-1.5119701755675303,0.15884681710869686,1.039123090155522,0.2414402086736247,0.04372502241257809,-0.4480832845616085,0.24405195440658234,-0.0856540415913569,-1.8900858348749245,-1.5641181936468176,-0.5289986601744736,0.6501200677946958,-1.2001042091894565,-1.225837368912837,-0.8823682687345665,0.3703697233970045,-0.25733997876314757,-0.13088098148002078,0.5029268162323377,-0.5776384351927918,0.6548211746265381,0.48336756474555603,1.2179233346765224,0.39329096525758644,0.8700578557982065,-0.5317320377745678,0.6441483458978187,-0.24975137486360677,-0.8932080692036553,-0.8814609956449507,-1.2123551299308508,-0.34555004667307404,0.2671706305716116,0.3219281895804704,-0.8358775738116111,0.28938910276056334,0.16588582037294697,-0.5871765368600806,0.7435805212081741,0.2466687602675352,1.0024113937804071,-0.24165029636077043,0.5448794723333719,0.6161684915126795,0.5635369187785143,0.7911786583072049,0.16943909193313464,0.11592054214207452,-0.8752295371160116,0.5720419065623933,-0.0593088756909557,-0.12907370788572767,1.1421993206373158,0.695105897731789,-1.4296335505611186,-0.48322536427090707,-0.014474281847565513,-1.3754141750979871,-0.459008025644493,0.8092202671197181,-0.3665051720705124,-0.4645551142465273,-1.0131064825053844,-0.42066164622269414,0.35664827400080035,0.20448620225302608,0.23253961779147406,0.002963579611455315,-0.07234426032030138,-0.21913756285377634,-0.6253285973401586,0.8961901599617826,-1.6160966739538651,0.1715507390660192,-1.1333486725253057,-0.8778500614928972,1.3099256620839184,-0.07098371605751372,-0.5211880977307225,0.05259722437868631,-0.5952378491916095,-0.31317943998902864,0.2728910558039748,-0.18992734969728706,-1.6204333408971936,-0.31212498592537924,0.33994203918389143,0.6831676992569653,0.5099479724967134,-0.21383110129994107,0.5516385393897912,0.857596505531015,-0.35914340299802605,-0.17894907957940137,0.8294799946873761]</td></tr><tr><td>s3://cap9-fruits/img/Watermelon/r_75_100.jpg</td><td>Watermelon</td><td>[0.5762588977813721,0.10962683707475662,0.0,0.005467045120894909,0.41693365573883057,0.0,0.14725619554519653,0.010429129004478455,0.0,0.0,0.6466731429100037,0.04642726853489876,0.8442690372467041,0.38266700506210327,0.16651974618434906,0.0,0.0,0.0,0.0,0.776569128036499,0.0,0.0,0.010219466872513294,0.0,0.0,1.1776268482208252,1.596248745918274,0.0,0.0,1.1356347799301147,0.03971085324883461,0.0,0.7005374431610107,0.6464607119560242,0.0,0.007979918271303177,0.8982274532318115,2.5696794986724854,0.0,0.0,0.04431261494755745,0.0,0.2896096408367157,0.0,0.010755597613751888,0.0,0.8884440660476685,0.43830886483192444,1.2340724468231201,0.1135602593421936,0.0,0.0,0.0,0.0,0.0,1.1769933700561523,0.007728401571512222,0.6561203002929688,0.0,0.15710964798927307,0.009257861413061619,0.021393727511167526,0.011987987905740738,0.0,2.450958490371704,0.7528313398361206,3.306140422821045,0.03149238973855972,0.0,0.010419592261314392,0.0,0.0,0.0,1.3126369714736938,0.13664434850215912,1.0396361351013184,0.12973225116729736,0.0,0.0,0.0,0.0,2.497464179992676,0.14723403751850128,0.31833767890930176,0.0,0.0,2.6122404960915446E-4,0.46315836906433105,1.5191658735275269,1.7105926275253296,0.44038039445877075,0.06532100588083267,0.025229182094335556,0.05009646341204643,1.4326244592666626,0.37774452567100525,1.0160521268844604,0.32306644320487976,0.32985836267471313,0.0,0.24498526751995087,0.0,0.015249709598720074,0.028600547462701797,1.0786205530166626,1.1346927881240845,0.0,0.34079501032829285,0.18442921340465546,0.152631938457489,0.0,0.0,0.0,0.5471903085708618,0.0,0.968743085861206,1.2079471349716187,0.15771928429603577,0.0,0.2937059700489044,0.0,0.0,0.03971264138817787,0.03883000835776329,0.0,0.3217146098613739,0.20284320414066315,2.6464476585388184,2.7114884853363037,0.01511535793542862,0.10759776085615158,2.0875236988067627,0.23695150017738342,0.0,1.5092220306396484,0.0,0.06331339478492737,0.0,1.8982371091842651,2.3444108963012695,0.3123711049556732,0.0,0.17636050283908844,1.6337532997131348,0.0,0.6946607232093811,0.05299187824130058,1.198734998703003,0.015838418155908585,0.6834884881973267,0.14779360592365265,0.0,0.09514246881008148,0.0,0.505216121673584,0.29869720339775085,0.3046219050884247,0.011074328795075417,0.3784253001213074,0.5570957660675049,0.0,0.0,0.0,0.0,1.4537560939788818,3.146329879760742,1.1127126216888428,1.3035485744476318,1.1888386011123657,0.0,0.015065602026879787,0.0,1.251706838607788,0.9241569638252258,0.0,1.268411636352539,0.9560645222663879,1.5872375965118408,0.1875544637441635,0.4211902618408203,0.10809522867202759,0.17653098702430725,0.0,0.0,0.0948944091796875,0.14029310643672943,0.4711523950099945,0.03286346048116684,0.0,0.1364983320236206,0.03218180686235428,0.6815657615661621,0.0,0.26722782850265503,0.4271813929080963,0.0,0.0,0.0,0.0,0.0,1.9624963998794556,0.10237836092710495,0.0,0.0,0.0,8.99100792594254E-4,0.0,0.0,0.7890670895576477,0.41099387407302856,0.0,0.39997151494026184,0.15141640603542328,0.0,0.06221802532672882,0.47177380323410034,0.0396762378513813,0.0,0.5474403500556946,0.009782528504729271,0.27797284722328186,0.0,0.0,1.1215852499008179,0.6016638875007629,0.02763153612613678,0.0,0.43316495418548584,1.6110092401504517,0.7737574577331543,1.2403517961502075,0.1486387401819229,0.7165522575378418,1.929879903793335,0.1575063169002533,0.12143779546022415,0.0,0.0,0.013373900204896927,0.5329251289367676,2.021962881088257,0.6798251271247864,0.0,0.10175024718046188,0.1814289540052414,0.17387938499450684,2.714198589324951,0.0,2.2585060596466064,0.7539843916893005,2.6686501502990723,0.0,0.04696079343557358,0.0,2.155916213989258,0.8106124401092529,0.04399780184030533,0.4118754267692566,0.10785608738660812,0.4233027994632721,0.0,1.8811390399932861,0.023830929771065712,0.8974184393882751,0.0,0.0,0.0,0.0,0.0,0.0,0.0,0.041470564901828766,1.4438235759735107,0.0,0.9136692881584167,0.515352189540863,1.0989961624145508,0.0,0.012714794836938381,0.05255705863237381,0.2840408682823181,0.0,0.050575945526361465,0.5931239724159241,1.342264175415039,0.02687913551926613,0.024410024285316467,0.47833749651908875,0.9405511617660522,0.21452459692955017,0.3114107549190521,0.0,0.22594155371189117,0.0,0.0,1.4507461786270142,0.0,0.010622170753777027,0.0,0.07520180940628052,0.0,0.0,1.0344607830047607,0.14968432486057281,0.18775220215320587,0.0,0.0,0.2190982699394226,0.0,0.15167871117591858,1.7750284671783447,0.8269319534301758,0.0,0.0,1.5326406955718994,0.0,0.0,0.0,0.0,0.020294509828090668,0.16110338270664215,1.6787912845611572,0.8808223009109497,0.19042372703552246,0.0,0.1188003197312355,0.0,0.2791922390460968,0.0,0.0,0.0,0.0,0.05539126321673393,2.1947522163391113,0.0,0.0,0.0,0.0,0.0,1.7236878871917725,0.0,0.7497910261154175,0.0,0.0,0.37053045630455017,0.7443374991416931,0.0023077749647200108,0.0,0.7705844044685364,0.40806257724761963,0.22563421726226807,0.0,0.0,1.3552383184432983,0.0,0.0,0.03810246288776398,0.0,0.4669446051120758,0.0,0.0277728158980608,2.493361711502075,0.02123929001390934,1.3957321643829346,0.25625088810920715,0.0,0.6771675944328308,0.36502379179000854,0.025785241276025772,0.0,0.0,0.0,0.0,0.0,0.5479280948638916,0.0,0.008017958141863346,0.2008722424507141,0.2616020143032074,0.0,0.0,0.44933316111564636,0.11648891121149063,0.0,1.1000311374664307,0.0,0.08866478502750397,0.0,0.0,0.2079981565475464,2.250098705291748,0.0,0.03803882747888565,0.0,0.054962266236543655,0.0,0.0,0.0,0.0,0.6908192038536072,1.5265859365463257,1.2722303867340088,0.05078717693686485,0.0,0.0,0.8950034976005554,0.03166475147008896,0.0,1.2183390855789185,0.04651020094752312,2.499396800994873,1.6821590662002563,0.0,0.09628890454769135,0.27970626950263977,0.0,0.0,0.15822245180606842,0.06596264243125916,2.45463490486145,0.1339881420135498,1.8153213262557983,0.02769034169614315,0.0,0.11766538769006729,1.2324033975601196,1.0519477128982544,0.0,0.0,0.0,0.5516486763954163,0.09899632632732391,0.0,0.0,0.0,0.5792527198791504,0.8491557240486145,0.12752142548561096,0.03558589145541191,0.2634104788303375,0.029147449880838394,0.043347008526325226,1.3033061027526855,0.28396400809288025,1.6744674444198608,0.9390760660171509,0.1276908963918686,0.027714047580957413,0.7027155160903931,0.02170160785317421,0.6367506384849548,0.9714992046356201,0.6136559247970581,0.0,2.0266523361206055,1.4378790855407715,0.0,0.0,0.16237296164035797,0.0,1.6489698886871338,0.3653310537338257,0.0,0.0,1.414057731628418,0.29496264457702637,2.669177532196045,0.10765599459409714,1.1090155839920044,0.1579006016254425,0.0,0.0,0.02675127424299717,0.6591613292694092,0.22642503678798676,0.546980082988739,1.2455774545669556,0.0,0.0,1.6750366687774658,0.0,0.08804571628570557,0.033900726586580276,0.0,0.17096492648124695,1.3997712135314941,0.36152181029319763,0.9986796379089355,0.0,1.4309800863265991,1.1751596927642822,0.23283657431602478,0.0,0.9906789064407349,0.7324864268302917,0.0,0.4085712432861328,0.0,0.03995583951473236,2.815915107727051,0.0,1.0025978088378906,0.0,0.0,0.011804561130702496,0.0,0.0,0.0,0.34744885563850403,0.0,0.09522075951099396,1.3372563123703003,0.34398165345191956,0.7054860591888428,0.4773368835449219,0.17852962017059326,0.0,2.333878755569458,0.2371223270893097,0.11876697093248367,0.09934590756893158,2.059248208999634,0.0,0.37283486127853394,0.0,0.0,0.7556406855583191,0.6622604727745056,1.46891188621521,0.046019379049539566,0.8698117733001709,0.35585126280784607,0.0,0.0,0.8657826781272888,0.09464806318283081,0.7047220468521118,0.0,0.660514235496521,0.701924204826355,0.0,0.0,0.717504620552063,0.8294121623039246,0.04438554868102074,0.04649675264954567,0.0,0.3655413091182709,0.0,0.0,0.08352859318256378,0.0,0.0,0.0709461197257042,0.0,0.0031694392673671246,0.39734241366386414,2.0246312618255615,0.9542519450187683,3.108185052871704,0.21651147305965424,0.0,0.7278033494949341,0.0,1.323965072631836,0.15893352031707764,3.1429989337921143,0.02947419509291649,0.049391958862543106,0.0,0.42960917949676514,0.33978426456451416,0.0,0.17833609879016876,1.5889029502868652,1.1089736223220825,0.0,0.2842631936073303,0.017657523974776268,0.6931485533714294,0.723753809928894,0.6573039293289185,0.0,0.33797019720077515,0.01085746567696333,0.06754833459854126,1.5822701454162598,0.0,0.0,0.0,0.21830697357654572,1.2860647439956665,0.29363909363746643,2.2720561027526855,0.04062357544898987,0.4370792806148529,0.0,0.6244221329689026,0.07975728809833527,0.0,0.25155019760131836,0.7037972211837769,0.5101379752159119,3.289981686975807E-4,0.0,0.0,0.6940521597862244,0.005288445390760899,0.21983644366264343,0.0,0.05563652142882347,1.6693998575210571,0.0,0.0,2.2663583755493164,0.04551130533218384,2.6184842586517334,0.08069024980068207,0.08502625674009323,0.0,0.0,0.16953016817569733,1.0164930820465088,0.9631314873695374,0.0,0.31046655774116516,0.061307743191719055,0.0,0.0,0.1283862143754959,1.8299026489257812,0.04945669323205948,0.2342490702867508,0.0,0.02659478411078453,1.2633188962936401,0.581650972366333,1.5892236232757568,0.603517472743988,0.23145902156829834,0.0,0.22267404198646545,0.15081889927387238,0.2755632698535919,0.0,0.56549072265625,0.11996223777532578,0.0,0.9352396726608276,0.11503380537033081,0.6964015364646912,0.10622145235538483,0.0,0.0,0.1494617462158203,0.0,0.029686305671930313,0.1697860211133957,0.0,0.0,0.0,0.710955798625946,0.0,0.0,0.0,0.1432589441537857,0.0,0.0,0.10074193775653839,0.052733711898326874,0.6864504218101501,0.7677967548370361,3.3812694549560547,3.3755664825439453,0.0,1.924239993095398,0.493744432926178,0.25739309191703796,1.6837133169174194,0.1320042759180069,0.44272878766059875,0.0,0.0,0.08091013133525848,0.0,0.0,1.3273423910140991,0.8975115418434143,1.5501198768615723,1.6860675811767578,0.4390210509300232,0.0,0.02390783652663231,0.3728099763393402,0.3834993839263916,0.0,0.002012573881074786,0.44600269198417664,0.11322483420372009,0.1414571851491928,0.0,0.363217830657959,0.012537352740764618,0.07035518437623978,0.5041501522064209,0.0,0.23674513399600983,0.9356229305267334,0.04929138720035553,0.0,0.01250502560287714,0.04616355895996094,1.0359095335006714,0.026776371523737907,3.502035617828369,0.39611348509788513,0.0329144261777401,0.0,0.0,2.0185370445251465,0.5889369249343872,0.0,0.015650836750864983,0.0,0.807267963886261,2.2561252117156982,0.36786580085754395,0.09530172497034073,0.4743562340736389,0.4154920279979706,0.32944566011428833,1.7640862464904785,0.4278961420059204,0.0,0.0,0.2008533477783203,1.8592584133148193,0.022893428802490234,0.4591202139854431,0.0,0.054686788469552994,0.11223342269659042,0.32299643754959106,0.0,0.07197482138872147,0.17382702231407166,0.025022603571414948,0.10087823867797852,0.36393868923187256,0.0,0.0,0.0,0.0,1.9005920886993408,0.10418365150690079,0.0,0.6732875108718872,0.012089009396731853,0.5968244671821594,0.006525059230625629,0.01296377182006836,0.5502038598060608,0.29452744126319885,0.0,0.0,0.6932240724563599,0.2053084671497345,1.3202742338180542,0.22247780859470367,0.0,0.12400216609239578,0.0,0.852729856967926,1.8176727294921875,0.0,0.45222705602645874,0.7813490033149719,0.0,0.8718944191932678,1.1774629354476929,0.0,0.058808814734220505,0.0,0.04481269791722298,0.4063546359539032,0.0,0.026859808713197708,0.21760736405849457,0.0,0.0,0.2840019464492798,0.7276076674461365,0.6827419996261597,0.18852560222148895,1.6139507293701172,0.8276547789573669,0.30845069885253906,0.0,0.0,0.2308250516653061,0.6311250925064087,0.0,0.37078553438186646,0.0069394404999911785,0.33919423818588257,0.0,0.0,0.7255442142486572,0.0,0.0,0.34262019395828247,0.610905110836029,0.010301736183464527,0.2835123836994171,0.08652855455875397,0.8941371440887451,0.0,0.0,0.034983597695827484,0.8223040699958801,0.8389500379562378,0.35139602422714233,0.0,0.0,0.31679385900497437,1.4258396625518799,0.0,4.6964874267578125,0.6200692057609558,0.004626254551112652,0.5753373503684998,0.0,0.0,0.0,0.19851143658161163,0.051651205867528915,0.9232589602470398,0.0,0.09365053474903107,0.18536365032196045,0.26387274265289307,0.0,0.03994976729154587,1.070282220840454,0.9530177116394043,0.0,0.0,0.006538955494761467,0.44091033935546875,0.0,0.20792892575263977,3.2696573734283447,0.36254599690437317,0.03918083384633064,0.23776431381702423,0.0640878975391388,1.739322543144226,0.0,0.0,0.05313943326473236,0.19707122445106506,0.0,0.0,0.36047083139419556,0.0,0.0,0.0,0.41783958673477173,0.0,0.0,0.038039062172174454,0.0,0.5307126045227051,0.0832320898771286,0.0,0.13162235915660858,0.0,0.774114191532135,0.06091262772679329,1.5267189741134644,0.0,0.0,1.4078949689865112,0.7490251660346985,0.4371437430381775,0.0,1.0556550025939941,0.0029712209943681955,0.6583256721496582,0.0,0.0,0.0,0.0,0.23822695016860962,0.125241219997406,0.37350210547447205,0.2421044260263443,0.007739232387393713,0.0,0.0,0.04828093945980072,1.0305922031402588,0.0,0.08132998645305634,0.03856343775987625,1.0485007762908936,0.0,0.0,0.04832647368311882,0.018044238910079002,0.048195820301771164,0.0,0.006812319625169039,0.04850166663527489,0.0,0.013443566858768463,0.1211831346154213,0.039123427122831345,0.0,0.007151175290346146,0.0,0.017757143825292587,1.3919123411178589,0.01215561106801033,0.0,0.8872120380401611,0.0,0.0,0.0,0.0,0.0,0.0028296587988734245,0.11402788758277893,2.564323663711548,0.0,0.0,2.1808042526245117,0.06249820068478584,0.0,0.05078938603401184,0.0,0.15781201422214508,0.007439681328833103,1.3154394626617432,0.07198058068752289,1.5672539472579956,2.269982099533081,0.24742451310157776,1.6439396142959595,0.0,0.38099679350852966,1.4309732913970947,0.12475606054067612,0.0,0.0,0.04577252268791199,0.9643538594245911,0.0,0.0,0.13665221631526947,0.21425889432430267,0.0,0.0,0.0,2.128183364868164,0.0,0.07247374951839447,0.42536473274230957,0.0,1.9049124717712402,0.011544772423803806,1.2516597509384155,0.5813778638839722,3.372645854949951,0.2549772560596466,0.23547355830669403,0.6165136694908142,0.2592843770980835,0.02630748599767685,0.27395859360694885,0.0,0.0,1.210512399673462,0.0,0.26687371730804443,0.2640959322452545,0.06584471464157104,0.0,0.05337854474782944,0.0,0.05563443899154663,0.042039237916469574,0.0,0.09862416237592697,0.17258547246456146,0.05919396132230759,0.03136610612273216,0.061183616518974304,0.12652592360973358,0.27946972846984863,0.03927844762802124,0.778289258480072,0.0880436822772026,0.0042726946994662285,0.13462702929973602,2.0077614784240723,0.0021578925661742687,0.11435887217521667,0.0,0.0,0.045044753700494766,0.0,0.0,0.9821802377700806,0.057011693716049194,0.0,1.2754219770431519,0.9935160875320435,0.012737147510051727,0.0,0.0,0.03684386610984802,0.3886491358280182,0.0,0.0,0.0,0.1742173582315445,0.0,1.7532212734222412,0.15712714195251465,0.10140345245599747,0.0,1.0936475992202759,0.4270351827144623,0.045982468873262405,0.05617951229214668,0.0,0.018093498423695564,2.3587393760681152,1.6318196058273315,1.1801633834838867,0.0,2.0160303115844727,0.014287257567048073,0.027531176805496216,0.0,0.0,1.2688817977905273,0.0,0.8292035460472107,0.0,0.03216917812824249,0.27071613073349,0.19922123849391937,1.1186459064483643,0.34052789211273193,2.279066801071167,2.5282773971557617,0.03519093245267868,0.0,0.25863829255104065,0.7813795208930969,0.7529980540275574,0.19805628061294556,0.33215612173080444,0.029098939150571823,0.6792993545532227,0.07935237139463425,0.12944760918617249,0.07014226913452148,0.22686035931110382,1.1996448040008545,0.0,0.04822239652276039,0.745307981967926,0.4625367522239685,0.0,2.168189764022827,0.0,0.0,0.7736437320709229,0.0,0.21845129132270813,0.0,0.48200055956840515,0.07901278138160706,0.0,0.14871303737163544,0.03853592649102211,0.5332159399986267,0.0,0.0,1.063275694847107,1.5635020732879639,0.0,0.0,0.0,0.2823711335659027,0.0,0.16066761314868927,0.4445815086364746,2.36309814453125,0.9942550659179688,0.04491690173745155,0.18795643746852875,0.0,2.3274192810058594,1.0238943099975586,0.0,0.0,0.03688063845038414,0.025428451597690582,0.07265647500753403,0.0,0.0,0.6267179250717163,0.0454137846827507,0.09061352163553238,1.0896058082580566,0.09415604919195175,0.0,0.0,0.05832112580537796,0.0,1.1169774532318115,0.5979791879653931,2.5317952632904053,0.0,0.7142535448074341,1.0949904918670654,0.5405020713806152,0.0,0.08863667398691177,0.0,2.3285417556762695,0.0,2.003018856048584,1.5420159101486206,0.5440967082977295,0.0,0.19589559733867645,0.0,0.740373432636261,0.41537395119667053,1.6977894306182861,0.5669655203819275,0.03380824252963066,1.6574320793151855,0.0,0.083558090031147,1.7763932943344116,0.0,0.0024176326114684343,0.0,1.2743594646453857,0.0,0.36944520473480225,0.0,1.593218445777893,0.0,1.5859932899475098,0.009846978820860386,0.8830377459526062,0.0,0.0,0.0,0.04872611165046692,0.041634656488895416,0.0,0.0,0.0,0.0,2.749662160873413,0.7201594710350037,0.0,1.3863239288330078,0.08683493733406067,0.0,0.6125806570053101,0.0,0.04553946852684021,1.4803766012191772,0.5050720572471619,0.17074857652187347,0.36822736263275146,0.4428161680698395,0.0,1.8636237382888794,0.7447316646575928,1.8782281875610352,0.9538884162902832,0.18671129643917084,0.027881456539034843,0.0,0.27607831358909607,0.31428223848342896,0.0,0.0,0.07561741769313812,2.0901002883911133,0.9833724498748779,0.1028057113289833,0.29354625940322876,0.7166829109191895,0.12877461314201355,0.0022247275337576866,0.0,1.181151032447815,0.4003724157810211,0.03497818484902382,0.0,0.0,0.0,0.12785907089710236,0.0,0.0,1.0488947629928589,0.0,2.489358425140381,0.042235393077135086,0.0,0.0,0.06049751862883568,0.04035821184515953,0.5423674583435059,0.7113469839096069,0.6129012107849121,1.2346922159194946,2.0406529903411865,0.6358630657196045,1.4891376495361328,1.6141235828399658,0.0,0.6536865234375,0.9876613020896912,1.7031100988388062,0.0,1.1033298969268799,0.0,1.1204231977462769,1.6911728382110596,0.0,1.7688084840774536,0.06662502139806747,0.0,0.0,0.0,0.0,0.7471514940261841,0.0,0.017970746383070946,0.0,0.0,0.6477869153022766,0.0,0.19760729372501373,1.4737579822540283,0.0,0.0,0.0011642611352726817,0.0,0.04143691435456276,0.0,1.1220847368240356,0.2065196931362152,0.0,0.09669377654790878,0.0,0.32978111505508423,1.24647057056427,0.0,0.0,0.1711627095937729,0.8338122963905334,0.20673397183418274,0.6726333498954773,0.0,0.4149003326892853,0.0,0.0]</td><td>[-15.365231337121799,4.271391283649628,-7.669136216363763,-2.4229339300758563,1.1347863851792492,7.511689395959065,-9.55258645121028,16.701095041300185,-0.529440011722263,-6.3164594269416,7.049064706923301,-6.870742761859008,6.707858011471152,12.0554185731763,10.843419831133426,2.285339894844649,-0.9417865704917551,-9.292457406173385,-2.168091403559703,1.4777937682772397,-4.645333221659165,-1.8547463972098661,2.051627695747477,4.020733474555493,-2.209664929441383,3.7759282602690414,2.260860304499518,0.07649735373109101,-0.8069336269257474,0.9031039453758497,-7.08754450340931,0.7280557488129152,-3.7304588439591124,0.005392041468704856,10.854056267306555,-4.261059267521189,-4.550336455474111,4.643699011696329,-4.248941159832633,2.1712640624679773,-0.5794692918497623,-0.2640313840195479,3.9067075130049536,1.3828724331489552,0.4921436807899706,5.407075383574756,0.27499190401655943,-3.8900722010933375,-0.8801435140392331,4.636792571335388,-4.81539969413219,-7.148956372459268,0.5876614289420374,0.22296558333064598,-0.3591486553441431,-4.3679324852992725,3.993395396006195,-4.031516775285732,1.5750009734345258,4.987519035632633,-4.608489694834288,-1.4684966299404674,-0.9226367084586705,-1.4501558867143645,4.048607020176887,-1.8245664165842437,-0.4779995687715253,-4.855649077262772,-1.5778787502904885,5.024329381305909,-0.9708953642352091,0.22734341230144606,5.198800328879892,-2.471633685244003,-0.12462353656988637,-1.8647597132722156,-4.585298537428893,6.5156607272046925,-2.5071167506675547,1.7501215747607846,2.279937615882499,-4.950250209937428E-4,3.7505687847836047,-4.644649630928104,3.010436024850119,6.102995557377185,-0.9044200774071376,-0.9751393510109224,0.7232554549870766,-3.37876150166906,1.3087225786565906,-1.7965272956490723,-0.7089208226551034,2.571757548796915,-1.4942130929045425,4.3000301735876745,0.6501602229228186,2.2549064427919707,-7.563551270100248,6.887254914801208,-1.4602440315110232,-3.8982858521072776,0.3408669560946052,-3.1846883397446875,2.448862830052825,-0.27289709001863893,0.24981641224720144,-0.6464195139074926,0.4887640992268221,3.1721987256497166,2.0568036518886097,3.28840432671607,1.6319527266671388,-0.9804033088309839,0.11000660033333869,-0.28958671857829654,-2.7457391602413,-0.5175660339861183,-5.347969073622721,-1.0070422809621662,-2.7348189541592856,0.6202314878760827,0.6507936685023556,0.9153026011669168,0.5955286798666493,-0.8657922599389745,-0.3537789045788261,1.1568807513689003,-2.915161035680463,0.2678096510149871,2.248733909747255,0.5603169243560627,2.8849726794589134,-2.7712916849454183,-1.8479572683658714,-0.30860196879357504,-1.3271521576843466,-1.7772658288866845,1.0313544428032555,2.4967613851079244,-1.7710617415919188,-0.46152389347723505,2.630111655720786,1.2805196276074815,-3.152644958962701,-1.50903289147754,0.34418002087772026,0.7138219611287102,0.38794543912482055,1.2736558626084729,-0.4892835963648296,-0.28022845444149735,1.1902990517247174,-1.536775538597612,2.5974424715910587,1.3828314564641475,0.9615266928575075,-0.050805704952399965,-0.9361052313215052,1.3398881577992203,2.593949723948667,0.1994107742098175,-0.7074720853569467,-0.7899473745254415,2.2648971477689357,1.796910015582544,-1.082547911439725,0.2772815819733183,-1.1390760908245279,-1.6250711072154134,-0.18856337660821032,1.091574988814299,-0.06609910324928683,-0.6441274025075685,-1.110698530760939,0.4205108454664553,-0.3662154362016249,-0.19475331578667357,0.36591577286144866,-1.1847370156006631,-0.1650994427358987,-0.1979096530868982,1.0395398102751985,-1.3732937574298836,-0.7870561591831645,1.0045449235242763,0.2540978636276476,-1.2689609994616116,-0.6658197189158395,-1.4172004494245594,-0.01133488042031652,-1.7948464359588978,-1.201384794547744,-1.1045125401742055,0.9708816316403133,0.35292319213504675,0.5598100987346023,1.3425213242130318,-0.12907088501227718,0.4458351523799902,1.968329893845654,0.16770137454693182,1.4479297784907776,-1.445581191740459,0.3448328520261934,-0.25309021957835387,2.3630036168187623,0.3525006747603658,0.4451891565322997,0.7141376934889506,3.155547989936351,-0.3158691223643762,-1.1104198700453543,0.39039943182381126,1.4974686461639655,-0.005211465489035436,1.4700183416168107,-0.05229027856904788,-0.8091161213534604,-1.9670419797510181,-1.3203281315136612,0.557592539971503,1.5359301528136886,0.8713485691876416,0.3520825833043763,0.3821681197062025,-0.23131694190469182,0.9619702558100263,0.6370967811929167,0.45266805366093504,0.6428452230202314,-1.208906895441705,-0.3469800483690963,-0.25497435987218764,-1.6662731829146593,-1.2652106826201797,-0.49250126248356113,-0.4722979716658472,0.1383783227036021,0.8066114422640542,0.7811625016791572,0.9774192398855372,1.1942920986534797,0.43254433431104866,-0.6305613920543602,1.569561367881161,-0.9301797528682522,-0.5150868879507563,0.6491934278213497,-0.07895337071436055,-0.9669624523475271,2.5164318350480097,-0.6478728311852542,-1.0035777202239615,-1.8185098913260362,-1.8706058621301884,0.10402719871377143,0.3605858953958312,0.9512287288513189,0.23223977663337617,-0.49528060644471383,0.6104023072538043,0.9293447901145976,0.8438419323650131,-2.384700488510103,0.3857003656354314,-0.4307457041494656,-0.3343726531515497,-1.0366447932210527,-2.5404836953745926,0.619416064703682,0.018273153798971212,-0.4806454837142324,-0.7260460532735274,1.3468788157297076,1.0987143855576278,1.1886771189355483,1.4033334819357322,0.47140201754389366,0.08653830431777594,0.5594185690551519,-0.5689052266758514,-0.8905957657989846,-2.5170494719466667,-0.4857504320345675,0.95422022593944,-1.007922207500563,-0.27586404341689325,-1.0705662717612108,-0.04524954267446818,0.7497149762844786,0.11191621614494288,0.5357534920839565,-0.944622182432904,-0.014354921739673157,1.7169270360546318,0.7116826431922235,0.34065770990311717,0.11082204845373979,-0.9721386068378766,-1.1588636926402476,0.7788483099549878,0.15100906546498793,0.9903227645014273,1.4639791504583786,-1.0261949606371925,-0.6882984273857867,1.567489402380721,-0.6419338480153516,1.236700176477756,0.858698521594526,0.08900483046376874,1.3139451953010408,-0.21404601700490375,0.28960418734555327,0.7629048076206317,1.4441718106158157,-0.32811737508837363,-0.20989815432585798,-1.1743987624629442,1.3237482083915788,0.5866169618274858,-0.8143797458838029,-0.5043160273663542,1.3282445270414953,-0.8007955832706645,0.1790423854915626,0.5897233637624126,0.6497882625789324,-0.045957761742147156,0.6857261302520054,0.30060300886243535,0.3804469952969914,0.4466423384988614,-0.007963707240690784,-0.08549568262371103,0.5746069912459686,0.06836739890187503,-0.8641219059987845,-0.024605815648291236,0.8381360788484575,1.484417845513629]</td></tr><tr><td>s3://cap9-fruits/img/Pineapple Mini/130_100.jpg</td><td>Pineapple Mini</td><td>[0.0,4.498067855834961,0.0,0.0,0.0,0.0,0.12508894503116608,0.0,0.0,0.0,0.05958744138479233,0.0,0.28699174523353577,0.0,0.0,0.0,0.0,0.06066294014453888,0.0,0.10061737895011902,0.0,0.0,0.0,0.0,0.0,0.0,0.0,0.015788914635777473,0.29807522892951965,0.0,0.0,0.0,0.0,4.625031471252441,0.0,0.8592501282691956,0.5851746797561646,0.060509294271469116,0.2303583174943924,0.0,0.0,0.0,0.0,0.2570241391658783,1.2884856462478638,0.0,0.8754997849464417,0.011048336513340473,0.2764006555080414,0.5785849690437317,0.2603195011615753,0.05913165211677551,0.0,0.0,0.09076489508152008,0.41617879271507263,0.0,0.0,0.007764952722936869,0.0,0.3619076907634735,0.0,0.0,1.6074190139770508,0.30033430457115173,0.07125931233167648,0.0,0.15361221134662628,0.2682340443134308,0.18591147661209106,0.0,1.7476329803466797,0.0,1.7229584455490112,1.350184679031372,1.3366185426712036,0.19488510489463806,0.0,0.0,0.0,0.0,0.0,0.0,0.011044210754334927,0.38323163986206055,0.0,0.0,0.8790410757064819,0.0,1.5864566564559937,0.023759784176945686,0.2441689670085907,0.6241684556007385,0.0,1.1229978799819946,0.0,0.0,0.0,0.0,0.0,1.339802622795105,0.15074041485786438,0.0,0.00993291661143303,0.1942829191684723,0.0,0.7081200480461121,0.15695472061634064,0.0,0.0,0.0,0.0,0.10481663793325424,1.3889046907424927,0.18733751773834229,0.0,0.6380620002746582,0.0,0.0,0.14964458346366882,0.0,0.005738569889217615,0.0,0.020837171003222466,0.0,0.0,0.011219297535717487,1.4360086917877197,0.4105778634548187,0.0,0.0,0.0,1.6913869380950928,0.0,0.0,0.0,0.0,0.0,0.09016872197389603,0.018356868997216225,0.0,0.0,0.05543976277112961,0.0,0.0,0.024439364671707153,0.05061100795865059,0.0,0.04861960932612419,0.0,0.0,0.0,1.46654212474823,0.0,0.03045496717095375,1.3617609739303589,0.020936761051416397,0.0,3.1833791732788086,0.05894426256418228,0.0,1.3147339820861816,0.0,0.0,0.0,0.2912123501300812,0.0,2.8387327194213867,0.00413096696138382,0.0,0.0,0.0,0.3525255024433136,0.0,0.0,0.0,0.57819002866745,0.0,0.0,0.1367570012807846,0.0,0.0,0.8614343404769897,1.0683101415634155,0.015987902879714966,0.01099197193980217,0.039501823484897614,1.5351195335388184,0.0,0.0,0.0,0.0,0.0,0.0,0.0,0.0,0.0,0.0,0.17902086675167084,2.3828768730163574,0.0,0.06417293846607208,0.0,0.0,0.0,0.0,0.0,0.0,0.0,0.0,0.0,0.0,0.018726738169789314,0.3901316523551941,0.0,0.21515783667564392,0.16605357825756073,0.0,0.7826313376426697,0.0,0.0,0.0,0.2815110981464386,0.02112642675638199,0.05948162078857422,0.0,3.1762847900390625,0.0,0.9826428294181824,0.04404471814632416,1.4573560953140259,0.0,0.0,0.1397247463464737,0.0,0.0,0.7935083508491516,0.0,0.010165944695472717,0.297064870595932,0.0,0.2454141080379486,0.0,0.27930527925491333,0.0,0.0894371047616005,0.9147389531135559,0.0,0.0028298436664044857,0.01313385646790266,0.036294955760240555,0.0,0.013265356421470642,1.3852213621139526,0.027905989438295364,1.2434824705123901,0.0,0.0,2.3761558532714844,0.03834889829158783,0.0,0.01778768002986908,0.671162486076355,0.013809895142912865,0.0,0.0,0.0,0.0,0.0,0.0,0.0,0.07556283473968506,1.1611580848693848,0.1168052926659584,0.0,0.0,2.089597463607788,0.27465564012527466,0.038875870406627655,0.0,0.5192403197288513,0.0,0.12779825925827026,0.0,0.41586634516716003,0.0,0.0,1.2333475351333618,0.05836578458547592,0.0,0.05613137409090996,0.13489073514938354,0.0456891730427742,0.0,0.0,1.2321522235870361,0.0,0.0,0.08230409026145935,0.0,0.0,0.0,0.02293752133846283,0.05842502787709236,0.014200356788933277,0.00528157502412796,0.0,0.0,0.8507967591285706,0.6767944693565369,0.0,0.0,0.03118140436708927,0.5200634002685547,0.0,0.0,0.0,0.0,0.0,0.0036197779700160027,0.0,1.0010099411010742,0.030152691528201103,0.1533142775297165,0.0,0.0,0.0,0.020408688113093376,0.14187970757484436,1.3742918968200684,0.0,0.02236364409327507,0.03679545223712921,0.371390163898468,0.0,2.240766763687134,0.0,0.0,0.0,0.0,0.8747725486755371,0.0,3.2437164783477783,0.42897775769233704,0.0,0.5404511094093323,0.0,0.0,0.11097513139247894,0.0,0.0,0.23627296090126038,0.0,0.0,0.0,0.009064489044249058,0.12971623241901398,0.001034035929478705,0.05071863904595375,0.0,0.0,0.0,0.001341668888926506,0.4874306619167328,0.0,0.12989960610866547,0.0,0.0,0.5514072775840759,0.0,0.061215341091156006,0.16475003957748413,0.0,0.023975713178515434,0.012522697448730469,0.3684009313583374,0.0,3.3065309524536133,0.0,0.0,0.0,0.0,0.14805757999420166,0.0,0.015953881666064262,0.0,0.07378505915403366,0.0,0.0,0.0,0.9343509078025818,0.0,0.0,0.01004846766591072,0.002315959194675088,0.0569315142929554,0.0,0.0,0.0,0.0,0.0,0.0,0.0,1.8857452869415283,0.0,0.555054783821106,0.0,0.0,0.35562485456466675,0.0,0.0,0.29300105571746826,0.153153657913208,0.7073239684104919,0.037250012159347534,0.11967650055885315,0.24301797151565552,0.3716403543949127,0.5074189305305481,0.023226631805300713,0.0,2.574185609817505,0.00231420760974288,0.0266001857817173,0.0,0.37389451265335083,0.7488731145858765,0.0,0.0,0.19795145094394684,0.2016616016626358,0.0,0.0017329429974779487,0.0,0.0,1.7734599113464355,0.32085877656936646,0.0,0.0,0.6166437268257141,0.0,0.14120280742645264,1.0696419477462769,0.4597952663898468,0.0,1.627457618713379,0.0,0.04271475970745087,0.0,0.0,0.0,0.7040498852729797,0.30205661058425903,0.0,0.01389115210622549,0.0,0.5032292008399963,0.0,0.0,0.013969382271170616,1.2381337881088257,0.0,0.10196375101804733,0.7793517708778381,0.5698423981666565,0.0,0.029700472950935364,0.03840812295675278,0.016862129792571068,1.721066951751709,0.08986438065767288,0.0,0.0,2.851787567138672,0.005946139805018902,0.0,3.4204354286193848,0.0,0.0,0.3141392469406128,0.0,0.0,0.0,2.0396952095325105E-5,0.02054150216281414,0.0,0.0688176155090332,0.20222458243370056,0.258562296628952,0.4221663475036621,0.0,0.0,0.0,0.14860017597675323,0.9311619997024536,0.02395462431013584,0.7132523059844971,0.0,0.0,0.0,0.6696571707725525,0.6860542893409729,0.0,0.0,0.0,0.0,0.0,0.0,0.0,0.0,0.0,0.6526821255683899,0.06591378152370453,0.0,0.09890265017747879,0.0,0.0,0.0,0.0,0.34670957922935486,0.0,0.0,0.0,0.33773598074913025,0.0,0.0,0.19471873342990875,0.38666969537734985,0.4860337972640991,0.0,0.0,0.0,0.0,0.007475745864212513,0.0519939549267292,0.08314298838376999,0.0,0.6892762184143066,0.02580234967172146,0.0,0.0,0.0,0.0,0.04594963416457176,1.048818588256836,0.17864881455898285,0.0,0.0,0.14396725594997406,0.03899199515581131,0.029309408739209175,0.0,0.0,0.4473893642425537,0.20285262167453766,0.896281361579895,0.2530362606048584,0.0,0.015505158342421055,0.010130872949957848,0.017603756859898567,0.0,0.0034507731907069683,0.013422469608485699,0.06398055702447891,0.1571366786956787,0.03264555707573891,0.5036308169364929,0.04684273898601532,0.0,0.1123875305056572,2.7213499546051025,0.0,0.0,0.277418851852417,0.0,0.0,0.007636771071702242,0.5077245235443115,0.6442520618438721,0.3481692969799042,0.0,0.0,0.0,0.0,0.01813511922955513,0.0,0.0,0.8132738471031189,0.0,0.0,0.0,1.8037536144256592,0.09184455126523972,0.0,0.042261842638254166,0.0,0.0025138077326118946,0.14256474375724792,0.9939094185829163,0.0,2.8986005783081055,0.4300059974193573,0.0,0.0,0.0,0.3713361322879791,0.02159956470131874,0.0,0.14282283186912537,0.31561514735221863,0.041833508759737015,0.0,0.0,0.9491333961486816,0.0,0.011166688986122608,0.1014612466096878,0.0,0.0,0.0,0.1606704145669937,0.18698959052562714,0.0,0.17107796669006348,0.0,0.0010284404270350933,0.0,0.0,0.0,2.5158934593200684,0.044221069663763046,0.1053277850151062,0.0,0.0,0.0,1.0351386070251465,1.8995213508605957,0.007827544584870338,0.0,0.0,0.23042266070842743,0.0,0.0,0.0,0.0,0.0,0.00244545447640121,0.038645707070827484,0.0,0.0,0.0,0.0,0.0,3.093505511060357E-4,0.0,0.02593819983303547,0.0,0.0599636547267437,0.03811365365982056,0.0,0.02165573462843895,0.0,0.14797699451446533,0.0,0.0,0.0,0.04109066352248192,0.14679598808288574,0.0,0.0,0.010895485989749432,3.465275764465332,0.0,0.0,3.3679192066192627,0.0,0.0,0.0,0.0,0.0,0.0,0.21775366365909576,0.007535058539360762,0.0,0.0,0.0,0.0,0.23579873144626617,0.0,0.5860260725021362,0.0,0.0,0.0,0.0,0.03040448948740959,0.0,0.0,0.0,0.028533585369586945,0.0,0.0,0.0,0.0,0.0,0.0,2.8726033633574843E-4,0.0,0.025243351235985756,0.6968927383422852,0.0,1.313033938407898,0.0,0.0,1.9514890909194946,0.30666685104370117,0.18655231595039368,0.0,0.0,1.9079681634902954,0.2772938907146454,0.1237078607082367,0.0,1.454987645149231,0.0,0.8222516775131226,0.0,0.07278773933649063,0.05773765221238136,0.0,0.0,0.0066945310682058334,0.0,0.0,0.22931130230426788,0.15189141035079956,2.0030415058135986,0.0,0.0,0.0,0.0,0.6971865296363831,0.0,0.7285349369049072,0.0,0.0,0.0,0.0,0.0,0.0,0.0,0.0,0.0,2.6043519973754883,0.0,0.040747594088315964,0.19067013263702393,0.0,0.543913722038269,0.0,1.7958552837371826,0.2580135762691498,0.2883303165435791,0.0,0.0,0.0,0.00945078581571579,0.06052413210272789,0.0,0.0,2.0894694328308105,0.0016435798024758697,0.25467658042907715,0.04196368530392647,0.0,0.029184428974986076,0.08307524770498276,0.0,0.0,0.026877179741859436,0.0,0.602612316608429,0.0,0.13218486309051514,0.15338453650474548,0.0,0.0,0.0,0.0,0.0,0.0,0.0,0.6116997003555298,0.0,0.7805030941963196,0.0,0.0,0.0,0.0,0.05763370171189308,0.2957899868488312,0.0,0.0,0.0,0.3457662761211395,0.0,0.0,0.0,0.0,0.0,0.9621459245681763,0.0,0.0,0.06071397289633751,2.84792160987854,0.0,0.002990372246131301,0.03229283168911934,0.0,0.17856286466121674,1.848165512084961,0.0,0.0,0.0,0.0,0.017896369099617004,0.0,0.18724118173122406,0.0034690098837018013,0.0,0.13430599868297577,0.0,0.07278992980718613,0.0,0.06857766211032867,0.037097278982400894,2.6251494884490967,0.07452773302793503,0.0,0.0,0.0,1.60057532787323,0.0,0.13746525347232819,0.0,1.248724102973938,0.18781816959381104,0.0,0.2755376994609833,0.010045547969639301,0.0,2.543307304382324,0.0,1.8472481966018677,0.04373806342482567,0.0,0.4297076165676117,0.0,0.0,0.0,0.00567881902679801,0.0,0.0,0.022938378155231476,0.0,0.0,0.0,0.14677351713180542,0.0,0.0,0.0,0.502018392086029,0.024775221943855286,0.0,0.016598613932728767,0.0,0.0,0.014229677617549896,0.13514313101768494,0.24489212036132812,0.0,0.0018394625512883067,0.058909278362989426,0.0,0.0,0.7680784463882446,0.0,0.0,0.03272294998168945,0.3668382465839386,0.0,0.008685695938766003,0.0,0.19033077359199524,0.0,0.905487060546875,0.013273385353386402,0.4108208119869232,0.0,1.0721685886383057,0.0,0.0880676880478859,0.9248632192611694,0.0,0.028668880462646484,0.3313009738922119,0.0,0.0,0.0,0.0,0.0,0.061932727694511414,0.0,0.6708183884620667,0.0,0.0,0.0,0.013197665102779865,0.0,0.0,0.0,1.571265697479248,0.011289061047136784,0.0,0.0,0.0,1.3659266233444214,0.22770072519779205,0.0,0.0,0.04628777876496315,0.0,0.0,1.6233347654342651,0.0,0.0,0.05164618417620659,0.32667380571365356,0.0,0.5318644046783447,0.0,0.0,0.0,0.20274442434310913,0.11038323491811752,0.0,0.11445042490959167,0.541344165802002,0.0581313818693161,0.0,0.6386108994483948,0.022887688130140305,0.013828997500240803,0.0,0.3919757008552551,0.0,0.14524829387664795,0.0,0.14006192982196808,0.0,0.03964806720614433,0.0,0.0,0.0,0.04061059653759003,0.47439512610435486,0.0,0.3082102835178375,0.0,3.3918190002441406,0.806566059589386,0.11980661749839783,0.22902172803878784,4.91642951965332,0.02192227728664875,0.0,0.0,0.06795888394117355,0.0,0.0,0.08607448637485504,1.7469303607940674,0.08143459260463715,0.0,0.0,0.0,0.0,0.1625073254108429,0.0,0.007669195998460054,0.13420261442661285,0.020935019478201866,0.16092678904533386,0.17131708562374115,0.054589543491601944,0.0,0.0,0.0,0.0,0.0,0.7914068102836609,1.1981565952301025,0.7830101847648621,0.0,0.0,0.0,0.0,0.2453879714012146,0.0,0.027029620483517647,0.0,0.0,0.0,0.0,0.0,0.2237619161605835,0.04125296324491501,0.0,0.8129450678825378,0.0,0.0,0.01062967348843813,0.0,0.0,0.027553383260965347,0.0020904832053929567,0.1662083864212036,0.0,0.2269698977470398,0.0,0.0,0.0,0.3372371196746826,0.0,0.08549994975328445,0.0,0.8262484669685364,0.0,0.0,0.053261443972587585,0.07507442682981491,0.0,0.0,0.0,0.36734017729759216,1.3468672037124634,0.0,0.1773855984210968,0.14642231166362762,2.0356955528259277,0.032826948910951614,0.0,0.0,0.0,0.7882626056671143,0.0,0.033372148871421814,0.0,0.1897934079170227,0.0,0.19277019798755646,0.0,0.0,0.02953898161649704,0.06963541358709335,0.0,0.6114967465400696,0.0,0.3083787262439728,0.0,0.14331616461277008,0.0,0.030865563079714775,0.0,0.0923658013343811,0.03189803287386894,0.0,0.27229613065719604,0.16124722361564636,1.5884085893630981,0.00858624093234539,0.0,0.0,0.0,2.6438722610473633,0.060341980308294296,0.035453736782073975,0.0,0.0,0.002464002463966608,0.0,0.0,1.1026698350906372,0.038290783762931824,0.004210491664707661,0.0,0.0,0.0,0.15262968838214874,0.0,0.24542050063610077,0.0,0.25088226795196533,0.36135411262512207,0.44388070702552795,0.0,0.0,0.2593245506286621,0.0,0.0022096438333392143,0.0,0.0,0.09646418690681458,0.0,0.0,0.024676527827978134,0.046379391103982925,0.0,0.04263564571738243,0.0,0.0,0.506946325302124,0.5572494864463806,0.0,0.0,0.15499889850616455,0.4056718647480011,0.0,0.02581525407731533,0.0,0.0,0.0,0.03550292178988457,0.0,2.5007617473602295,0.0,0.9285083413124084,3.086646795272827,0.0,0.7608668804168701,0.009279844351112843,0.0,0.32317280769348145,0.1176551803946495,0.0,0.0,0.0,0.0,0.0,0.0,0.0,0.0,0.3289504051208496,0.4244922995567322,0.40208208560943604,0.0,0.3855943977832794,0.0,0.06323257833719254,0.0,0.00974695011973381,0.0,0.23028479516506195,0.0,0.0,0.0,0.0,0.0,0.8225287795066833,0.0,0.1110241636633873,0.0,0.03594023734331131,0.0,0.0,0.0,0.0,0.0,0.0,0.0,0.27174025774002075,0.05144340172410011,0.0,0.0,0.3665723204612732,0.0,0.0,0.0,0.0,0.820771336555481,0.5195068717002869,0.0,0.4822939932346344,0.1536378413438797,0.04703637585043907,0.025223976001143456,0.0,0.12278585135936737,0.03901094198226929,0.004177580121904612,1.724209189414978,0.3112475275993347,1.7557802200317383,1.0020259618759155,0.024538477882742882,0.0794372484087944,0.0,3.924283504486084,0.34688887000083923,0.009021924808621407,1.591558814048767,0.0,0.0,0.0,0.0,0.024690939113497734,0.18791237473487854,0.0,0.011016067117452621,0.1125289648771286,0.0,0.43807119131088257,0.0,0.001589123043231666,1.455711841583252,0.0,0.22523263096809387,0.0,0.08416375517845154,0.0,0.0,0.0,0.0,0.0,0.0,0.6478943228721619,0.0632801279425621,0.8989971876144409,0.0,0.0,0.6643660664558411,0.030528904870152473,0.0,0.0217631496489048,0.33858510851860046,0.0,0.36370420455932617,0.0,0.5928214192390442,0.0,0.027743807062506676,0.0,0.0,0.19141151010990143,0.0048599825240671635,0.0,0.1295502781867981,0.06137983128428459,0.0,0.0,0.0,0.724915087223053,0.1626158505678177,0.0,0.006478144321590662,0.0,0.0,0.0,0.0,1.5745759010314941,0.0,0.0,0.3926098346710205,0.08436307311058044,0.2996234893798828,0.0,0.0,0.0,0.0795038640499115,0.15438467264175415]</td><td>[-8.4832676554023,5.159815930222101,2.8101354604391107,-13.529260729868545,-13.203174410045271,-1.5695529738677427,-3.728748774791466,7.940716753909406,-5.928262698034288,6.668610600353952,-7.189487830037724,-6.484980730764688,-6.484342771925775,-9.662642415550158,2.069616144581719,-3.3836635454006316,2.2724208750646286,0.6398165115384505,1.4114958233916097,-1.486557919180983,1.072508783998873,-1.5877746668995008,-1.814619762983116,-8.116842279541896,-1.4874567278686204,0.09373063928946301,1.7378347743675404,2.131091644673129,-0.8156050234949659,0.22281369808818355,0.47179646237188144,-0.3464188330759025,-1.1413216329559517,-0.859297843697563,5.624782958455182,0.28033605562216113,4.9239008369094295,0.4618963848295622,1.139759361289285,2.8399561001958227,2.5514907471050625,-2.131206474187442,0.7972498725243483,3.0550730526387753,5.696221604063152,0.3623296037526579,-0.029206571295110936,-4.222412183028125,-0.5086878660466316,-3.081463493451473,-3.7446287516349246,-1.2110837336376892,2.4717983024899546,3.66623275548023,2.725974250271363,1.7689456632351515,1.1028316561368,0.9475032606060901,2.6254159966240302,1.7172624175526037,2.0659600017384334,1.4548302299139673,-5.417413597475417,1.878820856143458,-1.8688480226653885,1.4160306751262592,-0.7233026051263023,0.18200585619743886,-1.1772992580960535,4.168859803425392,-0.4332541106327521,0.9110471613554482,-4.336630840436652,2.699609321937222,-1.1551286206323255,-3.481591251149552,-1.1144802539338456,-0.7791533258046491,1.1063016660912457,3.103761371886147,2.0493335278289107,-1.2651641762915657,-0.8869018648739634,3.083671641330547,2.3380479692736875,-1.89258492489196,0.027765629329868535,3.7526814833194497,-0.4784508612739339,0.38004106837814555,0.23011370980356977,-1.149263518546159,-0.5945004625580592,0.12244425586011982,-1.949772795144817,1.7986668788813387,0.08141575794592411,-0.42959091152366163,-1.2230563565412595,-2.600264367021802,2.4397212180641326,2.218784883219011,-2.540243864419454,-0.4279530405987158,0.7628026099999317,0.26900949242240424,1.1711362809490973,-0.8085851359321774,0.5798908553120989,1.262685426616613,-0.2823551030792442,0.0663922817494637,1.0016452933945617,0.5246794849281631,-0.8614693419937823,-3.0896370418360095,-0.045267421080370546,1.2420232015281543,-0.06956910934638345,0.9098870648670548,2.3529610416443982,1.487363427876161,0.46846264814019506,0.8634184170498689,-0.6495603304829822,0.9738243048994553,-0.11372404676378758,-1.8562433516512125,-0.6915252865646575,0.9023419581021722,-0.2567410240584399,1.4543314873879845,0.5888376979877867,1.1336465611207533,-2.0819843912778646,1.417394844225726,0.38767020950883063,-0.5766503097074301,-2.113424220904912,-0.24464349582202027,0.32701582765468135,1.6038082537680702,1.6585216941619834,-0.7258763810012848,-0.8373635250541404,-1.0687788099658815,1.336796905291601,-2.7735032703648774,-0.08533977471134176,1.644946519588653,-0.9863229170263795,0.9096553586990029,-0.23747232292156836,0.1709746087263031,1.0747279701978947,0.8081173996964476,-2.554030927089957,-0.7330995664773083,-0.1706277665600816,0.5970290914556099,1.1302203481644277,1.5269643382018807,0.9673285693233857,-0.1777473764674087,-1.9039878375389025,-0.372430119898429,-1.0031035545719034,0.5835215992595562,0.45625120488211635,2.0883475184880105,-1.061766280497214,-0.8730539660004305,-0.6526502280393742,2.1721630343171214,0.7435095355018977,-2.1354403189875013,-0.5250280096586593,2.885161299656837,1.2306161024933289,0.8671227776957297,-1.149675607719172,0.2427960074335622,-0.5827707151158535,0.9049843425917827,2.8385179100351894,0.13753310389141718,0.5517555266936127,-0.24833083120985922,0.9278345792703065,0.13913823075674348,-0.537556563996936,-1.4073574822907446,-0.002582227353975697,-0.1642555309871985,0.27813182300923683,-2.118488826399989,1.2048603773903939,-0.9172363446527404,0.18835226730600343,1.3156069543863147,2.1578118922042187,-0.39905585212572087,-0.18209674935111536,1.297685814999559,0.13178814973692426,0.22891323395455748,1.0438414696216631,-1.9426439387082428,0.3008695695878071,-0.2659948425053218,0.2548213523601335,-0.3664891984151548,-0.46270084692494495,-0.4047468582029769,-0.463348137326536,0.19274633867414517,1.434571313518784,-0.563823312639985,-0.09419774699052932,0.07324633972683499,-1.6118746633153482,1.681826004379049,0.2759125777310815,0.7962741112646109,0.5162817185740514,-0.02972109676010289,1.03077646927038,0.18951287828647262,-0.0071322962827506855,0.5289720171298459,0.2285623400331471,0.11844843595406153,-0.4722870027349874,-0.1210549218470525,1.341094733026188,0.9660675191409063,0.3534883085035732,1.1745490764369226,0.4085408985145672,-0.211326477069805,0.4988070919643603,0.43309074716342694,-1.5690886936665076,0.1624952340926218,0.7016558063481572,-1.17573978627006,0.33542811192110644,-1.490751723571664,-0.5135498851075881,1.5834965382833543,0.6832176102348767,-0.36799416727854783,-0.29610839461512223,0.6266127091482863,-0.5368502571024587,-1.3550771344158894,-1.0339270498186828,0.1830633406034571,0.499785520499643,-1.996773653346495,-0.7912373990123721,-1.0071225502545593,-0.039281926055942495,0.4125973471094271,0.0010226308112099795,-0.013953120739252646,-1.161176407884501,1.671832065631106,-0.17896340942079408,1.9445495819671148,0.2261364984702158,0.261838732218927,-0.2076213073598263,0.29552356850142925,-0.20480205224594192,-0.15288717451276598,-0.038643516021215435,-0.5541509148336262,0.018601275727007687,-0.19942984894454435,1.4471672609703243,-1.6915607057833613,0.12931691864291822,0.03785681619270689,0.6261674110171308,-0.2233251010542883,-0.05173903062389142,0.1116890435290515,0.02117122792198063,0.34661676443183126,1.5045994568920562,-0.48763872010908066,1.3099181882055295,0.4530757375591406,-0.5258181539839678,-0.3064496103152865,1.092957837513885,-0.2107358540579588,-0.602476501898616,0.948850471027622,-0.32981691808891017,-1.637629820266232,-1.3179791302958652,-0.6984261403136733,-0.39495901463643934,-1.0147955756240525,0.21413175570674545,-0.12841006281927597,-0.6381566959586578,-0.33386400099671076,-0.6118862330205365,-0.3636432406383614,-0.5232453879142394,-0.9282194200350495,1.3440408223261896E-4,0.2007627019403601,0.5466173459574006,-0.6737882655856939,0.5164175818153098,-1.423190518571521,0.4531547488055822,-0.859166422964124,-0.1713507583236238,0.7301685323420326,0.3498586391944752,-0.3147522124878248,-0.191657431952665,-0.9086050253373191,-0.4936051647886524,0.20070756308184856,-0.3098130589440448,-1.5267330785811808,-0.2783197596125995,0.7823638759623159,1.0070838142734153,0.4639491750152993,0.017069546587288372,1.188006330311436,1.064647995514651,-0.09498788232802803,0.050143363719347,0.5191735285610862]</td></tr><tr><td>s3://cap9-fruits/img/Watermelon/r_176_100.jpg</td><td>Watermelon</td><td>[0.0153797697275877,0.3530818521976471,0.0,0.0,3.096541404724121,0.7467890381813049,2.208709716796875,0.0,0.018192291259765625,0.0,0.2562030553817749,0.09999962151050568,0.010258392430841923,0.08692433685064316,0.0,1.1450576782226562,0.0,0.009167807176709175,0.0,0.1199641302227974,0.008248222060501575,0.0,0.0,0.0,0.15556593239307404,0.08934854716062546,0.27715373039245605,0.0,0.024112273007631302,0.06566587835550308,0.02724708802998066,0.0,0.5757948160171509,0.12115996330976486,0.0,0.0,1.1562013626098633,0.3725508153438568,0.378815233707428,0.0,0.0,0.0,1.5192742347717285,0.18573905527591705,0.0,0.0,0.47983044385910034,1.0136055946350098,1.3990356922149658,0.17766104638576508,0.0,0.0,0.1322592943906784,0.0,0.15357480943202972,0.511473536491394,0.0,2.80250883102417,0.0,0.0,0.3039276599884033,0.268010675907135,0.0,0.0,0.5507116317749023,0.8151305913925171,1.0978097915649414,0.12850019335746765,0.0,0.01776723563671112,0.0,0.2515811026096344,0.14028064906597137,0.0,0.2540165185928345,0.2517896890640259,0.0,0.3409233093261719,0.0,0.0,0.0,0.37429800629615784,0.0,0.0,0.0,0.0,0.0,1.5216943575069308E-4,0.8717951774597168,1.8957772254943848,0.04493984952569008,0.0,0.6368851065635681,0.0,0.021567314863204956,0.4240877330303192,0.06880065053701401,0.0,0.5049658417701721,0.0,0.04165724292397499,0.004887610208243132,0.0,0.0,0.4474565088748932,0.0,0.0,0.528370201587677,0.0,0.0,0.0,0.03018173947930336,0.0,0.05914749577641487,0.0,0.09028443694114685,0.0,0.0,0.0,0.04736734926700592,0.00813897792249918,0.0,0.0,1.1992980241775513,0.012850664556026459,1.0269311666488647,0.5370519161224365,1.8700748682022095,1.764329433441162,0.48801642656326294,0.0,1.5975866317749023,0.04852078855037689,0.0,0.0,0.0,0.01037251204252243,0.026331210508942604,0.21139562129974365,0.05312339588999748,0.0,0.0,0.12055101990699768,0.0,0.0,0.04363995045423508,0.034136734902858734,0.39726701378822327,0.09489282965660095,0.38405510783195496,0.0,0.0,0.0,0.26683562994003296,0.0051253181882202625,0.4984048306941986,0.0,0.0,0.3220789134502411,0.003469642251729965,0.0,0.06443741917610168,0.010561378672719002,0.0,1.1717952489852905,0.4904683232307434,0.9676927328109741,0.0,1.2683509588241577,0.3263964056968689,0.008468267507851124,0.0,0.016587305814027786,0.0,0.0,0.29515209794044495,0.26637881994247437,0.250547856092453,0.11161114275455475,0.5988810658454895,2.720435857772827,0.0,1.1805328130722046,0.1895315796136856,0.4017801880836487,0.3879897892475128,0.7607210278511047,0.3406996726989746,0.0,0.0,0.001858944771811366,0.2731122076511383,1.0796873569488525,0.5356967449188232,0.3619740605354309,0.0012496053241193295,0.0,0.0,0.02233039028942585,0.17760196328163147,0.17599424719810486,0.0,0.10566253960132599,0.20299158990383148,0.2882016599178314,0.0,0.0,0.054810281842947006,0.0,0.2736392021179199,0.0,0.011661432683467865,0.12863117456436157,0.0026252511888742447,0.006382883992046118,2.736729860305786,0.0,0.0,0.24185717105865479,0.0,0.0,0.012490145862102509,0.12024609744548798,0.012524215504527092,0.0,0.0,0.0,0.0,0.3821567893028259,0.0,0.5451863408088684,1.5166434049606323,0.06598827987909317,0.888566255569458,0.1326715648174286,0.0,0.0,0.0,0.13014040887355804,0.6048979163169861,3.402116060256958,0.30355921387672424,0.015970444306731224,0.0,0.6269006729125977,0.022246846929192543,1.9147528409957886,0.3789849877357483,0.978529155254364,0.7541991472244263,0.26753854751586914,0.12188098579645157,0.9333608150482178,0.0,1.171592116355896,2.603389263153076,2.460862874984741,1.2470340728759766,0.0,0.16775918006896973,0.0,2.6365456581115723,0.5411259531974792,1.197128415107727,0.0,0.009456605650484562,0.0,0.0,0.0,0.0,0.3048169016838074,0.0,1.6555349826812744,0.02855571359395981,0.05090654268860817,0.0,0.0,0.0,0.1456916779279709,0.0,0.2108909785747528,0.03531000390648842,0.0,0.0,2.2669544219970703,0.0,0.0,0.0,0.45380112528800964,0.0,0.01821943186223507,0.0,0.0,0.07745812088251114,0.0,0.9676641225814819,0.19703979790210724,1.200549602508545,0.0,0.0,0.0,0.012041831389069557,0.0023409882560372353,0.02494615502655506,0.2271387130022049,0.33767735958099365,0.0,0.0,0.015469327569007874,0.017857104539871216,0.050118543207645416,0.8088948726654053,0.7272608280181885,0.027820557355880737,0.2156844586133957,0.011549190618097782,0.0,0.0,0.0,0.0,0.0,0.8728141188621521,0.7325196266174316,1.1038092374801636,0.0,0.006271673832088709,0.0,0.0,0.0,0.21120505034923553,0.0,0.0,0.417657732963562,0.143150195479393,0.0,0.4804168939590454,0.07327477633953094,1.0543019771575928,0.0,0.06644239276647568,0.11135216057300568,0.0,0.013705292716622353,0.03948751837015152,0.3278508186340332,2.0445597171783447,0.29853034019470215,0.0,0.18031081557273865,0.0,0.08321988582611084,0.0,0.0,1.391175389289856,0.0,0.0,0.0,0.0,0.6464903950691223,0.43069419264793396,0.01351621188223362,0.6069115400314331,0.006206313148140907,1.9845786094665527,0.06086767092347145,0.11970745772123337,0.4970302879810333,0.07220500707626343,0.0,0.0,0.0,0.0,0.0,0.03153235465288162,2.9970338344573975,0.0,0.21695074439048767,0.44044867157936096,0.0,0.5038033127784729,0.0,0.2462664246559143,0.08485717326402664,0.0,0.07835610210895538,0.0,0.7482722401618958,0.0,0.0,1.341920018196106,2.34181809425354,0.0,0.03304214030504227,0.0,1.1352643966674805,0.047719091176986694,0.6996261477470398,0.0,0.0,0.12459149956703186,0.5183702111244202,0.5777296423912048,0.0,0.0,0.0013329933863133192,0.03690211474895477,1.0869395732879639,0.2072453796863556,0.4870598018169403,0.0,2.1818435192108154,3.9188930988311768,0.0,0.4625431001186371,0.0,0.30487173795700073,0.04082497954368591,0.893501341342926,0.1590452343225479,2.394766092300415,0.0,1.772841215133667,0.0036086353939026594,0.005807983689010143,0.23776587843894958,0.13649596273899078,1.1266378164291382,0.018310245126485825,0.0,0.0,0.0,0.0037275333888828754,0.1680995374917984,0.0,0.0,0.4304030239582062,0.004864877555519342,0.0,0.0,0.0,0.0,0.9048563241958618,2.338313579559326,0.6508904099464417,2.4488818645477295,2.418290376663208,0.22054123878479004,0.03756935894489288,0.0,0.0,0.03852057084441185,0.07066205888986588,0.06931731849908829,1.3232437372207642,0.7325294613838196,0.4264008700847626,0.0034231068566441536,0.0,0.0,0.0,1.8923863172531128,0.05444931611418724,0.0,0.36574119329452515,1.1531668901443481,0.0,1.1774570941925049,0.0,1.4137054681777954,0.0014292658306658268,0.10413319617509842,0.0,0.0,3.0461418628692627,0.5606364607810974,0.0038527664728462696,0.06271819770336151,0.028828436508774757,0.0,2.709455728530884,0.08921071141958237,0.39544743299484253,0.0,1.3206968307495117,0.8120470643043518,0.008464180864393711,1.4540013074874878,0.5876603126525879,0.0,0.19947510957717896,1.572243094444275,0.0,0.0,2.0612685680389404,3.21539306640625,0.007754734717309475,0.04917142912745476,1.1119129657745361,0.0336226262152195,0.002355001401156187,0.061611875891685486,0.49558737874031067,0.0,0.0,0.0,0.0,0.0,0.0,0.0,0.0,0.03184278681874275,0.12032829225063324,0.0,0.8302378058433533,0.0,0.9012591242790222,0.0,0.03404107317328453,0.020481713116168976,0.0,0.0,1.9860466718673706,0.0,1.4699386358261108,0.0,0.0,0.04275758937001228,0.004380196798592806,1.8952875137329102,0.0,0.0,2.2509207725524902,0.0,0.004343840759247541,0.0,0.16099075973033905,0.0,0.0,0.0,0.0,0.0,0.0,0.5279980897903442,0.0,0.06876790523529053,0.0,1.3779438734054565,0.5319516658782959,0.6520756483078003,2.3575899600982666,1.0925602912902832,0.0,0.0,0.023418834432959557,2.057809352874756,0.0,0.05083737149834633,1.2811665534973145,2.4520514011383057,4.01285457611084,0.0,0.011860613711178303,1.5958833694458008,0.0,0.0064413403160870075,0.0862174928188324,0.2530607581138611,0.0,0.0,0.0,0.0063482304103672504,0.1695544570684433,0.03464648127555847,0.0,0.5581355094909668,0.40646129846572876,0.7830421924591064,0.2441200166940689,0.0,2.945044755935669,0.7145377397537231,0.0,0.0,0.0,0.07849668711423874,0.0,0.11128102242946625,0.0,0.0,0.0,1.5005537271499634,0.05763225257396698,0.05993473157286644,2.6161975860595703,0.5002647638320923,0.5633028745651245,0.0,1.8657023906707764,0.16776251792907715,0.0,0.07527434825897217,0.0,0.3071567118167877,0.04255806654691696,0.01877559907734394,0.0,0.06542260199785233,0.24025273323059082,0.0,0.670954167842865,1.031294345855713,0.007877388969063759,0.026643451303243637,0.0,3.139683961868286,0.03155817463994026,1.428288459777832,0.25775885581970215,0.10959802567958832,0.0,0.0,1.9518110752105713,0.16038018465042114,0.0,0.0,0.0,1.2339468002319336,0.0,0.0,0.0,0.47844967246055603,0.0,0.15051144361495972,0.0,0.0,0.2260698527097702,0.25211548805236816,0.19891297817230225,0.2690475285053253,1.8027067184448242,0.09707119315862656,0.3104141056537628,1.2745256423950195,0.3942347466945648,0.0,0.0032553868368268013,0.0,0.0,1.585994839668274,0.0,0.21752338111400604,0.3050509989261627,0.0,0.0,0.11432743072509766,0.027673915028572083,0.42847388982772827,0.16015306115150452,0.0,0.0,0.01844426617026329,1.2429637908935547,0.07969056069850922,0.0,0.9729325175285339,2.463510513305664,0.0,0.0,0.1369483768939972,0.6417738795280457,2.164585590362549,0.0,2.368727445602417,0.45263034105300903,0.8587070107460022,0.14692917466163635,0.0,0.13785231113433838,1.4624292850494385,0.0051705301739275455,0.47183990478515625,1.0288347005844116,0.14672084152698517,0.10567156225442886,0.0821271687746048,0.47418949007987976,0.0,0.022028494626283646,1.1228106021881104,3.7341296672821045,0.37817272543907166,0.0,0.0,0.0,0.6687906980514526,0.010095440782606602,0.11110120266675949,0.24529941380023956,0.0,0.0,0.0,0.21278564631938934,0.0,0.0,0.0,0.012382692657411098,1.5671194791793823,0.11850585043430328,0.001293328357860446,0.028877336531877518,0.00905138161033392,1.7351933717727661,1.2281492948532104,0.003962516784667969,1.1490652561187744,1.2857279777526855,0.0,0.24484413862228394,0.815496027469635,0.47595906257629395,1.0132369995117188,0.3082863688468933,0.0,0.0,0.588667094707489,0.7778236865997314,1.897071361541748,0.0,0.0,0.18984545767307281,0.0,1.7095333337783813,0.5010017156600952,0.0,0.0,0.07511485368013382,1.2477123737335205,0.0,0.05662276968359947,0.28705549240112305,1.5501925945281982,0.4812358021736145,0.8650419116020203,0.1171860471367836,0.04853324592113495,0.030927151441574097,0.0,1.8651864528656006,0.3386334776878357,0.0,0.0,0.0,0.16489779949188232,1.063833236694336,0.19548165798187256,0.07055578380823135,0.8265404105186462,0.309223473072052,2.4304637908935547,0.027701912447810173,0.0,0.5522921085357666,1.450242042541504,0.0,0.0,0.14186494052410126,0.44157958030700684,0.28173303604125977,0.8314707279205322,0.0,0.16273057460784912,0.0,0.0,0.03412245586514473,0.0,0.0,1.9403798580169678,0.23234106600284576,0.011817708611488342,0.5471489429473877,0.7440721392631531,0.0,0.0,0.012015167623758316,0.009537434205412865,0.4383198618888855,0.0,0.499189168214798,0.0,0.05677312612533569,0.6000300645828247,1.1130778789520264,0.0054593863897025585,0.6755589842796326,0.05585724115371704,0.0,0.0,0.25886663794517517,0.0,0.0,0.21924550831317902,0.0,0.0,0.3991691470146179,0.0,0.004378182347863913,0.10132835060358047,0.0,0.2279425710439682,0.23763547837734222,0.0,0.15387007594108582,0.0,0.0589187890291214,0.23918363451957703,0.266430139541626,0.0,0.0,0.0,0.3603839576244354,0.16539187729358673,0.0,0.0,0.0,0.5318347811698914,0.45409905910491943,0.0,3.788299322128296,0.004919266328215599,0.011344743892550468,0.657361626625061,0.0,0.16574998199939728,0.0,0.0,0.8615761399269104,0.0,0.16476896405220032,0.9803146719932556,0.0356544554233551,0.0,0.048194896429777145,0.0,1.5214213132858276,0.7545605301856995,0.17990703880786896,0.0,1.0173859596252441,0.0,0.0,0.0,2.1648993492126465,0.0,0.33952945470809937,0.0,0.0,2.6720380783081055,0.0,0.0,0.1836291402578354,0.0023467782884836197,0.04397621005773544,0.0,0.3853982388973236,0.0,0.0,0.0,0.0,1.04181706905365,0.09042090177536011,0.0,0.05506810545921326,0.500135600566864,0.24307282269001007,0.0,0.06804843991994858,0.0,0.0561930388212204,0.052431922405958176,0.7634766101837158,0.0,0.0,1.6179753541946411,0.09956725686788559,0.027964845299720764,0.041776422411203384,2.407835006713867,0.0,0.06406126171350479,0.0,0.0,0.0,0.0363105945289135,0.8817314505577087,0.0,0.05391978099942207,0.0,0.05712311714887619,0.0,0.0,0.11000081151723862,0.001780548831447959,0.0,0.0,0.0,0.0,0.0,0.0,0.0,0.1726660579442978,0.0,0.0,0.0,0.0,0.21153366565704346,0.21188436448574066,0.0,1.0979992151260376,0.0,0.0,0.0,0.0,0.6324655413627625,0.0,0.0023650440853089094,0.7502278089523315,0.09505036473274231,0.0,0.0,0.24949970841407776,0.0,0.005513930693268776,0.3968612849712372,0.06930758059024811,0.0,0.46604523062705994,1.8561252355575562,0.06353893876075745,0.0,0.0,0.3781947195529938,0.06141543760895729,0.0,0.39537009596824646,0.375051885843277,1.296370029449463,3.9599297046661377,0.0,0.2951345145702362,0.0,0.37635838985443115,1.5301426649093628,0.005092533305287361,0.0,0.19731934368610382,0.24850451946258545,1.866165280342102,0.0,0.28373321890830994,0.02323991432785988,0.3313872814178467,0.00337169598788023,0.0,0.022060852497816086,1.4036024808883667,0.0,0.0,0.6509803533554077,0.0,0.1699705868959427,0.39616480469703674,1.4664303064346313,0.7096720933914185,2.1335721015930176,0.2492523193359375,0.05447465553879738,1.1489514112472534,0.4654921591281891,0.0012177836615592241,0.2737383544445038,0.0,0.8625698685646057,0.7144420146942139,0.0,0.11058714985847473,0.0,0.0,0.0,0.0,0.0,0.0,0.08389605581760406,0.0,1.8251144886016846,0.0,0.0,0.46263784170150757,0.3429065942764282,0.0,0.45160531997680664,0.0,1.1455949544906616,0.09439718723297119,0.0,0.04295836761593819,1.3958393335342407,1.498551607131958,0.0,0.0,0.04181622341275215,0.0,0.0,0.0,1.1705808639526367,0.7119269967079163,0.08329584449529648,0.0021912322845309973,0.04553448408842087,2.4142253398895264,0.0,0.5601202845573425,2.3130648136138916,0.004585606511682272,0.03647351637482643,0.0,0.0,0.616637110710144,1.1322882175445557,0.0032923854887485504,0.30489590764045715,0.0,0.0,1.0850234031677246,0.133738175034523,0.9225777387619019,0.01679065264761448,0.0,0.0,0.0,0.09449170529842377,1.4797425270080566,0.0,0.0,0.034995272755622864,0.8453925251960754,0.15684621036052704,0.0,1.2621841430664062,0.0,0.07040195912122726,0.23020896315574646,0.0,0.9596506357192993,1.2329975366592407,1.1259081363677979,0.23769332468509674,1.2925505638122559,3.5763156414031982,0.010727239772677422,0.018951786682009697,1.0263267755508423,0.0,0.015470962040126324,0.0,0.0,0.08441862463951111,0.33857494592666626,0.0,0.41952770948410034,1.1006916761398315,0.8797436952590942,0.4249023497104645,0.0,1.0743916034698486,0.01975954882800579,1.3128782510757446,0.0,1.2846680879592896,0.0022830574307590723,0.0,0.317388117313385,0.2625848054885864,0.0,0.0,1.831943392753601,0.0,0.0,0.14176446199417114,2.2859842777252197,0.18195782601833344,0.2742156684398651,0.07660945504903793,0.9986084699630737,0.33153143525123596,0.0,0.0,0.0,1.8358302116394043,0.04550885036587715,0.26452356576919556,0.01806572452187538,7.874624861869961E-5,0.5351567268371582,0.37041154503822327,0.0,0.041646577417850494,0.2354947179555893,0.13766930997371674,0.0,0.0,0.23349662125110626,0.0,0.0,0.7991077899932861,0.0,0.02224607765674591,0.1721329391002655,0.3757164180278778,0.5825788378715515,0.0,0.0,0.015142294578254223,0.26701992750167847,0.0,0.0,0.0,0.15863467752933502,0.005018935073167086,0.0,0.733087956905365,0.48036640882492065,0.0,0.09928186237812042,0.3351304829120636,0.3269672691822052,0.0,1.325299620628357,0.0,0.0,0.0,0.0,0.0,0.8457379937171936,0.028443142771720886,0.0,1.2555744647979736,0.0,0.0,0.0,0.2157905399799347,1.5356255769729614,1.2306851148605347,0.11360442638397217,0.0,0.12386558204889297,0.0,1.287682056427002,0.0,1.7382651567459106,0.0,1.5022016763687134,0.5510456562042236,1.6174930334091187,0.0,0.09802547097206116,0.0,0.0,0.0,0.6237123608589172,0.0,0.11842275410890579,0.0,2.5024585723876953,0.0,0.0,0.18536381423473358,0.7753695845603943,1.9070297479629517,0.0,0.0,0.809999406337738,1.1858439445495605,1.078500509262085,0.0,0.36857402324676514,0.1067923903465271,0.09812688827514648,0.34468841552734375,0.022924374788999557,0.6971669793128967,0.31088462471961975,0.0,0.0,0.06692125648260117,0.0,0.5142859816551208,0.06580934673547745,1.3042478561401367,0.3655827045440674,0.01890922151505947,0.2918044626712799,1.0431020259857178,0.7024666666984558,0.23536136746406555,0.8854733109474182,0.0,0.06855637580156326,0.39654555916786194,0.5394724011421204,0.0,0.37602561712265015,0.706006646156311,0.0,0.5264830589294434,0.056944672018289566,0.01839868351817131,0.0,0.0033653415739536285,1.253743290901184,0.0,0.005292522720992565,0.08365469425916672,0.7233563661575317,0.5550163388252258,0.0,0.18854740262031555,2.5500221252441406,0.025504130870103836,0.6373329758644104,0.0,0.9898788332939148,0.696342408657074,0.01419914048165083,0.0,1.9850280284881592,0.10053700953722,0.2124532014131546,0.0,0.0,0.5165846943855286,0.7838765978813171,0.08654262870550156,0.05351130664348602,0.36814257502555847,0.0,0.0,0.11570561677217484,0.006090018432587385,0.0,0.0,0.0,0.8691466450691223,0.0,0.06514937430620193,0.2278100997209549,0.2590550482273102,0.0,0.6457381844520569,0.013162389397621155,0.05049484595656395,0.26787447929382324,0.02925861068069935,0.0,0.39554378390312195,1.542556643486023,0.25679126381874084,0.1509486883878708,0.0,0.7093791365623474,1.0748388767242432,0.8580876588821411,0.0,0.0,0.39233407378196716,0.21004106104373932,0.0,0.006150936707854271,0.0,0.7604801654815674,0.0]</td><td>[-3.2858772328093693,3.2327606901135986,-5.68138224834807,0.42042268008646994,0.3854609094597271,3.8446704814474235,-5.3445413654004,1.5805560048822187,4.600258393281678,-3.374911069273737,-4.585290346172053,-3.4253300874683648,7.969604585114562,3.8292144919447484,3.432193228563879,-0.5214894975155615,4.014241044753904,2.9933247794522524,-4.2833183163618305,2.9082988575710362,-5.521979168059816,-2.860501914369997,7.588155093160692,9.05146089386977,4.320102592754548,0.5090858477770754,-0.18040538821325883,-4.955612223875496,-3.457718718576066,3.256385567189649,-1.8493694190937473,-3.918247156249079,0.6668135913140363,-0.14902107213209068,4.46473826608875,0.8753322293989924,-1.7513794099957294,-2.120572869013658,-1.0277048162680182,1.443371635703427,-1.7895289075403507,0.44482726485473395,-0.6074897622180002,-0.6364137113836623,0.823663261940751,-0.6151603660562877,-6.290525356901024,2.96722036913131,6.45404542192879,1.5886107141342436,-6.281948081314785,0.27233868001894207,-0.7065823591165319,0.7478226677675129,1.244457353881205,-4.5278002087804765,0.4651839539805634,2.4225864988563206,2.5310351220676623,2.2172920798016533,-0.8444211120305255,0.5744384786174215,-0.5222352596742753,1.0322641779722301,-0.8317223079026955,0.6195486825991771,1.4400573999923714,-0.2257241732683053,1.112191191751184,0.7131482868008695,1.2498872910803291,-1.787506376829152,2.3025969739031065,-1.0991245347348877,-1.499061105296917,-3.1935565110304847,-0.13933192032463232,-0.6099014299539569,-0.16506780343443206,1.2568368243996781,-0.01966610644819038,-2.2511831100232533,-2.895212442330837,1.7794175973800237,0.14402560082172686,1.492095737788695,0.5249259085115551,0.6192259028679012,1.5324951755619303,3.231176897086161,-1.4029640733041602,-0.38058121575348414,0.7189939465787419,0.47016023930835754,-1.8280216142403978,0.13601269332317092,1.2220314604650755,-2.148780382635156,-0.12511702795468113,-0.9007541012638667,0.14523662291659847,0.1464381437603722,1.0146260102033642,2.455610664718209,0.07552246238261856,-1.1950655217116437,0.14907201556430974,1.9119622403436343,-0.1622755824879892,1.2208287595627556,0.3823647936584388,-2.358698142948887,1.8313045354508872,-1.8901248022200643,-0.46425996805186603,1.0120520727245454,1.9474808971490165,0.3911751051277821,-1.6754675859928583,-0.30431992390412343,1.4236432462125617,-1.6691150941397244,-0.6461828099364247,-0.6531702842885178,-0.21197626710089132,0.3511126799921152,0.7149705408120474,0.02004942501031506,0.7158391157640227,2.631839333704882,-3.6387858376271582,1.7352235267062048,-1.345113726007639,-0.0230035780016735,0.31176833320821556,0.7250449384305643,-0.7507349072001273,0.5589115260394287,-1.778208221172227,-3.5804617121555253,-1.2629029512722332,-1.554437077948551,1.6188807703883652,-1.4224034703803792,-1.2110974272157717,-1.2919310434041045,-0.216866747615015,-1.0866059428567594,0.44653387391036575,-1.683555332327161,-1.9066842731215552,2.440797616488238,0.29393657365683906,-1.054939610040362,0.9955196634137997,-0.7324549050102805,-1.4226363934735007,2.6805311826037252,-1.6717351131597948,-1.5960037173270076,-1.1090733784542648,-3.252175991585598,-0.47765409376361584,0.25854700571981376,-1.7297821060871117,0.11087969022076033,1.2017343583053144,1.338900065114006,0.4545474764936884,1.7986986615747698,-0.6475617059839196,-1.9435907581402243,-0.3603370071099401,1.9464090093700626,0.6896214854531306,-2.632460994388713,-2.4352046914096523,-0.5170919713373249,-0.9587546549628635,-1.282006971232832,0.7961191161650111,1.656480166277374,1.2048455565373906,-1.360754483735964,1.156691123286798,-1.251989159777593,-2.704009361682646,5.024454830511021,-1.4772750068091667,2.540496159175291,-0.7618592723538675,0.3121424484592942,-0.09933082560446732,1.5539188933370311,-1.6487826545754911,0.8990433973688908,0.12797223564068538,0.19400492173936137,-0.5629238834498991,0.4707919671473188,-0.4580785461348085,-1.2117234238391956,-1.731987854103322,-1.2352154172419019,-1.2574446370217445,-1.541027223403,0.5419943697529378,-0.3431727761686309,-0.3361840170200232,-1.852928067864747,0.383014820774256,0.6980674231836294,1.934913951708429,-0.724227674587217,1.1061277418250948,-0.6551468244237066,2.5270470198079567,-0.7605513444699704,-1.01813468406981,-0.9720980756872274,1.6192485031486108,0.012250095209673583,-0.8827548690182341,1.1936879026348257,1.1092316635093016,1.1913914067909135,0.19116684542158308,-1.2458947566533065,-0.10709649157552767,-2.545139546163544,-0.49100616944233694,-2.2834557267670297,-0.06456866518404296,0.4758016741470506,1.3514481904610094,1.9888069272207025,2.47801905119297,0.3222850621381523,-0.4181992301126003,-0.786476972092623,0.06917696043063686,1.53558839423464,0.06495887873803821,0.2542309632924552,0.7832198605503669,-0.7052375776972403,1.1905793049902522,0.4244581456790185,0.028989550823868962,-0.9062083052478851,2.4204621503679107,-2.1200830374639534,0.19855724227456745,0.3971407090039448,0.6962770595178338,0.7487956424304019,-0.4058130885480664,-2.5322046800042366,-1.130192333606798,0.8280099275802519,-0.676168627803659,1.4929329783568295,0.9592462347308102,0.3770514103805162,1.4612549564584973,-0.5539370274030053,0.34848278734634125,-0.34648753745094285,-0.5019078043721095,-1.9114058897447765,-0.4952145792972004,-0.6070109047547384,0.7685517347609743,0.6741275510408519,0.26532350207477134,0.4528239260763636,0.369156737658239,0.49823067182838804,-0.3769221132690775,0.9018622090892698,0.3206165957683147,-2.728928570477815,-1.4291382663411638,-0.356293541549305,0.25043082800176386,1.1721046693323685,-0.36781789096324763,-0.31645563573885316,1.2838001271955592,-0.6834947474773256,-2.055906554344993,0.05216138542556552,0.1417488603493205,-0.21642818147247572,-0.7239819336777578,0.4054810197892799,0.3058890987176207,-1.6263830271430486,-0.7639384925096757,-0.4054585857177161,0.05942400682520363,1.2047385305420002,0.09846600463491686,-1.6246515352728572,-1.2716563586610237,-2.0628318879029393,-1.0232736442000527,0.20902776115102623,-0.6721362424740147,-2.787098983554586,1.9136944231896877,0.9511500580134697,-0.27348217074984593,1.0738029394517825,0.8876120006157981,-0.9184897900646182,-1.1690078529817522,1.2096980964659083,-2.2416190457732417,0.13359687209763002,-0.2928631667747269,-0.35333278109374283,-1.2208932280613558,-0.18437985973947635,1.674194783400408,0.21049863075744227,1.0507327422902977,-0.2607494821675588,0.12023456622744631,1.4272624954495643,1.4531373201326763,-0.4141918347142346,0.19869844818486168,1.0072161202454686,-0.5413376033805234,-0.47438263251013724,1.3035593658523603,-0.7666616190414579,-1.4218254437274298,-0.24279839525553593,1.3140213948551847,0.44739047176111757]</td></tr><tr><td>s3://cap9-fruits/img/Pineapple Mini/300_100.jpg</td><td>Pineapple Mini</td><td>[0.0,4.914043426513672,0.0,0.0,0.0,0.0023575511295348406,0.380725234746933,0.0,0.0,0.006834215018898249,0.0,0.0,0.33886754512786865,0.292545348405838,0.0,0.0,0.0,0.024838564917445183,0.0,0.5208727717399597,0.0,0.0,0.02122575417160988,0.0,0.0,0.0,0.0,0.2488134354352951,0.6966071128845215,0.0,0.0,0.02235609106719494,0.04940652847290039,3.318235158920288,0.0,0.9709447622299194,0.2475402057170868,0.24646104872226715,0.194448322057724,0.0,0.0,0.03845653682947159,0.0,0.0,1.5790889263153076,0.0,1.0400358438491821,0.2534797191619873,0.32566511631011963,0.1994268000125885,0.3789765238761902,0.0,0.0,0.0,0.08787928521633148,0.7022395133972168,0.0,0.0,1.133131504058838,0.0,0.6228225827217102,0.3281594514846802,0.02830890752375126,1.711838722229004,0.9421471357345581,0.0074318768456578255,0.0,0.01030285470187664,0.07009754329919815,0.4604558050632477,0.0,2.327970504760742,0.0,2.9815568923950195,0.8123325705528259,2.687915325164795,0.637057363986969,0.0,0.0,0.0,0.0,0.0,0.0,0.12250345945358276,0.13962717354297638,0.0,0.0,0.015343530103564262,0.0,1.6462411880493164,0.10830500721931458,1.3023916482925415,0.27167290449142456,0.0,2.6338274478912354,0.007716120686382055,0.0,0.0,0.0,0.893598735332489,1.224349021911621,0.25786951184272766,0.0,0.0,0.31301799416542053,0.0,0.43744567036628723,1.4805949926376343,0.0,0.08491844683885574,0.0,0.0050291335210204124,0.05993206799030304,1.1509488821029663,0.1485651433467865,0.0,0.44298404455184937,0.0,0.2285429835319519,0.3238048553466797,0.0012726394925266504,0.001632067607715726,0.0,0.16282935440540314,0.012660698033869267,0.0,0.35334065556526184,1.1927096843719482,0.21732796728610992,0.0990872010588646,0.4000302851200104,0.0,1.2295756340026855,0.0,0.2779677212238312,0.0,0.0,0.0,0.20590612292289734,0.0,0.0,0.04023690149188042,0.0,0.017511950805783272,0.0,0.6095559000968933,0.5283914804458618,0.01090801041573286,0.2890840768814087,0.0,0.0,0.0853077620267868,1.2512812614440918,0.0,0.04678495600819588,0.9900616407394409,0.04320961982011795,0.020875122398138046,3.063157320022583,0.15520907938480377,0.0,1.7109252214431763,0.0,0.030589181929826736,0.05953091010451317,0.4314107298851013,0.0,2.1658926010131836,0.007651105057448149,0.0,0.0,0.009134973399341106,0.7015061378479004,0.0,0.0,0.07942789793014526,1.5212346315383911,0.0,0.006350974552333355,0.05523613467812538,7.668709149584174E-4,0.0,0.9193245768547058,0.3745138347148895,0.09930858761072159,0.18977245688438416,0.14299815893173218,2.9706592559814453,0.0,0.0,0.0,0.0,0.29452550411224365,0.0,0.03264450654387474,0.0,0.0,0.0,0.0,2.88275146484375,0.062070272862911224,0.05473850294947624,0.0,0.0,0.0,0.0,0.0,0.0,0.0,0.0,0.0,0.0,0.07662282884120941,0.3260705769062042,0.0,0.3796686828136444,0.39761337637901306,0.0,1.1680760383605957,0.0,0.0,0.0,0.27911576628685,0.05422641709446907,0.06748513877391815,0.0,3.1462128162384033,0.08228305727243423,0.6734520792961121,0.7491475343704224,2.1809253692626953,0.0,0.0,0.18339978158473969,0.0,0.0,2.2519450187683105,0.19274723529815674,0.0,0.25623780488967896,0.016814932227134705,1.3060685396194458,0.0,0.3513942360877991,0.0,0.004704894032329321,0.48813027143478394,0.0,0.0,0.03255956992506981,0.0,0.0,0.046629440039396286,1.5099519491195679,0.09674765169620514,1.8658990859985352,0.0,0.08577144145965576,2.138073444366455,0.04341697692871094,0.0,0.13159756362438202,0.16279035806655884,0.10345401614904404,0.0,0.0,0.0,0.0,0.0,0.0,0.0,0.17739926278591156,0.802412211894989,0.07099415361881256,0.0,0.0,1.941043496131897,0.0701553225517273,0.14051736891269684,0.22343841195106506,0.313233345746994,0.0,0.0352802574634552,0.0,0.46918627619743347,0.0,0.0,1.5722808837890625,0.0,0.05927953124046326,0.2617945373058319,0.2631710469722748,0.031157134100794792,0.010220741853117943,0.0,1.465674877166748,0.0,0.0,0.03303520008921623,0.14649474620819092,0.0,0.09092354029417038,0.031171321868896484,0.024825135245919228,0.45128732919692993,0.0,0.0,0.0,1.0846188068389893,0.4301718473434448,0.0059010935947299,0.0,0.0063367183320224285,0.9026455879211426,0.0,0.0,0.0,0.0,0.0,0.0,0.0,0.7350165843963623,0.09025587141513824,0.05686470866203308,0.0,0.1763826608657837,9.96219925582409E-4,0.0,0.1287349909543991,1.0447062253952026,0.0,0.010973171330988407,0.16650690138339996,0.43966391682624817,0.0,1.843546986579895,0.013630380854010582,0.0,0.0,0.0,0.543761134147644,0.0,3.063600540161133,1.4108500480651855,0.04132179170846939,1.1764100790023804,0.0,0.0,0.06160375103354454,0.0,0.0,0.040349628776311874,0.0,0.4976840615272522,0.0,0.0,0.10003543645143509,0.0,0.06159589812159538,0.07737486809492111,0.038188934326171875,0.0,0.04034965857863426,0.39669308066368103,0.0,0.03340090438723564,0.0,0.0,0.3012068271636963,0.0,0.0772809386253357,0.3522908091545105,0.0,0.31735357642173767,0.013579864986240864,0.6258522272109985,0.005210068542510271,2.338569402694702,0.0,0.0,0.0,0.0,0.048048749566078186,0.0,0.0,0.0,0.006804359145462513,0.0,0.0,0.0,1.075890064239502,0.0,0.0,0.1534820944070816,0.0,0.015901653096079826,0.03153969347476959,0.0019546723924577236,0.0,0.009792638942599297,0.0,0.005223468877375126,0.0,0.5660608410835266,0.0,0.3463474214076996,0.0,0.024457162246108055,1.186385989189148,0.03282523527741432,0.0,0.5053552389144897,0.21493282914161682,1.471745252609253,0.0879284143447876,0.13334663212299347,0.6116892695426941,0.3426348567008972,0.3678606450557709,0.47201889753341675,0.0,2.8607614040374756,0.04047863930463791,0.09056287258863449,0.0,0.31598687171936035,1.0707937479019165,0.0,0.0018657762557268143,0.3602273166179657,0.6248400807380676,0.0,0.0024267020635306835,0.0,0.0,1.6970404386520386,0.1527678370475769,0.009725279174745083,0.0,0.07446597516536713,0.10841382294893265,0.9521079659461975,0.7838391661643982,0.78928142786026,0.006563595496118069,2.53464412689209,0.0,0.10124785453081131,0.0,0.0,0.0,0.4320887625217438,0.009235021658241749,0.0,0.0,0.0,0.5382632613182068,0.015761082991957664,0.0,0.4651263952255249,2.0066895484924316,0.0,0.04318012669682503,1.5357309579849243,0.6104891896247864,0.15374146401882172,0.028662974014878273,0.0,0.028651149943470955,0.7126842141151428,0.1138259768486023,0.06545323878526688,0.0,3.4358463287353516,0.0,0.0,3.7891488075256348,0.0,0.011794226244091988,0.1574186533689499,0.0,0.05684623122215271,0.0,0.01009121723473072,0.37474381923675537,0.0,0.08531773090362549,0.49815982580184937,0.0,1.2649967670440674,0.0,0.0,0.026462934911251068,0.12839430570602417,1.3166911602020264,0.0,2.0688819885253906,0.06741809844970703,0.0,0.0,0.009487668052315712,0.7289885878562927,8.121217833831906E-4,0.0,0.23908264935016632,0.0,0.0,0.0,0.0,0.05752095580101013,0.08559180051088333,0.8735432624816895,0.0537712424993515,0.1164114847779274,0.20389512181282043,0.007009768858551979,0.0,0.0,0.0,0.20332039892673492,0.0,0.03356920927762985,0.0,0.07744157314300537,0.0,0.0,0.41239842772483826,0.3703417181968689,0.6331723928451538,0.0,0.0,0.0,0.0,0.027940653264522552,0.1490183174610138,0.29671865701675415,0.0,0.010122445411980152,0.19047382473945618,0.005356370005756617,0.0,0.0,0.0,0.028227727860212326,1.0152864456176758,0.8295127749443054,0.0,0.0,0.32401785254478455,0.06777200102806091,0.14254958927631378,0.010505258105695248,0.0,0.35247600078582764,0.0,1.7712922096252441,0.89990234375,2.470795006956905E-4,0.010739774443209171,0.11769713461399078,0.16056233644485474,0.0,0.23141725361347198,0.16057279706001282,0.11938413232564926,0.43302789330482483,0.09441442042589188,0.18181224167346954,0.22275258600711823,0.0,0.3963663876056671,3.0845935344696045,0.0,0.0,0.15831848978996277,0.024196458980441093,0.0,0.16614073514938354,0.0,1.1721012592315674,0.03264686092734337,0.0,0.0,0.0,0.0,0.257213294506073,0.00333762657828629,0.01167653501033783,1.0060899257659912,0.13093405961990356,0.0,0.0,1.0177985429763794,0.3888038396835327,0.0,0.08213014155626297,0.0,0.010301434434950352,6.782375858165324E-4,1.160764455795288,0.015750087797641754,2.9063479900360107,0.9933717846870422,0.0,0.0,0.0,0.04331198334693909,0.3517294228076935,0.0,0.4310322105884552,0.3932037651538849,0.1401476114988327,0.0,0.0,0.4647141396999359,0.0,0.1584681272506714,0.4681675136089325,0.0,0.0,0.05521384999155998,0.5111960172653198,1.013655424118042,0.0,0.08989399671554565,0.0,0.0,0.0,0.0,0.020698264241218567,1.979775309562683,0.0,0.021753856912255287,0.0,0.0,0.0,2.3775837421417236,1.9710097312927246,0.10039100050926208,0.0,0.0,0.13736405968666077,0.05374840274453163,0.1629604548215866,0.0,0.0,0.0,0.019027583301067352,0.4913098216056824,0.0,0.011358854360878468,0.0,0.0,0.0,0.327800989151001,0.03603101149201393,0.14454932510852814,0.0,0.15191465616226196,0.10791432112455368,0.1609426736831665,0.29344573616981506,0.0,0.04916998744010925,0.0,0.0,0.0,0.0,0.0,0.0,0.0,0.0,3.887467622756958,0.0,0.0,3.77004075050354,0.0,0.0,0.0,0.0,0.0,0.0,0.12181713432073593,0.0,0.0,0.0,0.010391974821686745,0.07254521548748016,0.0,0.0,0.644600510597229,0.0,0.007815477438271046,0.0,0.0,0.010519913397729397,0.005024121608585119,0.0,0.0,0.0,0.0,0.0,0.0,0.0,0.0,0.0,0.08617986738681793,0.0,0.0,0.2555481791496277,0.189010351896286,0.467663437128067,0.0862814337015152,0.20724830031394958,0.6896696090698242,0.5750777721405029,0.49871397018432617,0.0,0.0,1.728537678718567,0.1489662230014801,0.0,0.0,1.7618697881698608,0.0,1.3981624841690063,0.0,0.0,0.06485434621572495,0.06661424785852432,0.0,0.03198469057679176,0.021721206605434418,0.0,0.13083118200302124,0.6543425917625427,0.931654155254364,0.0,0.06715526431798935,0.0,0.0,0.029563728719949722,0.0,2.2980802059173584,0.10675062239170074,0.12414199113845825,0.0,0.0,0.0,0.0,0.0,0.0,0.0,2.929008722305298,0.0,0.03745541349053383,0.024364938959479332,0.04968331754207611,0.21898938715457916,0.0,1.4819386005401611,0.0,0.21583537757396698,0.0,0.0,0.0,0.18055659532546997,0.34945040941238403,0.0,0.0,2.6856045722961426,0.03939153626561165,0.21531949937343597,0.28490203619003296,0.0,0.0,0.9459167718887329,0.0,0.0,0.19381624460220337,0.0,0.0,0.1665821522474289,0.21083557605743408,0.021106379106640816,0.0,0.010478759184479713,0.0804930031299591,0.0,0.0,0.0,0.0,1.1547822952270508,0.015936169773340225,0.3715454041957855,0.0,0.0,0.01138831116259098,0.0,0.014325181022286415,0.11472516506910324,0.0,0.0,0.0,1.3118886947631836,0.0,0.0,0.0,0.0,0.0,1.0676214694976807,0.0,0.0,0.0,2.776433229446411,0.24754321575164795,0.07829666137695312,0.0,0.0,0.16725122928619385,2.009079933166504,0.0,0.0,0.0,0.042270805686712265,0.0,0.0,0.31728073954582214,0.0213114395737648,0.12161015719175339,0.10743892192840576,0.030670341104269028,0.0,0.0,0.08217494189739227,0.0,2.6534128189086914,0.7506257891654968,0.0,0.0,0.0,1.251030683517456,0.0,0.0,0.0,2.207759380340576,0.7083536386489868,0.0,1.1248010396957397,0.0,0.005218106787651777,3.39555287361145,0.0,3.4129581451416016,0.15619723498821259,0.0,0.7007260918617249,0.0,0.0,0.0,0.0,0.06616192311048508,0.0,0.0,0.0,0.0,0.0,0.13761231303215027,0.0,0.0426645390689373,0.0,0.6222874522209167,0.0,0.0,0.07200969755649567,0.0,0.0,0.011098667047917843,0.46932828426361084,0.39908599853515625,0.2582165002822876,0.0,0.1448426991701126,0.0,0.0,0.4651946723461151,0.0,0.07078500837087631,0.32891663908958435,0.4606173038482666,0.0,0.17467916011810303,0.0,0.9479747414588928,0.008651071228086948,0.7437163591384888,0.0,1.947540283203125,0.0,1.1129608154296875,0.0,0.1105722039937973,0.6663161516189575,0.0,0.05061155557632446,0.06289064884185791,0.027250144630670547,0.0,0.003800314385443926,0.0,0.2300662249326706,0.19354933500289917,0.015121420845389366,0.6739507913589478,0.0,0.0,0.0,0.0,0.0,0.002938737627118826,0.19947433471679688,2.3923497200012207,0.0,0.006912571843713522,0.0,0.019547229632735252,0.40317344665527344,0.3019925057888031,0.0017962066922336817,0.0,0.4936271905899048,0.0,0.0,2.4195568561553955,0.1391315907239914,0.0,0.7292307615280151,0.2556077241897583,0.0,0.5939615368843079,0.0,0.12182474881410599,0.0,0.4543324410915375,0.1286783367395401,0.0,0.31429433822631836,0.19575302302837372,0.25921007990837097,0.0,1.5892324447631836,0.07679608464241028,0.009761995635926723,0.0,0.5992705821990967,0.0,0.5650418400764465,0.0,0.0,0.0,0.46905872225761414,0.0,0.0,0.03833867236971855,1.3881226778030396,0.48293644189834595,0.0,1.8612616062164307,0.0,2.3473360538482666,0.6795580387115479,0.07190187275409698,0.1768733412027359,4.3165411949157715,0.08642194420099258,0.0,0.0,0.0,0.0,0.0,0.42412418127059937,0.985221266746521,0.12904225289821625,0.0,0.0,0.32071927189826965,0.0,0.07140185683965683,0.0,0.0,0.2158585786819458,0.26132991909980774,0.3006846308708191,0.31390029191970825,0.006234733387827873,0.0,0.016310622915625572,0.0,0.0,0.0,0.9802839159965515,0.9226177930831909,1.4316598176956177,0.0,0.0,0.0,0.0550709143280983,1.8376144170761108,0.0,0.0,0.03671768680214882,0.0,0.0,0.0,0.0,0.3470247685909271,0.3015485405921936,0.0,0.07054280489683151,0.0,0.3117064833641052,0.2687894403934479,0.0,0.0,0.10629647225141525,0.0,0.8993128538131714,0.0,0.40993446111679077,0.0,0.03011442720890045,0.0,1.3412846326828003,0.0,0.07427342981100082,0.0,0.458495169878006,0.0,0.0,0.06668806821107864,0.1465991884469986,0.0,0.02151108719408512,0.033552881330251694,0.46218183636665344,1.0189412832260132,0.0,0.03096707910299301,0.846447229385376,2.7002413272857666,0.0,0.0,0.0,0.0,0.34064117074012756,0.0085560642182827,0.0,0.0,0.3784726858139038,0.04102278873324394,1.1043360233306885,0.007671521510928869,0.1162135973572731,0.0014725704677402973,0.15047068893909454,0.0,1.4981449842453003,0.0,0.0993925929069519,0.0,0.44381633400917053,0.0,0.0,0.0,0.1354590654373169,0.0,0.0,0.15232118964195251,0.1589452624320984,0.2579588294029236,0.04130905494093895,0.0,0.0,0.0,3.1790130138397217,0.09134908765554428,0.46494004130363464,0.0069397129118442535,0.0,0.0,0.0,0.02112288400530815,0.892035722732544,0.05997462198138237,0.0,0.0,0.019830120727419853,0.0,0.012316051870584488,0.0,0.06258589029312134,0.25959447026252747,0.1487918198108673,1.0120890140533447,0.06422178447246552,0.0,0.03991260379552841,0.06325732171535492,0.0,0.08392884582281113,0.0,0.0,0.22850534319877625,0.06260796636343002,0.0,0.0,0.21219801902770996,0.0033047248143702745,0.3728371858596802,0.0,0.0,0.9799851179122925,1.2850204706192017,0.0,0.0,0.11984604597091675,1.1996575593948364,0.0,0.3028576970100403,0.0,0.0,0.0,1.0223946571350098,0.0,1.1572269201278687,0.0,0.6015002131462097,2.9864423274993896,0.0,0.23184120655059814,0.0,0.21377189457416534,0.13486094772815704,0.13635601103305817,0.0,0.01566288433969021,0.009583842940628529,0.0,0.0,0.0,0.0018066775519400835,0.0,0.2609182894229889,0.29197001457214355,0.6271342635154724,0.0,0.9497780203819275,0.0,0.0,3.4554151352494955E-4,0.0,0.0,0.08009378612041473,0.0,0.0,0.0,0.0,0.0,0.7044191360473633,0.0,0.031438954174518585,0.0,0.05933167040348053,0.0161100123077631,0.0,0.058636587113142014,0.0,0.0,0.0,0.030287936329841614,0.29743891954421997,0.02636926993727684,0.363727331161499,0.0,0.3156464397907257,0.0,0.10556784272193909,0.0,0.0,2.045151710510254,0.4479105472564697,0.0,0.7317134141921997,0.12663514912128448,0.0,0.005771491210907698,0.0,0.0,0.5163239240646362,0.0,1.2969701290130615,1.0773422718048096,1.9241607189178467,0.5579295754432678,0.09536610543727875,0.314437597990036,0.0,3.3513386249542236,0.06666209548711777,0.022731799632310867,1.3894469738006592,0.0,0.0,0.0,0.0,0.07804641127586365,0.019748542457818985,0.0,0.08404970914125443,0.24117381870746613,0.0,0.15658511221408844,0.0,0.014539397321641445,0.19059516489505768,0.0037590728607028723,1.1648399829864502,0.0,0.0,0.0,0.4164388179779053,0.0,0.0,0.0,0.0,0.7486772537231445,0.041807904839515686,0.3803803622722626,0.0,0.0,1.0723745822906494,0.0,0.022467175498604774,0.05136779695749283,0.15111027657985687,0.0,0.677142322063446,0.0,0.4421737790107727,0.0,0.3722432255744934,0.0,0.0,0.25766879320144653,0.13709188997745514,0.03165268525481224,0.030697783455252647,0.0,0.0,0.0,0.0,1.2605723142623901,0.3116436004638672,0.0,0.24897357821464539,0.008206785656511784,0.0,0.0,0.028116634115576744,0.44935518503189087,0.0,0.0,0.3185817003250122,0.22212518751621246,0.2971642017364502,0.0,0.0,0.0,0.04015599563717842,0.29010602831840515]</td><td>[-10.812881786285399,5.635252865359794,3.3329526005153096,-15.416087490565742,-12.802539768927655,-3.8532961532647985,-1.6287275673005952,8.81612907459087,-6.783458832225827,8.108082000837436,-9.640556001113339,-6.509706261654594,-4.189111538644056,-9.78167298001224,2.5851217914985516,-4.650420530842655,1.555930783108087,0.7447544213450117,4.846216936719526,1.137136142453003,0.741316396094128,-2.0196830905965553,-1.6836819438850636,-6.27332695721434,-2.0334177403981997,-1.4655756944028864,1.208665828903169,0.7173310136765911,0.7916028424644634,0.1750478238490727,-0.06348551709970006,0.6811817417455049,-0.7511450195713345,0.36680848059585275,7.700034616502884,0.6537139191328688,5.091477285652728,-0.3493565923804767,2.038301974429112,3.5863567288211486,3.262681303526232,-1.3095778433252263,-0.8285860903115096,2.4742148844234095,4.575420790662471,-0.7178834888259418,0.4130017066088994,-4.30002043415119,-0.44427529248427267,-3.7839570101717004,-2.717437002546639,-1.5857087178562062,2.9719398695365227,2.0574473837743086,1.3845446296997574,0.5282573540787694,-0.5424950673831175,1.1046751115305316,3.2626283667035865,0.4100486326106738,1.9196569996806354,2.979442416741544,-4.129339799343424,1.7023856019451493,-0.664870258390169,0.994860886856477,-0.7315816389542698,-0.5847980726433217,-0.4508105967943556,2.8745114910727945,-0.8523268016850749,-0.11576284008840307,-4.413331279857965,0.08687934473821919,-1.7815981025627017,-2.544652546178537,-1.270335866138556,0.4078780054178424,0.4134039865325727,4.217510761018078,0.42833506776332203,-0.951747260279891,-1.2700879164159735,2.20954128181151,2.6599909870146248,-4.120835221679089,-2.0606207809068944,2.7423608723828825,0.6472836013621922,1.1552039052111547,-0.33872812807664915,-1.191058281982848,0.1662778558004191,-0.4177821504306246,-1.4869497100863387,2.955500789137829,-0.3149670896096597,0.8126535494479051,-0.00516801257424765,-3.7768532785832725,3.7500997863974805,0.8435406066734,-2.0445314051646664,-1.5362892921308462,-0.3095144274544398,2.0386880645049263,0.41835240966234705,-1.469866382547684,0.6940854046368057,1.830219242778428,-0.8505461212837323,-0.025384590183597643,0.5856303648428269,1.9681697967873937,-0.5006964657022444,-3.909656514847481,0.22244977706287533,0.3278055417696982,0.03922245887157322,0.23134239543772275,2.056294258327454,0.5246320279704652,0.28738719713922245,-0.8236491516052745,-0.8906659768105422,-0.007828609004309203,1.4787123652180063,-2.1134324210356117,-1.7171874233799302,0.9053703414614754,0.08950825505839925,0.6637673390755399,1.4736997210408331,-0.32465996549853504,-1.3958262160272472,0.23056927355350987,1.595461165966385,0.504251216340075,-1.6215295227708166,-0.686873530879996,1.964327903808399,1.7348229384905023,1.1012227197146471,-0.11754465667208028,-1.9734259974657253,1.2451962538304446,0.7000429152652285,-1.5803095233082523,-1.8270243457026185,0.6616477093474817,-0.7678825117840721,0.6216846792244781,0.7486873358091012,1.3499016813171847,0.17230276719562465,-0.689731417462556,0.38254274416739503,-1.8108256443413957,-0.18177832891408,1.1274959351001494,1.5080914737348365,0.14494109548098963,1.517134993451902,-0.5707987531864377,-1.4795654930964157,-0.6945165088945854,-0.6282378335545535,-0.7378297534131358,0.13651851758738734,0.9040349358025401,-1.3523539013380537,-2.240388931565775,-0.3020469389725289,1.5034084111418482,-0.1514690030343137,-0.43049914710226367,1.1595817590697297,0.7656304472555736,-0.07027439646474065,-0.14219774834799784,-1.3841291943120326,-0.050961170231805915,-1.3048019667686774,1.475376987388548,1.0900228135178032,2.035484351832323,0.1953982193694201,-0.15643016956992917,0.8593008217010054,0.6139387540827602,-0.08438403346431074,-1.7311232484411083,0.5845225458826038,0.8482978306947935,0.881948677573564,-1.423956375626823,1.0127335282490584,0.39376492922283596,-0.896188280322853,-0.004392108662206629,1.648293664186992,-0.33960366411646253,-0.2866672704113246,2.2959963941404604,0.1835052145591697,0.6729944376186497,1.6195320591323377,-0.8277535761296728,-0.27370374576099193,0.03227863440371567,0.23232073469191894,-0.2106882492619521,0.13286424651477735,-1.1824886976253117,0.7088070398479339,-0.11685381760484051,0.22058905382907057,0.43781051380065833,-0.0028947069975653146,0.23849396963963906,-0.7125062841183838,0.4119945317649629,0.540938056707421,0.7870253997645141,1.3258151549004598,0.11652588810163374,0.15392678184390235,-0.2189003069094192,-0.08324382835860021,-0.11412837730720361,0.9479380473729958,-0.059185809665192754,0.06168634933359839,-0.004806244103098865,0.697833075909036,0.060892722118876606,1.3683952901965684,-0.25355594593238784,0.3404840906631278,-0.5214475771638376,-0.3847595894368384,-0.8759474234424937,-0.28768225944400844,-0.29603008238433703,-0.7747192702564176,-0.5646085482197527,0.31213603743778473,-0.6233510033023598,-0.718403386166247,0.7797072422879348,-0.02240337428369738,-0.1687285500553598,1.3359095129618186,0.5454323994443345,-0.5435304859810891,0.10540871021352093,0.20159579068711495,-0.12275667447113957,-0.2296297671240104,-0.44440758921457585,0.40106774807118395,-0.4672953609080606,1.151499003573905,0.7994305746215037,0.32153719346035453,0.12195683184810739,-0.3492821521461758,-0.5467443161980671,-0.5917010520476745,0.9321485200609876,0.8802264191974798,-0.5907287988209274,-0.20255093188556858,-0.2940478502482926,0.7604731436195784,-1.4299705198994923,0.09146021930497306,0.5113805465509297,0.8536403492307226,-0.7608547736738249,1.1955907189763784,-0.43546467190569493,-1.0171394836265977,-0.14752353892818257,-0.05312980165049588,-0.2330694734658656,-0.527002789582027,-0.3417489499133675,0.1149411047021143,0.7698668447781432,-0.027097842124463586,-0.24985054337102672,-0.2948733399066601,-0.3342501275711013,-0.04994677098222188,-0.43996518673026086,0.37992620567083824,-0.7078388392101527,-0.3157893625770604,-0.9047602306806848,-0.5426100270349308,-0.15756266406427288,0.07681719620359237,1.157308136973941,0.5315575521137916,1.095835558486434,0.004433741855580115,0.2994761087458672,-1.4029339007196477,0.08521030704811172,0.5272446885461908,-0.2254563250888226,0.19670688151638416,-0.6066955988686843,0.6226472620320161,0.8907230512349935,0.5671558919964527,-0.8645747802484478,0.32206960914200844,0.989005595690524,1.4872440025692635,0.83231706330734,0.6326394625976786,-0.5532021021577476,-0.047562154288740756,-1.3029395767539769,-0.5807994821629339,0.022215237292486922,1.6808728183463044,1.0303850288555923E-4,0.2605320309963081,0.018246293349504186,0.9680335923926824,-0.9082147266142844,0.5394968585272418,-0.7957528832853085,0.22863733501131,0.666618735474731,0.2875801289682467,0.3996488114627655,-0.43772675508435466,-0.4619923862164764]</td></tr></table><br /><pre>only showing top 5 rows</pre>"
      ],
      "text/plain": [
       "<IPython.core.display.HTML object>"
      ]
     },
     "metadata": {},
     "output_type": "display_data"
    }
   ],
   "source": [
    "%%pretty\n",
    "# Affichage des 5 premières lignes après suppression de la colonne 'scaled_features'\n",
    "pca_features_df = pca_features_df.drop('scaled_features')\n",
    "pca_features_df.show(5, False)"
   ]
  },
  {
   "cell_type": "markdown",
   "id": "5aebf078-050b-4a5f-a57b-e3c71c57a1ee",
   "metadata": {},
   "source": [
    "<u>Rappel du chemin pour l'enregistrement :"
   ]
  },
  {
   "cell_type": "code",
   "execution_count": 29,
   "id": "993cf54e",
   "metadata": {},
   "outputs": [
    {
     "data": {
      "application/vnd.jupyter.widget-view+json": {
       "model_id": "",
       "version_major": 2,
       "version_minor": 0
      },
      "text/plain": [
       "FloatProgress(value=0.0, bar_style='info', description='Progress:', layout=Layout(height='25px', width='50%'),…"
      ]
     },
     "metadata": {},
     "output_type": "display_data"
    },
    {
     "name": "stdout",
     "output_type": "stream",
     "text": [
      "s3://cap9-fruits/Results"
     ]
    }
   ],
   "source": [
    "print(PATH_Result)"
   ]
  },
  {
   "cell_type": "markdown",
   "id": "a4e936fc-4c76-4a3b-8e46-32f1679a7887",
   "metadata": {},
   "source": [
    "<u>Enregistrement au format 'parquet' :"
   ]
  },
  {
   "cell_type": "code",
   "execution_count": 30,
   "id": "7c4d4990",
   "metadata": {},
   "outputs": [
    {
     "data": {
      "application/vnd.jupyter.widget-view+json": {
       "model_id": "",
       "version_major": 2,
       "version_minor": 0
      },
      "text/plain": [
       "FloatProgress(value=0.0, bar_style='info', description='Progress:', layout=Layout(height='25px', width='50%'),…"
      ]
     },
     "metadata": {},
     "output_type": "display_data"
    }
   ],
   "source": [
    "pca_features_df.write.mode(\"overwrite\").parquet(PATH_Result)"
   ]
  },
  {
   "cell_type": "markdown",
   "id": "76e59ee9-a193-4c4b-ab75-83bc10806226",
   "metadata": {},
   "source": [
    "## 2.6 Validation du résultat"
   ]
  },
  {
   "cell_type": "markdown",
   "id": "996a7e9c-acbf-4b02-a588-6500ac514b40",
   "metadata": {},
   "source": [
    "<u>Chargement des données enregistrées :"
   ]
  },
  {
   "cell_type": "code",
   "execution_count": 31,
   "id": "12a00bcc",
   "metadata": {},
   "outputs": [
    {
     "data": {
      "application/vnd.jupyter.widget-view+json": {
       "model_id": "",
       "version_major": 2,
       "version_minor": 0
      },
      "text/plain": [
       "FloatProgress(value=0.0, bar_style='info', description='Progress:', layout=Layout(height='25px', width='50%'),…"
      ]
     },
     "metadata": {},
     "output_type": "display_data"
    }
   ],
   "source": [
    "df_spark = spark.read.parquet(PATH_Result)"
   ]
  },
  {
   "cell_type": "markdown",
   "id": "ef1f8aca-b562-4c4f-869c-1aa2eedb5be9",
   "metadata": {},
   "source": [
    "<u>Affichage des premières lignes :"
   ]
  },
  {
   "cell_type": "code",
   "execution_count": 32,
   "id": "b0cee8a1",
   "metadata": {},
   "outputs": [
    {
     "data": {
      "application/vnd.jupyter.widget-view+json": {
       "model_id": "",
       "version_major": 2,
       "version_minor": 0
      },
      "text/plain": [
       "FloatProgress(value=0.0, bar_style='info', description='Progress:', layout=Layout(height='25px', width='50%'),…"
      ]
     },
     "metadata": {},
     "output_type": "display_data"
    },
    {
     "data": {
      "text/html": [
       "<table><tr><th>path</th><th>label</th><th>features</th><th>pca_features</th></tr><tr><td>s3://cap9-fruits/img/Watermelon/r_74_100.jpg</td><td>Watermelon</td><td>[0.5698793530464172,0.11564403027296066,0.0,0.0,0.6572680473327637,0.0,0.14487770199775696,0.0,9.80776152573526E-4,0.0,0.8837834000587463,0.07686852663755417,0.3094288110733032,0.40669137239456177,0.012898766435682774,0.0,0.0,0.005576814990490675,0.0,0.7807061076164246,0.0,0.014902552589774132,0.23346886038780212,0.0,0.07028570026159286,1.4114668369293213,1.7922064065933228,0.0,0.0,1.5023107528686523,0.0,0.0033533331006765366,1.4589844942092896,0.4532824158668518,0.0,0.0,0.7717397809028625,2.1989855766296387,0.0,0.0,0.09031518548727036,0.0,0.44882193207740784,0.0,0.01737234555184841,0.0,0.8624887466430664,0.40894508361816406,0.8156295418739319,0.10608964413404465,0.0,0.0,0.0,0.0,0.0,0.976357102394104,0.02896057814359665,0.5034114122390747,0.0,0.0,0.035671692341566086,0.045622318983078,0.05642544478178024,0.0,2.010676145553589,0.8042225241661072,3.3538687229156494,0.03688642010092735,0.0,4.119581135455519E-4,0.0,0.0,0.0,1.4325932264328003,0.2659633457660675,1.029708743095398,0.143461674451828,0.0,0.0,0.0,0.0,1.6701109409332275,0.06187131628394127,0.30497536063194275,0.0,0.0,0.030515631660819054,0.33396172523498535,1.4339443445205688,1.9446094036102295,0.31970658898353577,0.06273643672466278,0.0029001040384173393,0.01364492904394865,1.3708443641662598,0.33011382818222046,0.9563639760017395,0.05857640877366066,0.7113235592842102,0.0,0.5389150381088257,0.0,0.0,0.02105693519115448,1.0965639352798462,0.9090210199356079,0.0,0.8315129280090332,0.18978969752788544,0.18186748027801514,0.0,0.0,0.0,0.08818897604942322,0.08250296860933304,0.9731110334396362,1.0711175203323364,0.036418233066797256,0.0,0.4320450723171234,0.13924577832221985,0.012683809734880924,0.1865074336528778,0.0,0.0,0.11422465741634369,0.2328430414199829,2.8406882286071777,2.735276937484741,0.05039405822753906,0.08537930995225906,1.7325375080108643,0.26604580879211426,0.0,1.3248051404953003,0.0,0.15688838064670563,0.0,1.8101541996002197,2.496678113937378,0.2829912006855011,0.0,0.46019476652145386,1.230647087097168,0.0,0.6376022696495056,0.07248685508966446,0.40626776218414307,0.016570257022976875,0.505655825138092,0.03899434953927994,0.0,0.08770082145929337,0.0,0.4020448923110962,0.32130327820777893,0.4592190682888031,0.04549147188663483,0.3842528164386749,0.4848490059375763,0.0,0.010511456988751888,0.0,0.0,1.8030059337615967,3.326052188873291,1.1856589317321777,1.2369872331619263,1.511928915977478,0.0,0.0,0.0,1.0058404207229614,0.9768658876419067,0.0,0.9844740033149719,1.1959785223007202,1.1326311826705933,0.2046312540769577,0.5555117726325989,0.14754870533943176,0.276333749294281,0.01758129708468914,0.0,0.1129031702876091,0.35690370202064514,0.5458440780639648,0.10406054556369781,0.0,0.14117573201656342,0.024931225925683975,0.3588586151599884,0.0,0.5023046731948853,0.5857648253440857,0.0,0.0,0.0,0.028611844405531883,0.0,1.7550947666168213,0.08354076743125916,0.018525706604123116,0.0,0.009032483212649822,0.04867054522037506,0.0,0.0,0.3905737102031708,0.4719367027282715,0.0,0.3872549533843994,0.5563688278198242,0.0,0.10022007673978806,0.36460575461387634,0.11550594121217728,0.0,0.6835538744926453,0.0,0.3641587793827057,0.0,0.0,1.0497971773147583,0.6047839522361755,0.10466288775205612,0.0,0.2405979335308075,1.46234929561615,0.388983815908432,1.5052765607833862,0.03324572741985321,0.7927621603012085,1.8245559930801392,0.1400144249200821,0.22856825590133667,0.0,0.0,0.007170307449996471,0.32816964387893677,1.9735263586044312,0.6843510866165161,0.01000257395207882,0.06697506457567215,0.25712141394615173,0.15825152397155762,3.192429542541504,0.023028207942843437,1.9752248525619507,0.49035659432411194,2.8734934329986572,0.0,0.03832945600152016,0.03992733731865883,2.076235771179199,1.2333027124404907,0.25381046533584595,0.7860091924667358,0.2490035891532898,0.20259502530097961,0.0,1.7632172107696533,0.025477642193436623,0.8589956164360046,0.0,0.0,0.0,0.0,0.0,0.0,0.0,0.0697316825389862,1.6168010234832764,0.0,0.9806942939758301,0.9573254585266113,0.9196639060974121,0.0,0.012970603071153164,0.00849081575870514,0.2565147578716278,0.0017275712452828884,0.012142590247094631,0.14307671785354614,1.345332145690918,0.003338979324325919,0.033157240599393845,0.33502858877182007,0.7183970212936401,0.08208481222391129,0.4532303214073181,0.0,0.29949355125427246,0.0,0.0,1.813889741897583,0.0,0.0,0.0,0.13688194751739502,0.0,0.0,0.5334087014198303,0.011676710098981857,0.09734156727790833,0.0,0.0,0.03561021760106087,0.0,0.08210281282663345,1.538529872894287,1.0642789602279663,0.0,0.0,1.518417239189148,0.03323744609951973,0.0,0.0,0.0,0.14774858951568604,0.039891134947538376,1.6524839401245117,0.9200597405433655,0.3996405601501465,0.0,0.25391685962677,0.0,0.07627363502979279,0.0,0.0410003662109375,0.0,0.0,0.27883508801460266,2.1470165252685547,0.0,0.0,0.0,0.0,0.024548491463065147,1.8244054317474365,0.005336381960660219,0.6108746528625488,0.0,0.0,0.9024562239646912,0.1417481154203415,0.0,0.0,0.823639988899231,0.25383222103118896,0.04462108761072159,0.047316111624240875,0.0,1.4794280529022217,0.0,0.0,0.043701738119125366,0.15827593207359314,0.8503893613815308,0.0,0.037112247198820114,2.7480247020721436,0.027032822370529175,1.4655269384384155,0.24741095304489136,0.0,1.0443044900894165,0.6509217619895935,0.005690623074769974,0.0,0.051857199519872665,0.008743597194552422,0.0,0.0,0.9466772079467773,0.0,0.0,0.19009795784950256,0.20662592351436615,0.0,0.0,0.7665172219276428,0.04503792151808739,0.0,0.835791826248169,0.0,0.45494651794433594,0.0,0.0,0.09881935268640518,2.118622064590454,0.0,0.028347959741950035,0.0,0.0,0.0,0.0,0.017467936500906944,0.00985222402960062,0.44232994318008423,1.800260305404663,1.665398120880127,0.019214367493987083,0.028395622968673706,0.0,0.9145537614822388,0.00785817950963974,0.0,1.3767752647399902,0.09462384879589081,2.385270595550537,1.181994915008545,0.0,0.06841302663087845,0.43706846237182617,0.0619124211370945,0.0,0.3572576344013214,0.07426143437623978,2.689997673034668,0.05221453309059143,2.1486799716949463,0.37777870893478394,0.0,0.22337594628334045,1.3193156719207764,1.2219747304916382,0.0,0.0,0.0,0.3963001072406769,0.1094786673784256,0.0,0.0,0.02447768673300743,0.7777388691902161,0.7067568302154541,0.16629968583583832,0.06673923134803772,0.25115537643432617,0.055251315236091614,0.013676312752068043,1.5604305267333984,0.2110135555267334,1.7094156742095947,0.9138699173927307,0.04432627558708191,0.0,0.5991970896720886,0.0,0.49672040343284607,1.06257164478302,0.3980932831764221,0.0,2.0348615646362305,1.2438079118728638,0.0,0.0,0.12124960124492645,0.0,1.8261455297470093,0.6010345220565796,0.0,0.022915810346603394,1.1421316862106323,0.14327864348888397,2.661804437637329,0.09214010834693909,1.235107183456421,0.0957145094871521,0.0,0.0,0.2100602388381958,0.33078914880752563,0.7162915468215942,0.7633538246154785,0.9563695192337036,0.0,0.0,1.4614007472991943,0.0,0.20051783323287964,0.002589595504105091,0.051538895815610886,0.34836477041244507,1.745957612991333,0.3647013008594513,0.8931269645690918,0.0,1.1590452194213867,1.0285940170288086,0.30933719873428345,0.0,0.9889042377471924,0.5666231513023376,0.010935792699456215,0.46900102496147156,0.0,0.15760397911071777,2.7384002208709717,0.0,1.2371388673782349,0.0,0.0,0.062026288360357285,0.0,0.0,0.0,0.37860333919525146,0.05613940954208374,0.18604852259159088,1.217453122138977,0.4574260711669922,0.7819700241088867,0.2553848326206207,0.1486525684595108,0.0,2.237051486968994,0.04352013021707535,0.20538979768753052,0.17652130126953125,2.179255962371826,0.0,0.2834378182888031,0.02931595779955387,0.0,1.065214991569519,0.7470797896385193,1.4542632102966309,0.07564868777990341,0.6455134749412537,0.6733310222625732,0.0,0.1229630708694458,0.6374331712722778,0.05739636346697807,0.8898654580116272,0.0,0.6074829697608948,1.2685651779174805,0.15671521425247192,0.0,0.9511625170707703,0.7977033853530884,0.02906882017850876,0.02638595923781395,0.0,0.38274431228637695,0.0,0.0,0.3659757971763611,0.0,0.0,0.053261931985616684,0.0,0.005776405334472656,0.4863400459289551,2.1406078338623047,0.43375787138938904,3.060495376586914,0.18398892879486084,0.00872719008475542,0.8586245179176331,0.0,0.9661008715629578,0.29419970512390137,2.889005184173584,0.0,0.20290592312812805,0.0,0.3225579261779785,0.5130409002304077,0.0,0.3668437898159027,1.5229573249816895,1.0514942407608032,0.0,0.10955540835857391,8.902160334400833E-4,0.5855790972709656,0.5203906297683716,0.4136182963848114,0.0,0.4365074634552002,0.004797789733856916,0.2730315923690796,1.4139631986618042,0.0,0.0,0.0,0.3771146237850189,0.89404296875,0.26863694190979004,2.1270694732666016,0.13252924382686615,0.3552217185497284,0.0,0.6531466245651245,0.09609952569007874,0.0,0.45184364914894104,0.4753013849258423,0.4660603702068329,0.06419729441404343,0.0,0.0,1.113582968711853,0.0697864294052124,0.21623019874095917,0.0,0.12915395200252533,1.8918468952178955,0.0,0.0024811881594359875,2.056086540222168,0.09820134192705154,2.59602689743042,0.06321865320205688,0.03196875751018524,0.0,0.0,0.5679265856742859,0.974681556224823,0.6217548847198486,0.0,0.05830944702029228,0.026078905910253525,0.03195810317993164,0.0,0.42264583706855774,2.1947104930877686,0.050368405878543854,0.40111005306243896,0.0025324723683297634,0.08652957528829575,1.454628825187683,1.0363121032714844,1.455190896987915,0.4432649314403534,0.3057771921157837,0.0,0.5725744962692261,0.0475124828517437,0.5527472496032715,0.0,0.7928345203399658,0.16762784123420715,0.0,0.846457839012146,0.07553685456514359,0.7331888675689697,0.08052737265825272,0.0,0.0,0.23759803175926208,0.022312583401799202,0.00859574880450964,0.5980783700942993,0.0,0.0,0.0,0.5311181545257568,0.007918124087154865,0.028430666774511337,0.006976370699703693,0.16239884495735168,0.0,0.0,0.35591116547584534,0.1338544487953186,0.650138795375824,0.5803179144859314,3.5348825454711914,3.371706008911133,0.00677136005833745,1.5526167154312134,0.1411610096693039,0.7245674133300781,1.325767993927002,0.24576599895954132,0.07083302736282349,0.0,0.0,0.03166217356920242,0.0,0.013543245382606983,1.5304285287857056,0.92131507396698,0.9836509823799133,1.4444764852523804,0.3318788707256317,4.522362432908267E-4,0.0035732132382690907,0.773730456829071,0.14855022728443146,0.0,0.008871360681951046,0.28611108660697937,0.18306304514408112,0.27317163348197937,0.0,0.37427395582199097,0.03509324789047241,0.0,0.3712053894996643,0.0,0.1891043782234192,0.7414858937263489,0.005686701741069555,0.019040526822209358,0.0,0.418695867061615,1.2975058555603027,0.0,2.5965583324432373,0.2945549786090851,0.057310037314891815,0.020628558471798897,0.0,1.62372887134552,0.612694263458252,0.05738427862524986,0.05790894478559494,0.0,0.5901377201080322,2.278275966644287,0.5782115459442139,0.07347413152456284,0.5732671618461609,0.3460937440395355,0.3439788818359375,1.9531221389770508,0.39132434129714966,0.0,0.0,0.23464463651180267,1.7683261632919312,0.06171388924121857,0.503829836845398,0.0,0.0340406633913517,0.27560102939605713,0.4088147282600403,0.0055301920510828495,0.053303707391023636,0.4832589328289032,0.11442528665065765,0.06462588906288147,0.607679009437561,0.0,0.0,0.0,0.014840398915112019,2.7691457271575928,0.1475987434387207,0.0,0.8310697078704834,0.18164443969726562,0.972491443157196,0.01780620962381363,0.0,0.4454915523529053,0.21052511036396027,0.0,0.0,0.7381555438041687,0.1947363317012787,0.8402607440948486,0.7086727619171143,0.0,0.13761253654956818,0.0,1.1461302042007446,1.7776769399642944,0.0,0.7020984292030334,0.8837573528289795,0.0,0.5096578598022461,1.5799463987350464,0.0,0.09418580681085587,0.0,0.05460910499095917,0.32515624165534973,0.0,0.027893494814634323,0.1767890304327011,0.018267836421728134,0.0,0.40329790115356445,0.656359851360321,0.621829092502594,0.5773285627365112,1.2530020475387573,1.1888538599014282,0.24851785600185394,0.0,0.0,0.40743446350097656,0.6995291709899902,0.0026356151793152094,0.1511460244655609,0.0,0.6445437073707581,4.1733955731615424E-4,0.0,0.9883942604064941,0.0,0.0,0.1502143144607544,0.45226946473121643,0.07206268608570099,0.14543800055980682,0.020280497148633003,0.742927610874176,0.0,0.0,0.11995595693588257,1.122697114944458,0.7617079019546509,0.22441865503787994,0.0,0.020986897870898247,0.20419351756572723,1.6515223979949951,0.0,4.469399452209473,1.0554112195968628,0.0,0.6816502213478088,0.0,0.012466654181480408,0.0,0.07537399977445602,0.039116352796554565,0.9390124678611755,0.0,0.059410836547613144,0.12787838280200958,0.2551424205303192,0.0,0.028776099905371666,0.8459500670433044,0.814795970916748,0.0,0.0,0.0888986885547638,1.0066006183624268,0.0,0.22484393417835236,3.3076131343841553,0.03166676685214043,0.10532271862030029,0.13368698954582214,0.05396797135472298,2.3661794662475586,0.019728777930140495,0.0,0.008792760781943798,0.4653639793395996,0.0,0.0,0.45893773436546326,0.0,0.0,0.0,0.6405317783355713,0.0,0.0,0.1642889529466629,0.0,0.7564750909805298,0.062172479927539825,0.0,0.012399653904139996,0.0,0.649876058101654,0.14367443323135376,1.3854600191116333,0.0,0.0,1.7092174291610718,0.909532368183136,0.5063578486442566,0.0,0.9022241830825806,0.026101093739271164,0.22151586413383484,0.0,0.0,0.0,0.05654575303196907,0.3066387474536896,0.1268511861562729,0.2752637267112732,0.4487340450286865,0.0,0.0,0.0,0.00936384592205286,1.3442893028259277,0.0,0.1529996395111084,0.06118873506784439,0.3340923488140106,0.0,0.0,0.0,0.04709771275520325,0.011770783923566341,0.0,0.0,0.04178042337298393,0.03485329449176788,0.012556513771414757,0.18263092637062073,0.04247311130166054,0.13119792938232422,0.0,0.0,0.0900532454252243,0.9203305840492249,0.025732936337590218,0.0,1.1600520610809326,0.0,0.0,0.0,0.0,0.0,0.040420569479465485,0.3050716817378998,2.5587658882141113,0.0,0.0,2.060197591781616,0.1305377036333084,0.0,0.04826937988400459,0.0,0.13387198746204376,0.03343702852725983,1.1292593479156494,0.2014852613210678,1.39617121219635,2.630721092224121,0.10441702604293823,1.840256690979004,0.026150401681661606,0.4693038761615753,1.5392553806304932,0.0,0.0,0.0,0.2313295155763626,1.1850711107254028,0.0,0.0075364308431744576,0.023308295756578445,0.1918519139289856,0.0,7.900510681793094E-4,0.010154402814805508,2.076845407485962,0.0,0.07182452827692032,0.3473034203052521,0.0,1.8577253818511963,0.0,0.8570044636726379,0.39950957894325256,3.223050117492676,0.4602171778678894,0.3667302429676056,0.2970336079597473,0.529374361038208,0.1688946634531021,0.23065492510795593,0.058142419904470444,0.006599036976695061,1.5146093368530273,0.04947229474782944,0.16988225281238556,0.4753683805465698,0.17565447092056274,0.011160500347614288,0.061509452760219574,0.0,0.06488955020904541,0.021950555965304375,0.0,0.4146241247653961,0.47273024916648865,0.09858831763267517,0.16277556121349335,0.16061997413635254,0.11670322716236115,0.13647162914276123,0.08158063888549805,0.9143952131271362,0.03344786912202835,0.04737122356891632,0.22646261751651764,1.8093140125274658,0.015830516815185547,0.1671580821275711,0.0,0.0,0.18584144115447998,0.0,0.0,0.27739381790161133,0.07735125720500946,0.0,0.883568286895752,0.5069006681442261,0.0,0.0,0.0,0.030634170398116112,0.44111132621765137,0.040110647678375244,0.0,0.0,0.17953822016716003,0.0,1.3216793537139893,0.011198160238564014,0.004344103392213583,0.0,1.182364821434021,0.29364171624183655,0.01755860447883606,0.03965647518634796,0.0,0.001431679236702621,2.6715004444122314,1.7037174701690674,0.6507111191749573,0.0,1.95653235912323,0.0,0.013555030338466167,0.0,0.0,1.521499514579773,0.06479785591363907,1.2823076248168945,0.0,0.0,0.21131309866905212,0.2456929087638855,1.319515347480774,0.3204635679721832,2.077763080596924,2.739797830581665,0.1529439091682434,0.0,0.44990846514701843,0.29206180572509766,0.4683894217014313,0.17294564843177795,0.44471094012260437,0.0536307692527771,0.9190250039100647,0.10230007767677307,0.5132124423980713,0.03970927745103836,0.3314840793609619,0.9627217054367065,0.0,0.17324331402778625,0.39115941524505615,0.3137912452220917,0.0,2.1694376468658447,0.08789974451065063,0.0,0.4322097897529602,0.0,0.1349790394306183,0.0,0.6685484051704407,0.07908165454864502,0.0,0.09766155481338501,0.04261808842420578,0.8159274458885193,0.0,0.0,0.8556095957756042,1.912116527557373,0.0,0.0,0.0,0.3079933226108551,0.0,0.1528986394405365,0.3139699101448059,2.9169037342071533,0.9474738240242004,0.008742459118366241,0.2508384585380554,0.013017858378589153,2.020566463470459,1.066593050956726,0.0,0.0,0.0,0.10477790236473083,0.04654552415013313,0.04448334872722626,0.0,0.39878028631210327,0.04813486337661743,0.1268589347600937,0.6975643634796143,0.20717349648475647,0.08343616873025894,0.01596846804022789,0.02369864098727703,0.0,0.8686657547950745,0.4670463800430298,2.3876850605010986,0.0,0.7640826106071472,1.0714198350906372,0.3238043189048767,0.0,0.08548003435134888,0.0,2.519719123840332,0.0,1.8537307977676392,1.4255554676055908,0.5497762560844421,0.0,0.27665114402770996,0.02741062454879284,0.908531129360199,0.31913816928863525,1.6935420036315918,0.42112284898757935,0.013462290167808533,1.6861785650253296,0.0,0.1646764725446701,1.561521053314209,0.0074228947050869465,0.0,0.0,1.5835484266281128,0.0,0.3824903070926666,0.0,1.522376537322998,0.0,1.427050232887268,0.10097329318523407,0.5767451524734497,0.0,0.0,0.0026526451110839844,0.08284222334623337,0.0029150613117963076,0.0,0.0,0.0,0.0,2.2689309120178223,0.8472504615783691,0.0,1.5545063018798828,0.08985134959220886,0.0,0.41512197256088257,0.0,2.4235979071818292E-4,1.1531357765197754,0.4999934136867523,0.06808491051197052,0.4939647316932678,0.22867260873317719,0.0,2.0268490314483643,0.8109778761863708,1.9731273651123047,1.1532375812530518,0.11547203361988068,0.030866477638483047,0.0,0.30513474345207214,0.5920841097831726,3.1625007977709174E-4,0.0,0.3317400813102722,2.1627368927001953,1.004280686378479,0.0697929710149765,0.3973959684371948,0.5657281279563904,0.4082575738430023,0.012044478207826614,0.0,1.3144025802612305,0.4487100839614868,0.019252846017479897,0.0,0.0,0.0,0.647074818611145,0.0,0.0,1.0717095136642456,0.0,2.261173725128174,0.06099119037389755,0.0,0.030236896127462387,0.11486049741506577,0.07959872484207153,0.6379839181900024,1.4272500276565552,0.7554600238800049,1.0011051893234253,1.7852797508239746,0.5587047338485718,1.8353303670883179,1.3663498163223267,3.142454079352319E-4,0.8753724098205566,1.1101447343826294,1.5112043619155884,0.0,0.4448868930339813,0.0,1.3309561014175415,1.7432154417037964,0.0,2.323164463043213,0.026273522526025772,0.0,0.0,0.0,0.0,0.619329035282135,0.0,0.02173871360719204,0.0,0.0,0.7414107322692871,0.0,0.08049768954515457,1.4028143882751465,0.0,0.0,0.022915441542863846,0.0,0.045069217681884766,0.0,1.3271366357803345,0.3627597391605377,0.0,0.2969920337200165,0.0,0.13968521356582642,0.9055315852165222,0.0,0.0,0.2245725840330124,0.515988826751709,0.22759702801704407,0.3780038058757782,0.0,0.3374969959259033,0.0,0.0]</td><td>[-15.656744280086254,3.586942586150886,-6.827042558209382,-3.944424307075624,1.561627496812788,7.061984181875058,-7.6350454259527964,16.67120958042086,-0.8613758692146453,-6.6595699610148795,6.975320403944344,-6.2682035307704895,6.315614949704288,12.739843867115582,12.385404342983527,2.2082487763999725,-1.7851615295982255,-8.442901859197207,-3.161806014842391,1.5587768573095626,-5.670902378529411,0.24100688985645627,2.357195387531686,5.430477042246269,-2.233250969806717,3.739989365668373,2.128301740421239,1.2009524523748158,0.6895313784745254,1.1262074522335552,-6.552340597722248,0.9269817425515234,-3.2161417571146114,-0.2161134199532884,11.264518694552882,-3.729859820873188,-4.233403872187402,4.0671310774692655,-4.686886121326671,1.4169350129803862,-0.9775842637511478,-0.24750858063226486,4.491747862976422,1.4627550673558554,0.4533983252504917,3.7501839172262064,-0.07066497371034257,-4.050729712541452,-1.1668302425892483,3.728543978575272,-4.758429342287443,-7.725614204041117,1.0504317455265668,0.4385681122771825,0.7859950222859,-4.8029788528871356,2.4382230783529373,-3.419098032709227,1.1036385519204672,4.6812172971046175,-3.877307044348003,-2.029933281555194,-1.6996096355966586,-0.3263335670675887,3.3624370266706514,-1.729168035622887,1.7758294725436192,-4.239823389584461,-1.28901062512747,5.609714507195797,-0.30153710920301624,-1.3291769092667398,4.678130312506679,-2.8643724978448004,-0.4497106070071933,-0.17188830071032354,-4.066367683203725,5.816976587998822,-1.9899073458019338,0.2029236176899855,2.5109500898963266,-0.07659298730428714,4.924975943936285,-2.663313079832971,2.265972382290055,6.067973044963039,-1.8615159787227296,-1.857696540573921,0.12739344493547056,-4.031106391059773,2.408883672660415,-0.993962029571928,-0.5438643324597636,1.3570078598886528,-1.6148597566278557,3.6914710379654583,1.2377070124705636,1.793059648957336,-6.735356348878487,6.353123659494475,-0.06012865655776046,-3.6460604602332194,0.6200636519503133,-2.745617901324281,1.885830179626246,-1.305138041974055,0.8697243443625553,-1.5890595262466958,0.0013096720403227733,3.7103664538569667,1.9182751864096992,3.1858824087305586,0.7596643115390467,0.3141951008530894,0.2769222733650717,-0.41851843512004316,-3.122368986391469,-0.9901874163694733,-6.880453440707309,0.06796269463151702,-3.074878794129692,-0.39150347997619445,0.8465548218499267,0.7001974910653465,1.0185206771519808,-0.8746203834939936,-0.02442361058147732,1.366950260684801,-3.803917604149593,-0.7034576765947749,2.827374935150405,0.5004872275754174,2.536948126600659,-2.680996433866984,-2.2418291627042626,-0.7822623502474417,-1.1292812854367127,-0.4543897951946405,1.1887402290375968,3.784508548218824,-2.441173547645375,-0.9135041303309567,1.7854985546492355,0.8873445039929917,-3.26246251074085,0.02771721566330265,1.9279408840295031,0.15719672706406068,0.8688012090434405,1.1736228454122086,-1.1026036727971875,0.23629129150652028,1.3444026804826463,-1.3812776987569058,2.757782828189257,1.3619745432740293,1.0361028367916214,-1.0122593493316148,-0.14614957965976952,0.7510941843278334,2.572864384313656,0.9089771069196748,0.15224716175355804,-0.12947493164732088,2.3479508300068184,1.3259169894568799,-1.2528357811078885,0.07447408348709772,-1.95088331190043,-1.9829259509727957,0.47905838914968035,0.6710826404057328,-0.4894421474428368,0.5271837493189048,-1.508257818469532,0.899517486082092,-0.35689956479517626,-0.16059529651500967,1.614608332800712,-0.29966155148459933,0.9428413573237868,0.486266213829762,1.259155332447593,-1.9119118577467094,-1.0989327446383146,1.10920438852546,-0.3189391154728084,-0.6811948819326531,-1.0908757151201653,-0.529166008003447,0.3229317961363903,-1.56082261262982,-1.4108076657183286,-1.5624467531259045,0.25621027260441054,0.8302812270296266,0.5637441351242161,1.942271355359018,-0.6948734006283256,1.0091269353189884,1.165403240478255,-0.023445570447448986,1.7832453735836493,-1.3108834876943776,-0.6215303284826399,0.0680829743740331,1.9364524021395593,0.7073938114501448,-0.32868605503935533,0.2142289407685127,2.760609730764353,-0.6010809809841446,-0.23762023124351475,0.1685145855063645,1.5696879356717326,0.8601384818661912,0.5273318400582158,-0.5845872586249568,-0.3838119752686042,-1.9272744159398394,-1.3391660853348089,-0.01817517727428009,1.7414229576122149,-0.06596411441503164,0.5370228249774155,0.36491950128537054,-0.05520511964458486,1.910505547581932,0.22438428103316263,1.1902208140652444,0.2113718986806906,-1.7809861144546606,-1.2491347210830803,-0.037948492583139995,-0.9077023753827536,-2.013545009386322,-0.2540154885634413,-0.5666480610800662,0.4268644153553514,0.8440760200861204,0.20027095884007734,-0.011497036587967841,0.40722922086437957,0.2073129844763769,-0.4569669271066141,2.5676133471742077,0.30680899551681434,-1.0846220368674764,0.5323942541241394,-0.41900616480254577,-1.4892761410673103,2.394694174178128,-0.198538867638697,0.17458616331489424,-2.4342863404829176,-0.7530426140215414,-0.25111255250542086,-0.28746999921259786,0.2743001789876236,0.6601061190595883,0.2162685712759549,1.86824750545573,0.4318628588164531,0.5248104811767879,-2.701785885606154,0.5907930807857384,-1.2568899180551663,-0.8881621297077017,-1.4368686855238653,-1.9594925071362146,-0.19887571879749286,-0.276809328861833,0.6552412576865888,-1.3789486292941522,0.29623884117906135,0.8630210800213091,0.6261784319411718,2.0431196825870876,0.9955725485202188,-0.6166627932916099,-0.4992412257358853,0.37545606815859894,0.0677412553930399,-2.8110778369149285,0.13767229904755177,0.16570990283233095,-1.5529306260061264,-0.8716945642636701,-0.9378127450978662,0.6150357321533619,0.4284968436088072,-0.4119037685715366,0.30744071475348833,-0.05805292994730934,0.42742812695007987,0.6012741034647541,0.4199176571637281,0.5845463399965716,0.4025668187153311,-0.865778712223301,-1.274110470648727,0.5726610659461986,0.37065502846877013,0.5524688650160143,1.636932073108067,-0.8733595696548416,-0.47285237523826423,1.581732986377263,-0.4680517463261299,0.6163159433925877,-0.01135332382908491,0.521880223073822,1.5191969496152231,-0.023125047949154275,0.24711861875308394,1.1480613101102195,0.33650049391184894,-1.4198781930968856,-1.4487629837873937,-0.08464017255601061,0.44822811758681574,0.10674896035806446,-0.6885742638643904,-0.5802867266715146,0.9619878464351217,-1.010594207275089,0.6320235147613236,-0.1125773764828284,0.5930239793441848,-0.045406364512282124,0.5384924709510278,-0.27835710369292666,0.3334011291102724,1.2324694958509264,-1.1193034176554537,0.11368618933057131,0.10047285766326713,0.2563988168333867,-0.6102645520670509,-1.0784240353410788,0.6157293422012887,0.7532774751531855]</td></tr><tr><td>s3://cap9-fruits/img/Watermelon/r_82_100.jpg</td><td>Watermelon</td><td>[0.5296179056167603,0.09730418771505356,0.0,0.11661824584007263,0.4443454444408417,0.0,0.0634031593799591,0.7627501487731934,0.0,0.0,0.7853304743766785,0.25899210572242737,0.808476448059082,0.18668249249458313,0.12411007285118103,0.0,0.030084989964962006,0.03325124830007553,0.0,1.0481526851654053,0.004148054867982864,0.0,0.08228116482496262,0.0,0.02470589615404606,1.3108779191970825,2.1159884929656982,0.0,0.0,1.4749723672866821,0.006549864541739225,0.0,0.08659207075834274,0.8594493269920349,0.08710139989852905,0.029015803709626198,1.1593611240386963,2.632422685623169,0.0,0.0,0.3765316903591156,0.0,0.5258122086524963,0.0,0.01030687429010868,0.0,0.8082656860351562,0.7371306419372559,0.847556471824646,0.11077756434679031,0.0,0.036453861743211746,0.0,0.0,0.0,1.7454488277435303,0.28645390272140503,0.7406629323959351,0.0,0.7130860090255737,0.014470548368990421,0.01587463915348053,0.0,0.0,2.255401849746704,0.3722863495349884,2.710527181625366,2.497361565474421E-4,0.0,0.0157999899238348,0.0,0.0,0.0,1.8630523681640625,0.030723756179213524,2.1817193031311035,0.018145162612199783,0.0,0.0,0.0,0.010455462150275707,1.9168564081192017,0.7585628032684326,0.13507157564163208,0.0,0.0,0.013791482895612717,0.8363021612167358,1.1546975374221802,2.224536895751953,0.5490304827690125,0.14216843247413635,0.0,0.0230251532047987,1.7431797981262207,1.0037723779678345,1.388418436050415,0.8149619698524475,0.5538550019264221,0.0,0.10168098658323288,0.01954491250216961,0.14871542155742645,0.012715485878288746,1.2663910388946533,1.30398428440094,0.0,0.44342076778411865,0.0491560734808445,0.13569188117980957,0.0,0.0,0.0,0.8103550672531128,0.0,0.9703164100646973,1.484989047050476,0.08995123952627182,0.0,0.5018678903579712,0.0738837793469429,0.38214415311813354,0.2890010476112366,0.0,0.027660846710205078,0.748255729675293,0.06355568766593933,2.092571258544922,2.372375249862671,0.0027791238389909267,0.12404720485210419,2.0643155574798584,0.5450982451438904,0.0,1.6142665147781372,0.0,0.7940846681594849,0.0,1.7884496450424194,2.192298412322998,0.6674485206604004,0.0,0.5888478755950928,1.9574593305587769,0.0,1.043851613998413,0.0760594978928566,1.3812779188156128,0.0,1.104195237159729,0.25119009613990784,0.0,0.040153540670871735,0.0,0.4240512549877167,0.18596714735031128,0.2702403664588928,0.08500868827104568,0.013514324091374874,1.0075669288635254,0.011849344708025455,0.010887525975704193,0.0,0.08443749696016312,1.988956093788147,3.0054399967193604,1.1123965978622437,1.659663200378418,1.5837554931640625,0.0,0.008714977651834488,0.0,0.4138049781322479,1.3451732397079468,0.0,1.1125068664550781,1.6067605018615723,1.5351191759109497,0.06708129495382309,0.6058014631271362,0.378722608089447,0.019031407311558723,0.008680654689669609,0.006309441290795803,0.4726390838623047,0.19869469106197357,0.9554281234741211,0.11147383600473404,0.0289929062128067,0.25136858224868774,0.023084446787834167,1.0034230947494507,0.0,0.06320800632238388,0.022087106481194496,0.0,0.0,0.0,0.07134546339511871,0.14327119290828705,2.1809334754943848,0.005160292610526085,0.0543854683637619,0.0,0.0,0.0,0.0,0.0,1.1176363229751587,1.492052674293518,0.0044166212901473045,0.5926451683044434,0.045798368752002716,0.0,0.22086475789546967,0.3011983633041382,0.42788469791412354,0.0,1.14570152759552,0.04858510196208954,1.7114120721817017,0.0,0.0,0.4392368793487549,0.27640122175216675,0.0,0.0,0.6761034727096558,2.0682315826416016,0.4436974823474884,0.8157618641853333,0.0378706194460392,0.6447613835334778,2.053680658340454,0.14967137575149536,0.16657564043998718,0.0,0.0,0.08866435289382935,1.167983055114746,1.8898171186447144,0.4791153371334076,0.0,0.21599574387073517,0.013293460942804813,0.23813322186470032,3.140038013458252,0.0,2.723177909851074,0.5686416029930115,2.110964775085449,0.0,0.5622770190238953,0.0,2.579409122467041,0.7902786135673523,0.3712979853153229,0.26894307136535645,0.011418585665524006,0.9925462603569031,0.0,1.4647568464279175,0.05902304872870445,0.9140749573707581,0.0,0.0,0.0,0.0848245918750763,0.0,0.0,0.035197578370571136,0.1317458152770996,0.8596885204315186,0.040488116443157196,0.9496809244155884,0.9007121324539185,0.5816019177436829,0.0,0.08341769874095917,0.019661620259284973,0.02787741832435131,0.0,0.5007216930389404,0.8157951831817627,1.9548192024230957,0.0,0.05161602795124054,1.05707585811615,0.9251028299331665,0.36384522914886475,0.6483052968978882,0.3158051371574402,0.6840429306030273,0.0,0.0037643180694431067,1.7284209728240967,0.0,0.0,0.0,0.04148605838418007,0.0,0.0,1.2223042249679565,0.40091007947921753,0.08124035596847534,0.0,0.0,0.7874144911766052,0.0,0.11112606525421143,0.9092159867286682,1.5175354480743408,0.05713162198662758,0.0,1.430402159690857,0.07736966758966446,0.0,0.0,0.01878209039568901,0.13249987363815308,0.674064576625824,1.6408711671829224,1.6692383289337158,0.1609003096818924,0.0,0.0,0.06653197854757309,0.5746428966522217,0.0,0.18711180984973907,0.0,0.0,0.053105976432561874,2.8728630542755127,0.0,0.0,0.0,0.0433998703956604,0.0,1.8450188636779785,6.463381578214467E-4,0.5691116452217102,0.29845187067985535,0.04181879386305809,0.17492368817329407,0.9234316349029541,0.028333283960819244,0.0,0.868513286113739,0.800666093826294,0.2746933698654175,0.007859122939407825,0.0,0.614230751991272,0.0,0.0,0.0,0.0,0.13434650003910065,0.0,0.1453525871038437,2.6561882495880127,0.017549071460962296,1.1131399869918823,0.5983294248580933,0.0,0.7836450934410095,0.4093451201915741,0.0,0.0,0.1653876006603241,0.0,0.0,0.0,0.8884862661361694,0.0,0.07177267223596573,0.5532870888710022,0.6756477952003479,0.0,0.0,0.49193039536476135,0.27673766016960144,0.0,1.589687466621399,0.0,0.837811291217804,0.0,0.0,0.22665658593177795,3.055696725845337,0.0,0.0,0.0,0.18052266538143158,0.0,0.0,0.0,0.06843481957912445,0.7631439566612244,0.5488758683204651,1.5304147005081177,0.031017234548926353,0.3180598318576813,0.0,0.8552873730659485,0.21280193328857422,0.07190673053264618,1.5513228178024292,0.04985162243247032,2.5999348163604736,2.4058711528778076,0.0,0.2254544496536255,0.7013810873031616,0.0,0.0,0.5752868056297302,1.2099946737289429,2.8543975353240967,0.43395864963531494,1.2301151752471924,0.8486818671226501,0.0,0.15045076608657837,0.9875432252883911,0.8593935370445251,0.0,0.0,0.0,0.4998052418231964,0.24875448644161224,0.0,0.0,0.0,1.605690598487854,0.7646573185920715,0.22148829698562622,0.0,0.011570521630346775,0.0,0.018182510510087013,2.0156290531158447,0.3988894522190094,1.578173279762268,1.4489049911499023,1.09526576125063E-4,0.6077731847763062,0.9406847357749939,0.0,1.3930350542068481,0.9253659844398499,0.8072730898857117,0.008770329877734184,2.049509048461914,1.6724003553390503,0.0,0.0,0.08170145750045776,0.0,1.3107112646102905,0.18257860839366913,0.0,0.002125224331393838,1.8942252397537231,0.19120877981185913,2.5941433906555176,0.20029589533805847,1.0128124952316284,0.7973245978355408,0.0011484866263344884,0.0,0.0,0.6734995245933533,0.2582327127456665,0.5992452502250671,0.5042271018028259,0.011104846373200417,0.0,2.6247196197509766,0.0,0.243124857544899,0.2529124319553375,0.0,0.41393598914146423,1.3225175142288208,0.22878089547157288,1.5926406383514404,0.0,0.855120062828064,1.0095995664596558,0.4082866907119751,0.0,0.632438600063324,0.717231035232544,0.0,0.9976485967636108,0.01528885867446661,0.009276662953197956,2.6574602127075195,0.0,1.6733462810516357,0.0,0.0,0.4101268947124481,0.0,0.0,0.0,0.4347073435783386,0.0,0.3582543432712555,1.5830037593841553,0.5808720588684082,0.995873212814331,0.29151421785354614,0.10388216376304626,0.0,2.4395272731781006,0.21080946922302246,0.10405972599983215,0.22923807799816132,2.1839723587036133,0.0,0.4765993356704712,0.0,0.0024056725669652224,0.6770716905593872,0.15883003175258636,1.0291634798049927,0.08082389086484909,0.9697681069374084,0.4712935984134674,0.0,0.0,0.9119119644165039,0.12466967850923538,0.3932245671749115,0.0598597414791584,0.9251434206962585,1.2650641202926636,0.0,0.0,0.9469369649887085,0.8944750428199768,0.22148284316062927,0.11425720900297165,0.0,0.061162181198596954,0.0,0.0,0.6623035073280334,0.0,0.0,0.20100733637809753,0.0,0.03898755833506584,0.9080138206481934,2.5596585273742676,1.461165428161621,2.5861895084381104,0.2907155752182007,0.0,1.7671325206756592,0.0,1.0580648183822632,0.06882811337709427,2.6107120513916016,0.0,0.0,0.0,0.07432739436626434,1.235813856124878,0.0,0.13706281781196594,2.0866858959198,1.87883460521698,0.0,0.9872167110443115,0.01614770106971264,0.8432755470275879,0.8388847708702087,1.006662368774414,0.0,0.07662589102983475,0.0,0.06222747266292572,1.5866271257400513,0.0,0.0,0.0,0.5608413219451904,1.1605569124221802,0.3234480321407318,2.804151773452759,0.005048829596489668,0.288837730884552,0.0,0.5897038578987122,0.2104867398738861,0.0,0.31641650199890137,0.6837720274925232,0.5228815078735352,0.14880259335041046,0.0,0.0,0.20157396793365479,0.003265507286414504,0.41945594549179077,0.016283590346574783,0.24262860417366028,2.103006362915039,0.08210452646017075,0.21128252148628235,2.134463310241699,0.4212900400161743,2.331773519515991,0.1321658343076706,0.0,0.0,0.0,0.5658653974533081,1.1388300657272339,1.2134348154067993,5.223313346505165E-4,0.5667592883110046,0.018092554062604904,0.0,0.01006118580698967,0.0,1.8093922138214111,0.08208843320608139,0.029565829783678055,0.06903941929340363,0.0032534501515328884,1.1061891317367554,1.1825870275497437,1.640986442565918,0.4104652404785156,0.24572429060935974,0.0,0.007318818010389805,0.6075471639633179,0.30129003524780273,0.0,1.7367961406707764,0.07452767342329025,0.010838333517313004,1.2398014068603516,0.1625906527042389,0.6653727889060974,0.26554110646247864,0.0,0.0,0.019915541633963585,0.0,0.0,0.29562729597091675,0.0,0.0,0.0,1.0318106412887573,0.0,8.892526238923892E-5,0.03249020501971245,0.13273608684539795,0.0,0.0,0.02407080866396427,0.035834264010190964,0.966278076171875,0.9440136551856995,3.0734663009643555,2.9272775650024414,0.03573089838027954,1.4349650144577026,0.8829535841941833,1.0917307138442993,0.9965879321098328,0.3410678803920746,0.5611494183540344,0.0030585017520934343,0.017638225108385086,0.3647992014884949,0.06251242011785507,0.0,1.0339735746383667,2.2227001190185547,1.6479403972625732,1.4684803485870361,0.387285441160202,0.06357055902481079,0.17670835554599762,0.49175333976745605,0.8086016774177551,0.0,0.3808515965938568,0.3199445307254791,0.7736045718193054,0.31208881735801697,0.0,0.6729075312614441,0.023149188607931137,0.06647513806819916,0.7651277780532837,0.0,0.5797904133796692,1.0568588972091675,0.0,0.024632463231682777,0.0,0.48776718974113464,1.6550283432006836,0.0,2.6108195781707764,0.4558192789554596,0.15343263745307922,0.010296928696334362,0.0,2.681180000305176,1.7067813873291016,0.20045128464698792,0.35697004199028015,0.0,1.6062144041061401,2.4171032905578613,0.3525118827819824,0.019009551033377647,0.9720975160598755,0.44076699018478394,0.46864038705825806,2.4773447513580322,1.497743844985962,0.020368099212646484,0.14160962402820587,0.21153044700622559,2.2674598693847656,0.0,0.14782129228115082,0.0,0.0,0.6402973532676697,1.1591094732284546,0.0,0.0,0.6499859690666199,6.542692426592112E-4,0.35234782099723816,0.05684703588485718,0.0,0.0011198277352377772,0.0,0.04488036036491394,2.6687233448028564,0.15009653568267822,0.0,1.5961731672286987,0.27067530155181885,0.7677901387214661,0.020722856745123863,0.032859090715646744,0.2193991243839264,0.17974111437797546,0.0304036233574152,0.0,1.0620794296264648,0.1966676115989685,1.836596131324768,0.33489707112312317,0.0,0.3676283359527588,0.0,1.005331039428711,1.9620252847671509,0.0,0.8484873175621033,0.4768298268318176,0.0,0.8672211170196533,1.296696424484253,0.0,0.03882373124361038,0.0,0.1516878306865692,1.2723870277404785,0.0,0.0,0.4891100525856018,0.0,0.03944775462150574,0.4248626232147217,0.9531558156013489,1.6902292966842651,0.08541688323020935,0.8412079215049744,1.3449559211730957,0.24966858327388763,0.0,0.0,0.3802032172679901,0.725628137588501,0.015004177577793598,0.2226419299840927,0.0,0.043805405497550964,0.053817640990018845,0.03644859418272972,0.8957611918449402,0.0,0.0,0.31490615010261536,0.7131836414337158,0.014108793810009956,0.36503902077674866,0.17869523167610168,0.6112911105155945,0.0,0.0,0.0,0.46643394231796265,1.064640998840332,0.4870912730693817,0.07350262999534607,0.09739335626363754,0.5382407903671265,1.681062936782837,0.0,4.618673801422119,1.2131739854812622,0.11481517553329468,0.25984475016593933,0.1515641212463379,0.0,0.026095770299434662,0.06996020674705505,0.032855529338121414,1.2566365003585815,0.0012331203324720263,0.8119989633560181,0.0,0.3543919026851654,0.0,0.1643703281879425,2.171128273010254,0.9558183550834656,0.0,0.03733455017209053,0.051097821444272995,0.21981708705425262,0.0,0.34723469614982605,3.124533176422119,0.7909491658210754,0.19041180610656738,0.42372116446495056,0.1391630917787552,1.1679623126983643,0.0,0.0,0.02420870214700699,1.0603456497192383,0.1382448673248291,0.0,0.8985507488250732,0.07079640030860901,0.0,0.0,0.3636043965816498,0.0,0.0,0.0024572391994297504,0.0,1.0117946863174438,0.04347078129649162,0.0,0.4776270389556885,0.0,1.2674281597137451,0.015302765183150768,1.5859872102737427,0.0,0.0,1.7631474733352661,0.9655570387840271,0.5530555844306946,0.0,1.0165467262268066,0.0,0.8050620555877686,0.0,0.0,0.0,0.0,0.1171768456697464,0.24973171949386597,0.39445292949676514,0.4031403958797455,0.0,0.0,0.0,0.024820581078529358,1.8256555795669556,0.07865359634160995,0.00908204447478056,0.25652894377708435,1.434624195098877,0.0,0.0,0.10629051923751831,0.1587180346250534,0.3617382347583771,0.0,0.0,0.016495656222105026,0.0159275084733963,0.0,0.13221494853496552,0.0,0.0,0.0,0.23947061598300934,0.1223912462592125,2.020005464553833,9.473197278566658E-4,0.0,1.240085244178772,0.0,0.0,0.0,0.013311171904206276,0.0,0.0,0.013999258168041706,2.5824508666992188,0.0,0.0,2.879561424255371,0.06163524091243744,0.0,0.5950893759727478,0.09017951041460037,0.1395169347524643,0.01897418685257435,1.2119401693344116,0.6842824816703796,1.64447021484375,3.574082374572754,0.979999840259552,1.5095250606536865,0.0393863320350647,0.4730270802974701,1.5588029623031616,0.04391134902834892,0.0,0.0,0.005729986820369959,0.6010804176330566,0.0,0.008430996909737587,0.39378076791763306,0.2109825611114502,0.0,0.0,0.01425488106906414,2.218792676925659,0.0,0.09162825345993042,1.4069188833236694,0.0,2.4055755138397217,0.05360737442970276,1.7845169305801392,0.7667821645736694,3.5078229904174805,0.3514999747276306,0.16269148886203766,1.4081529378890991,0.11099523305892944,0.007410477846860886,0.2808458209037781,0.0,0.01563386619091034,2.0361831188201904,0.0,0.6409088969230652,0.0,0.0,0.12494435906410217,0.0,0.0,0.05296514555811882,0.0,0.0,0.31530308723449707,0.0,0.10183539986610413,0.42978641390800476,0.23288676142692566,0.11924444139003754,0.38833627104759216,0.06290382146835327,0.19332973659038544,0.04905714467167854,0.05242617428302765,0.08574679493904114,2.7603180408477783,0.0,0.030250130221247673,0.0,0.0013428805395960808,0.0,0.0,0.0,1.4612456560134888,0.19250690937042236,0.0,1.2872496843338013,0.1813458353281021,0.03098921850323677,0.0,0.0,0.07012385874986649,1.0757945775985718,0.29077520966529846,0.0,0.0,0.18896158039569855,0.06547412276268005,1.3125336170196533,0.22533757984638214,0.12510280311107635,0.0,1.2248188257217407,0.4418904781341553,0.05991065874695778,0.3001294434070587,0.0,0.11974716186523438,1.9432672262191772,1.7935364246368408,1.5966686010360718,0.0,2.5612478256225586,0.07597161084413528,0.0,0.022594811394810677,0.0,1.7548768520355225,0.0,1.4863921403884888,0.0,0.03644518926739693,0.6005436778068542,0.4482942819595337,1.6659302711486816,0.4519100487232208,3.021113872528076,2.5758304595947266,0.005934141110628843,0.0,0.09849625080823898,0.8808723092079163,0.9064717292785645,0.37808215618133545,0.656603991985321,0.008622110821306705,0.7203311324119568,0.1910293698310852,0.5497948527336121,0.0,0.5283075571060181,0.9879807233810425,0.0,0.431902676820755,1.1870880126953125,0.4564332067966461,0.0,2.279406785964966,0.011738047003746033,0.0,0.318729043006897,0.0,0.5007929801940918,0.18348908424377441,0.8057288527488708,0.0,0.0,0.5083505511283875,0.08167339861392975,1.338705062866211,0.0,0.0,0.9429916143417358,1.8495336771011353,0.0,0.0,0.4237818419933319,0.20677593350410461,0.0,0.2814759910106659,0.3527251183986664,2.4337916374206543,1.167972445487976,0.009777487255632877,0.23101039230823517,0.0,2.2644312381744385,0.8167275190353394,0.0,0.0,0.0,0.0630020797252655,0.2841765284538269,0.06737073510885239,0.0,0.4477951228618622,0.0520416684448719,0.09624917805194855,1.7986406087875366,0.06785286962985992,0.0,0.0,0.0,0.0,1.0153701305389404,1.032609462738037,2.193964958190918,0.07471887767314911,0.5485480427742004,1.4803317785263062,0.6881437301635742,0.0,0.40909355878829956,0.0019715270027518272,2.5303895473480225,0.0,2.1562094688415527,1.637480616569519,0.2232881337404251,0.048995573073625565,0.05495399236679077,0.0,1.0251811742782593,0.5911754369735718,1.456312894821167,1.304229736328125,0.06460640579462051,1.538386344909668,0.0,0.2792379856109619,1.737199306488037,0.006650690920650959,0.6099198460578918,0.04112211987376213,1.4485561847686768,0.0,0.7315119504928589,0.026089278981089592,1.736341953277588,0.0,1.4153239727020264,0.0,0.9771431684494019,0.0,0.0,0.07540344446897507,0.019542887806892395,0.054034292697906494,0.0,0.0,0.019388899207115173,0.0,2.091779947280884,0.9663060903549194,0.06945059448480606,1.548488736152649,0.28220105171203613,0.2767159938812256,0.291589617729187,0.0,0.07349144667387009,0.6943245530128479,1.2198983430862427,0.09527435153722763,0.5339030027389526,0.7862064838409424,0.0,2.1710636615753174,0.5235882997512817,2.241978168487549,0.8024100661277771,0.1686900407075882,0.03885051980614662,0.2135700285434723,0.0,0.9857605695724487,0.003337821224704385,0.10066578537225723,8.350975695066154E-4,2.4222517013549805,0.8581729531288147,0.0,2.2023701667785645,0.40469104051589966,0.5789604783058167,0.04650368168950081,0.0,1.8361836671829224,0.2651626169681549,0.1029130220413208,0.0,0.09763536602258682,0.0,0.4602329134941101,0.0,0.0,1.199782133102417,0.24166175723075867,2.535632848739624,0.11401926726102829,0.0,0.015443908981978893,0.5150029063224792,0.07021928578615189,0.43319863080978394,0.9921307563781738,0.4920378029346466,1.7286216020584106,2.476350784301758,0.6043630838394165,1.6903529167175293,1.359323263168335,0.0663713812828064,0.6276140213012695,1.1885499954223633,2.455388069152832,0.0,1.789557933807373,0.0,0.9750239849090576,2.115839958190918,0.0,2.1507017612457275,0.22534486651420593,0.0,0.03246146813035011,0.0,0.19843903183937073,0.5351489782333374,0.0,0.04709895700216293,0.11214862763881683,0.25698789954185486,0.9197472333908081,0.022204622626304626,0.18536147475242615,1.9870350360870361,0.0,0.08595000207424164,0.09793386608362198,0.0,0.25017809867858887,0.0,1.3784606456756592,0.2705307900905609,0.03457773104310036,0.0,0.0,0.06710997223854065,0.49684497714042664,0.02709684520959854,0.0,0.7150556445121765,1.4651178121566772,0.44946157932281494,0.8812217116355896,0.0,1.3859913349151611,0.0,0.0]</td><td>[-22.767381547168856,4.789735430799139,-8.60055619998464,-0.8534159101712087,3.0764861739747125,8.144135265937637,-10.620756715607978,20.681069687369025,-0.37451640968042316,-8.655929765836296,6.743760737704201,-7.075068790364132,9.870454981696021,12.820466607113179,11.025753761317873,2.9715646535816393,0.9820837213645346,-10.31100080834243,-2.9270609339922817,-1.326024807859124,-2.2892550824156066,-2.316653241027387,3.232360579590576,6.050080623445705,-3.775640516467858,2.4721677549630354,4.087676513526841,-2.413411251915539,-1.0069655091076146,1.5080915966272117,-6.067166677254184,2.4144869269619207,-5.875883085953908,-2.599363638923722,12.409888986839528,-5.562769568636565,-6.752186074578318,3.081431228402522,-1.7633086088883834,0.20504206434262212,-0.8881410778919058,1.7487845479400232,4.954999825040618,2.3111881998095387,-0.5974847348211315,8.251101262956018,-0.9892697849261687,-6.690161338106158,-0.9380253140771647,6.335332286787049,-4.229320869394841,-8.784356661232113,1.8505273470329293,-1.3456829340352543,1.2464690066361401,-3.7937574502434837,4.2178323165872635,-4.080756370254332,-1.7020420026654088,4.575504122745695,-6.550624008059195,-2.009791275878108,-1.3259341663651856,-2.1535391398000567,6.358372298183212,-2.5281436480788417,0.6836594196868024,-6.514545791738171,-1.6650437649160421,4.25804665581335,-2.5246708694438182,-1.2733821039714275,5.389915004226963,-3.7439960652299744,-1.7346488802862376,-2.766210637234262,-4.925471534175886,6.684988898748951,-0.9400992871125892,2.8603906527146323,0.11938146583629382,-0.5006659532559127,4.222601648467086,-4.815600123572617,3.5911901830503816,6.910003730001921,-1.3687449271303664,-0.3199731018437231,0.1769856259198718,-2.9079692820771403,2.7557506441402304,-4.205840551597676,-0.06434660268844532,2.223424441696164,-1.6430948390884625,4.159640840759964,0.7147649219176969,3.5231451349061,-8.341186658900156,8.25609397089519,-2.7701950084338276,-4.110494560471918,-0.16981797615072994,-1.4076707910820219,3.0390866415540096,0.3592147454226739,0.5141951105608269,-0.3223096434918593,2.2780448790179504,3.274865402894986,3.4957917904362343,2.3234615034704578,1.443868760449122,-0.921757383190636,-0.8114556226980116,0.7430719740137679,-2.47182008834131,-1.2316080667134859,-5.400033148193034,-2.9212121395060624,-2.377926570398435,0.7274161786507585,-0.28467288372830607,2.1332303585167907,-0.31058387112051306,-0.7657336005961525,-1.3935412861651453,0.5972841432903192,-4.006681325214912,-0.35272998682869505,3.1454703869097207,0.2570595096274328,2.2783483455932454,-2.5277974095339983,-0.9306599265716291,0.5565169655170368,-0.8510322176616146,-1.6286476861660946,1.3444372279355072,1.688414223021655,-1.864686742721628,0.32156112434471706,3.4729557907844586,1.3473880399622922,-3.141228127507798,-2.771390415053003,0.5400922145184817,0.946161509582925,0.0684406561519773,0.27272295898381316,-0.3093750337015209,-1.5317730449248492,0.8961224606705945,-2.0633264854743003,1.197124630882838,0.866713766397623,0.2808865179924261,0.05604337672019301,-1.4297261598961142,0.6160142362453709,1.3971015285088781,0.5908022546378061,-1.6111025757853932,-1.123400390540615,2.8457087882366423,0.9389498131803339,-2.2026526881307906,-0.4156383165929414,-1.1222087919594943,-2.5669026788802696,1.301253980908437,1.7298981183950661,0.5740561384487008,-2.21296044505592,-0.6582313507756655,1.4474531449689225,-0.30628750598230914,1.6911764662622606,1.4229895920398394,-0.7808110406554951,-1.9738758781378478,1.076880546716628,-0.6238100029785228,-1.9081102393642353,-1.3583887188237933,2.0705942093679623,0.48410796138458545,-3.246114403130551,1.1516394592896533,-1.3446984397479955,0.6062857160831493,-1.1154348926426783,-1.3533525089920102,-2.172149552439333,0.2360044899667642,0.1848904554885936,0.9742824923652653,0.9442596854344038,-0.12850491259376323,-0.2011694150842019,2.099248128171348,1.5587261061554571,0.5745028594693685,-0.2288538157706205,0.7628144945745629,-0.739176678366196,1.4643666467291507,0.053462076844283675,0.7604590426439367,0.5650226790773188,2.776704092399046,0.1693538733540384,-1.9317142193656494,-0.06690307931517468,0.5002595990293714,-0.19682139290669787,0.5783704591900781,-1.6245128787961147,-0.11323906995582911,-2.3113749131995376,-1.688432682386793,-1.3870257714180338,1.3974279819868383,2.090824202560445,-0.40221078752338396,-0.13487029543397097,1.1869957866420027,1.0244015317432296,0.19211088098959847,0.3497236166916682,-0.38376786773171423,-1.5705432660752012,-0.796156238600284,0.15790390415102523,-1.235579351824507,-0.883128439386932,-0.1458768337151398,-0.5911737425210863,0.020949309670550375,0.9578614476265854,0.37744270976041916,1.0368205773570098,1.349156623275169,-0.08324977433702448,0.2650951118024229,0.10890909747527366,-0.17524780087167308,-2.0225529883389894,-0.08070898420656132,1.4707379571278931,0.04041545882699748,2.2714215838767866,-1.7243818481005142,-1.3337241148885766,0.13752452577761232,-3.6916649123544,0.22688904820505715,-0.2621968066600257,1.0525269779346553,0.25972704080239395,0.5328877083550742,0.8510231812991285,0.9600156170733031,0.8711461808602048,-1.626765845649343,0.10331889993539631,-0.6064778043059791,0.24334459904446243,-1.6966827981005768,-0.2485172755486473,2.3833106253410534,0.5723409783222387,-1.5723027149541542,0.30121794101873506,0.3253137571402179,1.9114017723154393,0.6042827046128413,0.1524960134386171,-0.19139977316724702,1.681395449922823,1.2228397831504898,0.6750422060219696,0.13301991570101185,-1.9746653306990056,0.18783570127255883,0.591479161669931,0.6889052922655291,0.17891909049172308,0.19286791167524409,0.7300422850112162,1.545179579916832,0.5265739154613797,-1.529144955372466,-0.4386382634327769,0.36921055882306414,3.070030869026398,-0.5262811394719534,0.6208695181883898,0.9113514978507665,0.5092008586196691,-0.24956239093894694,-0.8019089824438355,-0.07476642263407428,0.22990954970931576,1.175147324810371,0.4882639278512948,0.42405285652614416,1.1938870324180328,0.01984023732934083,1.2121618474875588,0.21024914493724606,-1.2265289748433905,1.0774292176334237,-0.8405024329216083,0.09357017373586476,-0.6227344112427453,1.5567007824284909,1.0103784920570846,-1.244265881262521,-1.171918996795635,0.6656009889024133,1.291590538002143,-0.5044347444460439,-0.20669572444802314,2.093772934216566,-0.7243906912031511,0.809234783338787,-0.2941654194514709,0.5243318308781956,-0.5020873380555488,1.0240933344055383,1.3625189522193752,0.1349619902325837,-0.6749338791887981,0.3559572442266381,1.104298249766732,-1.225184568385068,1.6773209833126719,-2.367364907807258,0.030765601889086093,1.0384740200263023,0.9624372752651507]</td></tr><tr><td>s3://cap9-fruits/img/Watermelon/r_53_100.jpg</td><td>Watermelon</td><td>[1.0325120687484741,0.3903099298477173,0.01798061467707157,0.145160973072052,0.9301173686981201,0.0,0.6949985027313232,0.5946907997131348,0.4880656898021698,0.044003963470458984,1.2489632368087769,0.05209384486079216,0.3178032636642456,0.03503221273422241,0.22138400375843048,0.007961370050907135,0.0,0.0,0.0,0.7069565057754517,0.0,0.37816861271858215,0.0,0.0,0.04799461364746094,1.0813231468200684,1.0750526189804077,0.006612612400203943,0.0,1.9451241493225098,0.007556399330496788,0.009972036816179752,0.6864964962005615,0.25924351811408997,0.0,0.018525229766964912,1.190250277519226,1.9267069101333618,0.009339585900306702,0.0,0.0,0.0,1.1871516704559326,0.06803248822689056,0.0,0.0,0.25072768330574036,0.2672460377216339,0.9600068926811218,0.17245271801948547,0.0,0.055046647787094116,0.022126255556941032,0.0,0.04665687307715416,1.7026640176773071,0.0,0.6548128128051758,0.0,0.0,0.7345985770225525,0.06365431845188141,0.20140862464904785,0.0,1.9046761989593506,2.4986307621002197,2.1522390842437744,0.021908877417445183,0.07518129050731659,0.015040174126625061,0.0,0.45736491680145264,0.0,1.4091964960098267,0.5641014575958252,1.3455857038497925,0.39837127923965454,0.033545758575201035,0.0,0.0,0.0,0.894456684589386,0.23603980243206024,0.032548096030950546,0.07076555490493774,0.0,0.020236069336533546,0.6279029846191406,1.7017720937728882,1.9642401933670044,1.0801082849502563,0.0,0.05647796392440796,0.0,1.110892415046692,0.9315137267112732,1.0275208950042725,0.25390419363975525,0.756620466709137,0.0,0.7087687849998474,0.0,0.11989357322454453,0.18302536010742188,0.9324706196784973,1.023825764656067,0.0,0.43083620071411133,0.0,0.17852655053138733,0.0,0.09868819266557693,0.05191269516944885,0.4426146447658539,0.28306132555007935,0.676362931728363,2.3737664222717285,0.004978705197572708,0.0,0.6400670409202576,0.03185117617249489,0.019174382090568542,0.22056473791599274,0.672907292842865,0.1447572261095047,0.9944303035736084,0.78035968542099,2.779243230819702,2.7535855770111084,0.4456672668457031,0.05377063900232315,0.8450210690498352,0.10426105558872223,0.0,1.2650634050369263,0.0,0.3651452660560608,0.0,1.8942097425460815,0.9301257729530334,0.6726941466331482,0.009405330754816532,0.09180139750242233,0.23737093806266785,0.0,0.05463134124875069,0.025247856974601746,1.1044561862945557,0.028110649436712265,0.3787991404533386,0.0,0.0,0.10953187197446823,0.0,0.1228337213397026,1.8366190195083618,0.019314805045723915,0.06178935617208481,0.680219829082489,0.022152481600642204,0.0,0.0,0.0,0.010573873296380043,0.8727660179138184,2.07301664352417,0.837013304233551,0.4780014157295227,1.695418119430542,0.05953988432884216,0.09040410071611404,0.0,0.7561686635017395,0.0,0.0,0.628989577293396,0.16568168997764587,0.4529531002044678,0.09029198437929153,0.3796723783016205,2.093071222305298,0.49608054757118225,0.6965568661689758,0.0,1.040682077407837,1.2316534519195557,0.7841805219650269,0.3030098080635071,0.0,0.19656220078468323,0.01874537393450737,0.45693477988243103,0.018482675775885582,0.9771265387535095,0.434033066034317,0.0,0.0,0.0,0.28029727935791016,0.754294753074646,1.0796566009521484,0.12866772711277008,0.03815259784460068,0.017250878736376762,0.7093157172203064,0.04771414399147034,0.0,0.0,0.08115651458501816,1.033242106437683,0.0,0.13312947750091553,0.0857238695025444,0.0,0.02253786474466324,1.905677318572998,0.2668954133987427,0.0,0.12499182671308517,0.0,0.9712817072868347,0.0,0.0,0.7230174541473389,0.013008409179747105,0.037620581686496735,0.0,0.0,1.4673736095428467,1.0087757110595703,0.6329233646392822,0.17381784319877625,1.1392996311187744,1.6127431392669678,0.40063589811325073,0.012987545691430569,0.0,0.09620737284421921,0.25698167085647583,1.5480897426605225,1.4255527257919312,0.44323286414146423,0.12904620170593262,0.008958057500422001,1.2164851427078247,0.13209830224514008,4.129251480102539,0.30326133966445923,1.9292562007904053,0.12651287019252777,2.85478138923645,0.0,0.0,0.11405216157436371,0.6046189665794373,2.0405445098876953,1.6030855178833008,0.8673195242881775,0.3712094724178314,0.3027448356151581,0.0,1.4875198602676392,0.0024443743750452995,1.2585687637329102,0.021448105573654175,0.0,0.0,0.0,0.0,0.06843942403793335,0.0,0.03867565840482712,1.751549243927002,0.1900542676448822,0.15776009857654572,0.21079501509666443,0.980952799320221,0.0,0.5657383799552917,0.0,1.1271904706954956,0.024271205067634583,0.0,0.4292873740196228,2.218116283416748,0.0310467891395092,0.3063921630382538,0.036322467029094696,0.5537227392196655,0.09860261529684067,0.24060840904712677,0.36806705594062805,0.0,0.06725756078958511,0.0,0.8052660822868347,0.0,0.41610315442085266,0.048508185893297195,0.0,0.23115067183971405,0.010793705470860004,0.6341879963874817,0.011799228377640247,0.09894990175962448,0.021468210965394974,0.0,0.5975249409675598,0.0,0.0035110493190586567,0.7329861521720886,0.6529503464698792,0.01047000102698803,0.0,1.315664529800415,0.08563537895679474,0.0,0.0,0.0,0.016757799312472343,0.42857491970062256,1.4514755010604858,0.6062049865722656,0.43014034628868103,0.0,0.10281387716531754,0.0,0.046288713812828064,0.0,0.16296640038490295,0.04284648597240448,0.04033583030104637,0.6476750373840332,1.6765470504760742,0.0,0.09021463990211487,0.004066243302077055,0.0,0.0,1.6318618059158325,0.0,0.020042244344949722,0.14393670856952667,0.012621247209608555,0.9509076476097107,0.31041067838668823,0.059054940938949585,0.0,0.7111884951591492,0.08634179085493088,0.060366805642843246,0.0,0.0,2.640894651412964,0.14514218270778656,0.07261085510253906,0.16368982195854187,0.13223257660865784,0.7181763648986816,0.2800315320491791,0.03451879695057869,2.006471633911133,0.004102303180843592,2.248805522918701,0.053205013275146484,0.0,0.9805485606193542,0.07937388867139816,0.0013141047675162554,0.0,0.09124763309955597,0.0012588889803737402,0.0,0.0,1.523329734802246,0.0,0.00183868408203125,0.5487252473831177,0.5474684834480286,0.0,0.011754055507481098,0.6933119893074036,0.0958138108253479,0.0,0.24123503267765045,0.0,0.16494183242321014,0.0,0.3448804020881653,0.3975234627723694,2.030658483505249,0.0,0.010021229274570942,0.0,0.31573623418807983,0.04428744688630104,0.157882958650589,0.6621034741401672,0.04304790496826172,0.5439398884773254,0.5564721822738647,1.349153757095337,0.014070228673517704,0.022607598453760147,0.0,0.26420286297798157,0.03807049244642258,0.16593673825263977,0.42383062839508057,0.3056340217590332,3.02146315574646,2.0508272647857666,0.0,0.027974361553788185,0.448059618473053,0.0,0.0,0.989885151386261,0.10521609336137772,2.554608106613159,0.18858110904693604,2.4040920734405518,0.005597961135208607,0.0,0.19041015207767487,0.5543550848960876,0.1976177990436554,0.0,0.0,0.0,0.1552019864320755,0.0,0.0,0.0,0.0,0.16376616060733795,0.09239568561315536,0.0317152664065361,0.0,0.20471085608005524,0.00489390641450882,0.14544974267482758,2.713749408721924,1.2446129322052002,2.86704421043396,1.395094394683838,0.4058089852333069,0.0,0.11350259184837341,0.0,0.20750974118709564,0.431039422750473,0.424572229385376,0.05388748273253441,1.980002522468567,0.9825952649116516,0.0,0.0,0.7392627000808716,0.0,2.493844747543335,0.0,0.0,0.005859229248017073,1.6689153909683228,0.0,2.719963788986206,0.3155477046966553,1.820411205291748,0.0,0.12682075798511505,0.0,0.01246509701013565,0.7894948720932007,0.24572867155075073,0.45378950238227844,0.03610963374376297,0.05603202432394028,0.0,1.1047207117080688,0.0,0.04316753149032593,0.2918529510498047,0.06786136329174042,0.2500157654285431,1.0205950736999512,0.3074447512626648,1.3000589609146118,0.025644350796937943,1.1506023406982422,0.7214267253875732,0.05031182989478111,0.0,2.2928483486175537,1.883003830909729,0.0,0.5036268830299377,0.2876272201538086,0.0,1.351853370666504,0.0019286797614768147,0.6489697098731995,0.03983710706233978,0.0,0.19272321462631226,0.0,0.0,0.0,0.029813328757882118,0.17236784100532532,0.7552602291107178,1.4206117391586304,0.17222964763641357,0.9143030047416687,0.05865224450826645,0.2776022255420685,0.0,1.785930871963501,0.4897417426109314,0.745763897895813,0.0,1.198402762413025,0.0,0.5647710561752319,0.014142104424536228,0.0,0.44127070903778076,0.9702290296554565,1.0799431800842285,0.019387060776352882,0.5660997033119202,2.618279218673706,0.0,0.3168191611766815,0.271502822637558,0.054832011461257935,0.3306000828742981,0.0,0.21681812405586243,0.10298006981611252,0.014970827847719193,0.0,1.3892630338668823,0.657060444355011,0.14543451368808746,0.0,0.0,0.2980155050754547,0.5573036074638367,0.05240209773182869,0.20791341364383698,0.0,0.0,0.10837984085083008,0.488455593585968,9.038302232511342E-4,0.30013713240623474,1.698270559310913,1.6163395643234253,3.0423543453216553,0.4049418568611145,0.0,1.10100257396698,0.02241376042366028,1.0394424200057983,0.17616894841194153,1.1751956939697266,0.006641451269388199,0.34087222814559937,0.0,0.15366283059120178,0.9659914374351501,0.0,0.23433507978916168,0.7278328537940979,0.44171544909477234,0.22655849158763885,0.7608602046966553,0.0,1.4822592735290527,0.03512140363454819,0.0,0.0,0.14617060124874115,0.0,0.0,1.0050206184387207,0.0,0.1420324146747589,0.008196120150387287,0.7873404622077942,1.4260808229446411,0.07660797983407974,1.787466287612915,0.7085697650909424,0.06848884373903275,0.0,0.8817121386528015,0.32761645317077637,0.0,0.1960664689540863,0.03506705164909363,0.6330726742744446,0.02550700306892395,0.0,0.02615000307559967,1.0028860569000244,0.1372772455215454,0.42497900128364563,0.13734856247901917,0.7922653555870056,0.6447269916534424,0.021362489089369774,0.03953341022133827,3.4253649711608887,0.46535900235176086,2.030479907989502,0.8181811571121216,0.08182942867279053,0.0057342685759067535,0.0,0.9795534014701843,1.7248908281326294,0.850774347782135,0.22499415278434753,0.23467260599136353,0.20901928842067719,0.0,0.2306130826473236,0.0,0.5006129741668701,0.39451128244400024,0.24490928649902344,0.004908503498882055,0.0,0.8800629377365112,1.2050259113311768,1.5229572057724,0.5345861315727234,1.3617626428604126,0.0,0.6911415457725525,1.4088026285171509,0.9269736409187317,0.0,1.4307724237442017,0.0,0.03867139667272568,0.6120997667312622,0.11968641728162766,0.24637849628925323,0.006201841402798891,0.0,0.003938762471079826,0.3800402581691742,0.0,0.09004776179790497,0.2796357274055481,0.0,0.0,0.17795243859291077,0.6841214299201965,0.03246333822607994,0.0,0.13550664484500885,0.5345215797424316,0.0,0.0,0.15531384944915771,0.25440263748168945,0.997625470161438,0.6772494316101074,3.2967286109924316,2.7696075439453125,0.6557347774505615,1.253798007965088,0.09646472334861755,0.09323495626449585,1.5063635110855103,2.3368913389276713E-4,0.2179131805896759,0.17597739398479462,0.02725929208099842,0.8351956009864807,0.0,0.15151676535606384,0.2306901514530182,0.29358354210853577,0.619953453540802,1.9090582132339478,0.022557180374860764,0.03497525677084923,0.04968437924981117,0.020939700305461884,0.6751685738563538,0.0,0.22099915146827698,0.8277142643928528,0.25950440764427185,0.01585354097187519,0.09991766512393951,1.1904743909835815,0.20498941838741302,0.06324055045843124,0.2895067036151886,0.0,0.3191397190093994,0.10576121509075165,0.03420637920498848,0.0,0.0,1.009787678718567,1.5420074462890625,0.2724953293800354,2.9715416431427,0.242294043302536,0.1152467355132103,0.01468420960009098,0.0,1.4575257301330566,1.0270065069198608,0.10814870148897171,0.699651300907135,0.0,1.965086817741394,1.1386899948120117,0.5591452717781067,0.22270876169204712,0.48404476046562195,0.4407159388065338,0.061356183141469955,1.9410609006881714,1.1073148250579834,0.14412857592105865,0.08768831193447113,0.05140357092022896,1.00052011013031,0.0228914525359869,0.09103568643331528,0.0,0.3575688898563385,0.01046763639897108,0.739575982093811,0.10459139198064804,0.05462079122662544,1.5477744454983622E-4,0.0,0.6818840503692627,0.9690697193145752,0.0,0.0,0.0,0.08556433022022247,1.3951468467712402,0.7503252625465393,0.0,1.0517204999923706,0.0,0.6642379760742188,0.009944740682840347,0.0,0.896929144859314,0.24170595407485962,0.046048399060964584,0.07135334610939026,1.1321465969085693,1.0775961875915527,0.3938199579715729,0.5687755942344666,0.0,0.05033677816390991,0.0,0.49783504009246826,0.8363642692565918,0.0,1.135631799697876,0.9880529046058655,0.0780104249715805,0.30839142203330994,0.5795472264289856,0.0,0.20596881210803986,0.0,0.0,0.3732945919036865,0.0,0.051074184477329254,0.0,0.27971595525741577,0.0,0.24194107949733734,0.930302083492279,0.759688138961792,0.576768159866333,0.3627593517303467,1.0890655517578125,0.0,0.0,0.0,0.037285540252923965,0.2955889403820038,0.0,0.30399513244628906,0.0,0.44482335448265076,0.0,0.0,0.5123466849327087,0.017519863322377205,0.04732469469308853,0.9889090657234192,0.4469861090183258,0.0,0.04383028671145439,0.006613731384277344,1.0029047727584839,0.0,0.010890775360167027,0.03033154271543026,0.6767359972000122,0.7005428671836853,0.11763615161180496,0.0,0.09014692157506943,0.6267064213752747,1.6050550937652588,0.0,3.4513204097747803,0.08650167286396027,0.02195010893046856,1.3318507671356201,0.0680423304438591,0.0,0.0,0.11156925559043884,0.40489092469215393,0.9276909232139587,0.0,1.2385828495025635,0.0,0.027100076898932457,0.012342531234025955,0.0,2.3166539669036865,0.4842495322227478,0.028057584539055824,0.0,1.0524616241455078,0.12609966099262238,0.0,0.4663609564304352,2.3311212062835693,0.29460471868515015,0.0,0.38206276297569275,0.0,1.2536875009536743,0.0,0.0,0.0,0.09146013855934143,0.1851094663143158,0.0,1.1470030546188354,0.0,0.0,0.0,0.1919795274734497,0.017101559787988663,0.1319310963153839,0.060737017542123795,0.0,0.08487952500581741,0.1307487040758133,0.03408333659172058,0.06844540685415268,0.0,0.31563735008239746,0.07324882596731186,2.209749937057495,0.0,0.053322404623031616,2.101118803024292,1.0103273391723633,0.2025986760854721,0.03896290808916092,0.9224174618721008,0.0,0.24951641261577606,0.0032632886432111263,0.0,0.0,0.38266292214393616,0.5522489547729492,0.21464985609054565,0.0,0.29712173342704773,0.0,0.0,0.0,0.0,1.0251117944717407,0.12472838908433914,0.0,0.0,0.9498380422592163,0.0,0.08043206483125687,0.01576843112707138,0.28558018803596497,0.0,0.0,0.21021899580955505,0.0,0.0,0.07642211765050888,0.0,0.5645009279251099,0.46182480454444885,0.0,0.0,0.0,1.1629115343093872,0.017898879945278168,0.0,0.385010689496994,0.10443828254938126,0.08581800013780594,0.0,0.0,0.0,0.04065718129277229,0.08253443986177444,2.0896060466766357,0.06021709740161896,0.33237212896347046,0.8294811844825745,0.23724210262298584,0.0,0.17327962815761566,0.05639283359050751,0.6254963874816895,0.19783246517181396,1.1479500532150269,0.5668971538543701,0.990355908870697,1.9257115125656128,0.11189337819814682,0.7615147829055786,0.007856408134102821,0.3292522728443146,1.12460196018219,0.7049798965454102,0.0,0.0,0.07842959463596344,0.6632509827613831,0.0,0.015379662625491619,0.5102601051330566,0.13986699283123016,0.0,0.0,0.159920796751976,1.5433473587036133,0.0,0.0400773249566555,0.8359211683273315,0.0,0.8786924481391907,0.12301603704690933,2.2205708026885986,1.1750209331512451,2.9043469429016113,0.2744312286376953,0.0,1.6362329721450806,1.4801174402236938,0.02220236510038376,1.1077897548675537,0.02868172526359558,0.007107121404260397,0.4592442810535431,0.0,0.14491234719753265,0.40646055340766907,0.0,0.0,0.0,0.032966915518045425,0.1209321990609169,0.0,0.0,0.3745571970939636,1.3097803592681885,0.11990538239479065,0.9007930159568787,0.12155386060476303,0.0015059004072099924,0.29582512378692627,0.07656777650117874,1.5380324125289917,0.0,0.025555435568094254,0.3570617437362671,1.3168073892593384,0.37936729192733765,0.01290036179125309,0.0,0.2713635563850403,0.28980186581611633,0.0,0.0,1.068321704864502,0.0852915495634079,0.38141924142837524,0.7254452109336853,1.0357906818389893,0.5173014998435974,0.031654320657253265,0.039910394698381424,0.5276904702186584,1.0079072713851929,0.0,0.0,0.0,0.02246692217886448,0.0,0.4742838740348816,0.6043404936790466,0.0,0.0,2.105067491531372,0.4729045033454895,0.03810705617070198,0.004025721922516823,0.0,0.0,0.4330325722694397,0.4478076100349426,1.641111135482788,0.0,0.5977863073348999,0.029898235574364662,0.057854797691106796,0.0,0.0,1.9403787851333618,0.0,0.6210662126541138,0.0,0.0,0.5078141093254089,0.7333640456199646,0.8294568061828613,0.9688884019851685,1.6272165775299072,2.7489888668060303,0.10222268849611282,0.0,0.6002901792526245,0.0028176307678222656,1.5583642721176147,0.4214158356189728,0.11452616751194,0.0,1.165837287902832,0.22849208116531372,0.47983795404434204,0.27531278133392334,0.8415165543556213,1.4261821508407593,0.0,0.10243149846792221,0.05980962514877319,0.5496025681495667,0.04458922892808914,1.7790093421936035,0.08976109325885773,0.0,0.9875299334526062,0.0,0.25227388739585876,0.013268713839352131,0.85118567943573,0.46548211574554443,0.0,0.05476032942533493,0.34787559509277344,0.4123390018939972,0.058710310608148575,0.6290798783302307,0.04239294305443764,0.976996898651123,0.0,0.0,0.2204137146472931,0.6586984992027283,0.12254834920167923,0.12709346413612366,0.12617261707782745,0.1341247707605362,1.110105276107788,0.29059624671936035,0.27863919734954834,0.0,1.560622215270996,0.6543118953704834,0.0,0.0,0.20348167419433594,0.010393171571195126,0.08245903998613358,0.31519460678100586,0.00584768783301115,0.47928449511528015,0.13610869646072388,0.6397285461425781,0.8529554605484009,0.0,0.37893131375312805,0.0,0.0037405830807983875,0.0,0.5966594219207764,0.0,0.900842010974884,0.0,0.5732309222221375,0.8465926647186279,1.0028369426727295,0.0,0.11322001367807388,0.30056673288345337,2.282569646835327,0.0,1.8696273565292358,0.868211567401886,0.29384833574295044,0.05080316588282585,0.0,0.20575331151485443,0.3109399080276489,0.43203458189964294,0.1980314403772354,0.6492007374763489,0.07216363400220871,0.07614418119192123,0.0,0.07075361162424088,1.5747044086456299,0.7071316242218018,0.4562871754169464,0.1349962055683136,1.1623482704162598,0.0,0.813529908657074,0.0,1.675161600112915,0.030312655493617058,1.1921253204345703,0.22210387885570526,0.6042942404747009,0.0,0.010133772157132626,0.0,0.0,0.12099621444940567,0.0,0.0,0.0,0.0,2.396778106689453,0.0,0.0,2.2535886764526367,0.1826503872871399,0.850286066532135,0.415426641702652,0.0,0.02430114895105362,0.5151780843734741,1.5744460821151733,0.33857181668281555,1.1497461795806885,0.12840473651885986,0.0,1.5967295169830322,1.2452142238616943,1.2451728582382202,1.0867549180984497,0.08787413686513901,0.36265960335731506,0.29235342144966125,0.1884857416152954,0.8132326602935791,0.019565310329198837,0.1319168210029602,0.012614766135811806,1.033555269241333,1.2564067840576172,0.4158497750759125,0.30816885828971863,0.8519089221954346,0.17537140846252441,0.03708775341510773,0.019385630264878273,1.184923768043518,0.12385335564613342,0.11867125332355499,0.3158681094646454,0.258044958114624,0.0,0.060318928211927414,0.0,0.017818830907344818,0.10114641487598419,0.0,1.9751583337783813,0.3525819182395935,0.0,0.5166796445846558,0.4538533091545105,0.11963404715061188,0.3453036844730377,1.1987634897232056,1.6238996982574463,0.9098033308982849,1.8129311800003052,0.15176917612552643,0.7391558885574341,1.369107961654663,0.0,0.06598589569330215,1.923628568649292,1.4876755475997925,0.017838342115283012,0.4057442843914032,0.0,0.5150277018547058,0.5307533740997314,0.0,0.8294321894645691,0.17750631272792816,0.0,0.10521882027387619,0.0,0.14993104338645935,1.0474084615707397,0.0,0.0,0.10624123364686966,0.0,0.7224113345146179,0.0,0.21041183173656464,0.02211279794573784,0.09191861748695374,0.0,0.1604592651128769,0.0,0.0012246930273249745,0.0,1.1580605506896973,0.30457043647766113,0.6966866254806519,0.010805169120430946,0.0,0.2948957681655884,0.42847272753715515,0.42886313796043396,0.0,0.13267600536346436,0.595508873462677,0.748645544052124,0.5385269522666931,0.0,0.6053730249404907,0.14653071761131287,0.0]</td><td>[-12.296512258892355,3.5899149735193583,-6.708281457988512,-1.1520272558273725,2.4199995233127587,3.9274005594111765,-3.884142811994359,11.98434352730905,3.0898929575697602,-7.452856224731561,3.292650819365828,-3.3286088170363204,7.927548409713911,10.144713816222168,10.075352850724531,2.5831561336495907,1.9957825368037112,-7.728149660637696,-3.4298592914777437,1.791211186529891,-5.843479557520922,-3.317286766347216,0.39435990651931074,7.87577011153719,-3.5596875190072006,2.6626916185838243,3.2425220811259643,-1.0674731963972213,-3.476194713307408,1.6671727593240457,-5.427249915598825,0.09945371032006306,-0.40670248631534844,1.1516239145261153,7.145077528420469,-4.075363851822776,-5.403533693375594,1.3142074404679553,-2.103329488531415,1.8488839087910123,0.6792468574271773,2.4886318434423553,0.043426914791879816,1.359096974349205,1.8265057294629072,2.106815940946371,-4.09169714200694,-1.3620766184282425,3.060770698278956,1.0229088388593386,-5.716597874515942,-3.64103364091989,-0.5434100863171976,-0.19284632507807267,-0.1454290649186245,-3.0180896042676926,2.011733101809443,-5.436119698512265,1.6628120231101873,3.9211976200577037,-4.209838468981397,-0.8066725607892266,-2.700747245999167,-1.7865050596216845,1.1054112069512976,-3.946565879672957,0.795215373339088,-3.273596252175604,-3.34420812269581,4.173833586910726,-3.5459649673861624,2.089994503549175,2.607019899812929,-0.26900241244563067,-0.11203487740277754,-5.785014926119276,-2.009724025333338,2.8017614292724504,0.3236244648667897,0.9173415093868663,2.296847195948661,0.5743037418385308,1.9056789134026353,-0.6760853109887742,0.7163213160025185,1.8835787767780394,-0.17377147967918757,-0.998207379235362,-0.4981610840891525,-2.5533600880677243,-0.5930287847569982,-2.485661251608903,-0.6539734170754702,0.5408289333649362,-2.4307758205715198,1.6442218345616457,0.5116657192421621,1.8396364183475957,-3.596567340591012,2.0474891694101003,-0.44045079031012796,-1.2356089414654277,2.2322351118219097,-0.27582810722793283,1.470942927122279,-1.8363341808795817,-0.045019290065955335,-1.3774860708368164,1.7677292810763452,2.0271502305022313,1.491403214013939,-0.40363427929272855,0.47240734222493946,-0.470707893953921,-0.782492383069491,-0.8296049751289415,-3.192714007516961,0.26002740484620945,0.11771496645144723,-0.9889551771956093,-0.9137220243663627,-1.2959508565460482,0.8841981199922296,2.0164442640171343,-1.0487720397261127,-1.0794329183633882,0.29914052162904176,1.6171315179085761,-0.5941619372062615,-0.08304244985089071,0.4936680693342614,0.7824966607408681,-0.3414311759054912,-0.9016200022540292,-2.2158340961159757,-0.0393788170997388,-2.4035606787553223,-0.9894314497704373,0.29159880036524005,1.378374331012372,-0.4586101574413468,1.6903313574139935,0.949059029025594,-1.0265920531902035,-3.500042091559594,-1.966777365247254,-1.0865272628584863,1.2849168476666868,1.1563069394835572,-0.8220095005115372,-0.9109104321914413,1.5010639808026933,-1.9090183750205878,1.3181750632569844,1.35025001828931,-0.9515869278082327,0.8960386788988561,-1.1437211743489422,-1.657198281610034,-0.03841814176733387,-2.2427180887980174,-0.18210086953165436,1.620932336731897,-0.1404654046709174,0.36619927806755787,0.705187206139077,0.5463696748583653,0.8698798080116891,-0.7636390937823289,1.4192871890554453,-2.309152964353342,0.9495886780220355,-0.8136059395541314,1.5288749485296902,0.7647187414344503,-0.36153111356675655,0.5928175766011153,0.5431593117897956,-1.2515463901917572,-0.7544236468054897,-0.6003467849423093,0.02557343512180213,0.19475007559981822,-0.09794023290057845,-0.15023385191297475,-2.305637413818436,0.4752544648035254,0.14579914619005357,-0.6980962297837892,-0.9752930465075876,0.34977919936009944,-0.921016216419159,0.6538660746692732,0.08144371433794709,-1.2930995973788562,2.0893241191060854,0.9556438727656112,-0.04320478998630478,-0.8550101279907897,-1.6921727368490582,-0.9673746426863307,-1.3462564919925553,0.2885058275659882,-0.2357303786703059,0.07051134959744512,0.46873567187016785,0.6461214647622128,-0.8515573189446928,0.38181228939106854,0.5405296837039835,-1.4030003499683172,0.6066399494428478,-0.32134139932939665,0.14893490800809375,1.9955117038694261,-1.1250121163813838,0.28741543124876345,0.7247586474600334,-0.24182590777766433,1.6225225104668406,1.7606224569425573,0.6732062866214572,1.0818069489195699,-0.5626220866630022,0.7223643971472585,-0.8718688519365188,0.35711271273445644,0.2877451854313712,-0.8554251406606163,0.0847774260074866,0.4963263876161214,0.6059773339865312,0.24859177555456802,-0.15458363928126737,0.5988312816501594,0.5369918308707401,-1.4286790093298516,-0.49451978725751794,-1.308173381121011,0.24818613170474002,-1.1664083326884194,-0.3797293132842996,0.6145153038930888,0.07550654837706974,-0.6402769031122137,-0.5334492430748985,-0.4048720408847759,1.664997820068911,-0.47152677779895463,-0.7329579790537071,0.7551367737261439,-0.33180593120059776,0.5274994278965397,0.07629665113416974,0.7656605332306925,0.49281259136171607,1.929608496246908,-0.11431932846979186,0.8249843118688536,1.0852294891232317,-0.9812659744984689,-0.5069760899221566,-0.23721835189806195,-0.6083370920731189,-0.454567789362523,0.35747431760915555,-0.43439580274318085,-0.20317113757259664,2.327016582090298,-0.3843730990941998,-0.7561559012936194,-1.804053792151077,-0.5954361309470879,0.18800541104558202,-0.5552362438441593,-1.0573765497637482,-1.2985175344159172,-0.8137321843714728,-0.8385141571683075,-0.20291444843101689,0.9000484001557529,-0.6680989322800608,-1.2903567592185734,0.990424588917707,-0.9549802060319654,0.21282697676452667,0.005991448665484348,0.13264942154585058,-0.2702965791684229,0.14589154909583749,-0.9503291142870484,-0.33820256738867843,0.4292750820368887,-1.1297227913426913,-0.46366881893317935,-1.430833570139843,0.34796225696047106,-1.7140160183855055,0.8498131934900374,-1.6250351701382404,0.04555270814571336,1.1262230313585262,0.14724764584430783,0.17256582305953277,-1.8506965965605842,-0.021320429611741368,-0.06496728996620763,-0.9053777954396125,-0.6010332011803535,0.004746231548087392,-0.8805249170765713,-0.42207024143614974,-1.1271032283082187,-0.6024255793726501,0.7121366854944359,-0.5505692545225488,-0.477586669643916,0.3990835263191377,1.6727970701480412,-0.28304272106620093,-0.08365131761866422,-0.5128557343995946,1.2109321713995524,0.23654954980012963,-2.1743005047935533,-0.8059405106268208,-0.24369519690725225,-0.06056527473027789,-2.286834274577598,0.9410346544673652,-1.5478370802840369,0.4301667493213091,0.5980167694964723,0.6712116399640173,-0.5490213545145435,-0.7864548083734566,0.12788807625496385,-1.018728669970721,1.2982960386828044,0.7166294994541228,-0.05926306456646179,-0.2640262609618462]</td></tr><tr><td>s3://cap9-fruits/img/Pineapple Mini/308_100.jpg</td><td>Pineapple Mini</td><td>[0.0,4.706838607788086,0.0,0.0,0.0,0.0,0.1820990890264511,0.0,0.0,0.0,0.012476201169192791,0.0,1.1102955341339111,0.16087092459201813,0.0,0.0,0.0,0.20254018902778625,0.0,0.30875176191329956,0.0,0.0,0.0,0.04003750532865524,0.0,0.0,0.14393527805805206,0.10974649339914322,0.46133095026016235,0.0,0.0,0.0,0.0041602193377912045,3.711733341217041,0.0,0.6533393859863281,0.2699502110481262,0.3556477427482605,0.05590667575597763,0.04469998925924301,0.022178027778863907,0.0,0.0,0.00924732256680727,0.3528747856616974,0.0,1.4071104526519775,0.738075852394104,0.8982599973678589,0.6865575313568115,0.055552754551172256,0.0,0.0,0.0,0.0,1.0090759992599487,0.0,0.0,0.22346730530261993,0.0,0.06038270518183708,0.6819618940353394,0.08299461752176285,0.7701646685600281,1.5035709142684937,0.0,0.024151014164090157,4.061776853632182E-4,0.023339904844760895,0.07225742936134338,0.0,2.3891451358795166,0.0,2.0222928524017334,1.0362766981124878,1.967919945716858,0.3282186985015869,0.0,0.0,0.0,0.0,0.006651946343481541,0.0,0.12943501770496368,0.24394848942756653,0.0,0.0,0.0,0.009162036702036858,1.9901291131973267,0.0,0.45360067486763,0.5893039107322693,0.15679992735385895,2.01961088180542,0.0,0.0,0.0,0.0,0.025263650342822075,0.9584534168243408,0.40442389249801636,0.0,0.0,0.5493542551994324,0.0,0.7901371717453003,1.5424580574035645,0.0,0.0,0.0,0.0037472296971827745,0.9269813895225525,1.3618117570877075,0.18109130859375,0.0,1.1144819259643555,0.03543560951948166,0.15580396354198456,0.5390180349349976,0.0036061443388462067,0.0,0.061508744955062866,0.0601116381585598,0.0,0.0,0.01010279729962349,1.6550357341766357,0.6554641723632812,0.04102662205696106,0.2962459921836853,0.0,1.5229753255844116,0.0,0.3853921592235565,0.0,0.0,0.0,1.2524296045303345,0.026713896542787552,0.0,0.004469297360628843,0.0,0.21380755305290222,0.0,0.4542820155620575,0.13342466950416565,0.0,0.0442495234310627,0.0,0.0,0.041801560670137405,2.380211114883423,0.0,0.21270175278186798,1.4572927951812744,0.09679457545280457,0.05490619316697121,3.4137768745422363,0.13441449403762817,0.0,2.0130832195281982,0.0,0.0,0.43768298625946045,0.5581650733947754,0.0,1.7366622686386108,0.0,0.0,0.0,0.0,1.323384165763855,0.0,0.0,0.05219504237174988,0.9517509937286377,0.0,0.0,0.012655316852033138,0.0,0.0,1.6958962678909302,0.7122357487678528,0.6049371957778931,0.0067885261960327625,0.03106541559100151,2.486701250076294,0.0,0.0,0.0,0.004223502241075039,0.0,0.0,0.10775528103113174,0.0,0.0,0.0,0.0,2.3039987087249756,0.13482512533664703,0.2241402417421341,0.04544952139258385,0.0,0.0,0.0,0.0,0.0,0.0,0.00459636002779007,0.0,0.0,0.013149679638445377,0.1012674942612648,0.0,0.15471047163009644,0.2994897663593292,0.0,1.1073167324066162,0.0,0.08049951493740082,0.0,0.20851098001003265,0.13511811196804047,0.17138352990150452,0.0,2.9884133338928223,0.017247550189495087,0.6875845193862915,0.47129684686660767,2.2167203426361084,0.0,0.0,0.13892821967601776,0.0,0.0,2.8375461101531982,7.637277012690902E-4,0.0,0.057866018265485764,0.0,1.7570692300796509,0.0,0.5522990226745605,0.0,0.03570336848497391,1.9231191873550415,0.0,0.0,0.0,0.07148497551679611,0.0,0.07238887995481491,2.2840945720672607,0.507014274597168,0.9899482131004333,0.0,0.0018651436548680067,2.0280215740203857,0.20925825834274292,0.0,0.0773262232542038,0.0,0.1120738610625267,0.0,0.0,0.0,0.0,0.0,0.0,0.0,0.04819822311401367,1.2065565586090088,0.12033288180828094,0.052629295736551285,0.0,3.121295213699341,0.05178917571902275,0.34921878576278687,0.14511798322200775,0.8250036239624023,0.0,0.07239677757024765,0.0,0.0,0.06976030021905899,0.0,1.5787770748138428,0.0,0.07803741842508316,0.2176179438829422,0.13168159127235413,0.0,0.06765452027320862,0.03553714603185654,0.887193500995636,0.0,0.0,0.009812724776566029,0.011266426183283329,0.0,0.09059489518404007,0.0,0.20383112132549286,0.5010156631469727,0.0,0.0,0.0,1.2220412492752075,0.3325314521789551,0.2035433053970337,0.0,0.028051871806383133,0.4247419536113739,0.0,0.0,0.0,0.0,0.0,0.0,0.0,1.0458811521530151,0.07036978751420975,0.04291689023375511,0.0,0.2542765736579895,0.0,0.0,0.18320810794830322,1.0483531951904297,0.0,0.04678134620189667,0.06344220787286758,0.5128167271614075,0.0,2.1912126541137695,0.02631540596485138,0.0,0.0,0.0,0.8006171584129333,0.0,4.387916564941406,2.072763442993164,0.11874140799045563,0.5627529621124268,0.0,0.0,0.2251233458518982,0.0,0.0,0.09017550200223923,0.0,0.7445580363273621,0.0,0.0,0.273419588804245,0.0,0.03466260805726051,0.0,0.006166857201606035,0.0,0.08155915886163712,1.0316760540008545,0.019886532798409462,0.08101609349250793,0.0,0.008884653449058533,0.5562678575515747,0.0,0.0,0.0,0.0,0.7574312090873718,0.050379034131765366,0.5330460667610168,0.006356209982186556,3.0928213596343994,0.0,0.0,0.0,0.0,0.5095084309577942,0.0,0.0225930605083704,0.0,0.01547553576529026,0.0,0.0,0.0,0.9820950031280518,0.00397691922262311,0.0,0.08944988995790482,0.0,0.3597848415374756,0.0019929944537580013,0.11920005083084106,0.0,0.028476696461439133,0.0,0.004390629008412361,0.0,1.711618185043335,0.0,0.45518773794174194,0.0,0.0,0.9656956195831299,0.0,0.0,0.04130006209015846,0.4461643099784851,0.8878562450408936,0.0,0.0,0.36014431715011597,0.4786870777606964,0.5154901742935181,0.11658771336078644,0.0,3.4649524688720703,0.07480097562074661,0.10844601690769196,0.0,0.18434567749500275,0.7951999306678772,0.0,0.0,0.38279271125793457,0.3737027645111084,0.0,0.0,0.0,0.0,1.6581981182098389,0.33665987849235535,0.060938961803913116,0.0,1.8748040199279785,0.2841218411922455,0.6500830054283142,1.2881535291671753,0.7092635631561279,0.0,1.812522053718567,0.0,0.022462738677859306,0.0,0.0,0.0,0.6274735331535339,0.0,0.0,0.0,0.04064904525876045,0.25715234875679016,0.0,0.01183298695832491,0.3678467869758606,2.068983793258667,0.0,0.02079039253294468,1.7328994274139404,0.4408411979675293,0.3397309482097626,0.019386962056159973,0.0,0.01749083399772644,1.2126145362854004,0.18640287220478058,0.0,0.0,4.223215103149414,0.0,0.0,3.2600913047790527,0.0,0.11498339474201202,0.48857253789901733,0.0,0.013997876085340977,0.0,0.0,0.14436176419258118,0.0,0.7599965333938599,0.28329452872276306,0.40675267577171326,0.994085967540741,0.0,2.518381515983492E-4,0.0,0.25526630878448486,1.2942503690719604,0.0,2.0458829402923584,0.05943871662020683,0.0,0.0012216762406751513,0.09135334193706512,0.8111991882324219,0.011358659714460373,0.0,0.0,0.0,0.0,0.0,0.0,0.019572803750634193,0.028409695252776146,0.9984934329986572,0.07363484799861908,0.13971470296382904,0.2852708697319031,0.04515361785888672,0.0,0.0,0.013097967021167278,1.0780456066131592,0.00756632536649704,0.05245247483253479,0.0,0.057124048471450806,0.0,0.0,0.16898289322853088,0.218785360455513,0.16204214096069336,0.0,0.18097157776355743,0.0,0.03208503872156143,0.08753866702318192,0.2828110456466675,0.0,0.0,0.12420885264873505,0.04541723057627678,0.0,0.0,0.0,0.019524281844496727,0.0,0.6589282155036926,1.477885365486145,0.0,0.0,0.5653168559074402,0.0,0.16854561865329742,0.017919180914759636,0.0,1.2057944536209106,0.0,0.7977869510650635,1.3067994117736816,0.0,0.01778220199048519,0.44925105571746826,0.12652389705181122,0.0,0.09686438739299774,0.026998665183782578,0.22030752897262573,0.24290554225444794,0.12271439284086227,0.17294776439666748,0.22187983989715576,0.0,0.3277047872543335,3.9637672901153564,0.0,0.0,0.3461591899394989,0.05049639195203781,0.0,0.01518918015062809,0.0035273591056466103,0.4925871789455414,0.15051673352718353,0.0,0.0,0.0,0.0,0.042876165360212326,0.0,0.0,0.6633715629577637,0.03144209831953049,0.0,0.0,2.888963460922241,0.2665499448776245,0.0,0.0,0.0,0.0,0.06420520693063736,0.8898142576217651,0.0,3.266925811767578,0.9283356070518494,0.0,0.0,0.0,0.6122706532478333,0.4957437813282013,0.0,0.482541024684906,0.34886255860328674,0.4881272315979004,0.0,0.0,0.22467675805091858,0.0,0.6137205362319946,0.12745384871959686,0.0,0.0,0.0,0.10099799931049347,1.0231151580810547,0.0,0.37981104850769043,0.0,0.0,0.0,0.0,0.0,2.480571985244751,0.03819381818175316,0.0,0.0,0.0,0.0,1.3357385396957397,2.3145010471343994,0.06233958899974823,0.0,0.0,0.1721487194299698,0.011126946657896042,0.03362501785159111,0.0,0.0,0.0,0.35019928216934204,0.0,0.0,0.017936287447810173,0.0,0.0,0.0,0.10258335620164871,0.0,0.0,0.0,0.0362980030477047,0.09905441105365753,0.03452348709106445,0.0770673155784607,0.0,0.05541820824146271,0.0,0.0,0.0,0.0257884431630373,0.0,0.0,0.0,0.0,3.4276492595672607,0.0,0.0,3.924197196960449,0.0,0.005318019073456526,0.0,0.0,0.0,0.0,0.13633878529071808,0.012121862731873989,0.0,0.0,0.2844916582107544,0.16521872580051422,0.11056511104106903,0.0,0.0,0.0,0.0,0.0,0.0,0.07005831599235535,0.08709985017776489,0.012617616914212704,0.016973350197076797,0.15134036540985107,0.0,0.0,0.0,0.0,0.0,0.0,0.0,0.0,0.01896018348634243,0.6950291395187378,0.4224492013454437,0.9050548076629639,0.31807824969291687,0.054702963680028915,1.9929591417312622,0.6321277022361755,0.382857084274292,0.0,0.00469619408249855,1.6905442476272583,0.20730017125606537,0.014625510200858116,0.0,1.1803960800170898,0.0,1.7077317237854004,0.0065934122540056705,0.08421143889427185,0.1556592583656311,0.0,0.0,0.15528790652751923,0.18143482506275177,0.0,0.0755743458867073,0.27614709734916687,1.140108346939087,0.0,0.01804368384182453,0.0,0.004128718748688698,0.15904490649700165,0.0,1.546286702156067,0.1510799080133438,0.023587888106703758,0.0,0.0,0.0,0.0,0.0,0.0,0.0,1.7558702230453491,0.0,0.2881554067134857,0.02896585315465927,0.033096566796302795,0.6845732927322388,0.0,1.8942902088165283,0.003783352440223098,0.4802475869655609,0.0,0.0,0.0,0.31539469957351685,0.6203934550285339,0.0,0.0,1.9779521226882935,0.013379476964473724,0.036225609481334686,0.18015937507152557,0.08359930664300919,0.0,0.5446904301643372,0.0,0.0,0.0012805802980437875,0.0,0.0,0.0,0.5994550585746765,0.214045912027359,0.0,0.013365920633077621,0.04384678229689598,0.0,0.0,0.0,0.0,0.8042501211166382,0.0,0.9344696402549744,0.0,0.0,0.0,0.0,0.2874366343021393,0.45581966638565063,0.0,0.0,0.0,2.1141183376312256,0.0,0.0,0.0,0.0,0.0,1.0138667821884155,0.0,0.0,0.0,2.8735129833221436,0.04727870598435402,0.02962591126561165,0.0,0.0,0.6241551637649536,2.2544150352478027,0.0023080864921212196,0.0,0.0,0.846067488193512,0.0,0.0,0.45563414692878723,0.1013270691037178,0.032572560012340546,0.3109230697154999,0.004096225835382938,0.029395638033747673,0.0,0.19836612045764923,0.0885956808924675,3.237915277481079,0.3322880268096924,0.0,0.0,0.0,1.320509910583496,0.0,0.005823524668812752,0.0,1.9526489973068237,0.9696398377418518,0.0,0.8448696732521057,0.002313438802957535,0.019245566800236702,2.7426023483276367,0.0,3.033825397491455,1.0444566011428833,0.0,0.9070400595664978,0.0,0.0,0.0,0.0,0.0,0.0,0.0,0.020149191841483116,0.0,0.0,0.3335435390472412,0.0,0.0,0.0,1.6602609157562256,0.03214990720152855,0.0,0.41381704807281494,0.015029342845082283,0.0,0.0945884957909584,0.11233533173799515,0.6591496467590332,0.0015018716221675277,0.05798233672976494,0.05456334725022316,0.0,0.0,1.1146485805511475,0.0,0.2200411558151245,0.08427823334932327,0.5508365035057068,0.0,0.2094058394432068,0.0,0.7290581464767456,0.0,0.7135862112045288,0.0,1.021060585975647,0.0,1.8246591091156006,0.0,0.0,1.0008701086044312,0.0,0.2754734456539154,0.45556318759918213,0.0,0.0,0.0,0.0,0.18102043867111206,0.18776045739650726,0.0,0.23074457049369812,0.4404340386390686,0.0,0.04571615904569626,0.04287632182240486,0.0,0.0269045140594244,0.014010964892804623,2.6421141624450684,0.11306286603212357,0.0,0.0,0.028400586917996407,0.48603424429893494,0.2612708806991577,0.012458061799407005,0.0,0.004741834010928869,0.0,0.0,3.137944459915161,0.018740400671958923,0.0,0.5983501076698303,0.534624457359314,0.0,1.0494084358215332,0.0,0.004841191228479147,0.0,0.6542755961418152,0.10483035445213318,0.0,0.19538524746894836,0.13595688343048096,0.0,0.0,2.2148399353027344,0.2501750588417053,0.0,0.003596072318032384,0.700677216053009,0.0,0.14404182136058807,0.0,0.0,0.0,0.6492776870727539,0.006744248326867819,0.015012896619737148,0.02866557240486145,0.43678757548332214,0.7010536193847656,0.0,0.5112636089324951,8.090369519777596E-4,2.6885221004486084,1.1324795484542847,0.1140519380569458,0.5166822075843811,4.899393081665039,0.04603974521160126,0.0,0.0,0.47018229961395264,0.0,0.0,0.1805289089679718,1.5311059951782227,0.41937196254730225,0.01905139535665512,0.0,0.0,0.0,0.01761266216635704,0.0,0.013469044119119644,0.6622152328491211,0.0,0.12359517067670822,0.012725664302706718,0.11717304587364197,0.0,0.014150531962513924,0.0,0.0,0.0,1.1807754039764404,0.10925456136465073,1.742293119430542,0.0,0.0,0.0,0.02232387103140354,2.2198946475982666,0.0,0.1505981683731079,0.07120141386985779,0.0,0.011732383631169796,0.0,0.0,0.38861045241355896,0.36797598004341125,0.0,0.34776484966278076,0.0,0.040433697402477264,0.34569883346557617,0.0,0.0,0.052043184638023376,0.0,0.5725037455558777,0.0,0.08485057204961777,0.0,0.0,0.0,0.9306257367134094,0.0,1.0067805051803589,0.0780220702290535,0.24613603949546814,0.0,0.0,0.28451788425445557,0.5620123744010925,0.0,0.12953655421733856,0.1656690537929535,0.5536012649536133,0.1883203089237213,0.0,0.4128447473049164,0.2761007845401764,3.8739612102508545,0.04737706109881401,0.0,0.0,0.0,0.14977367222309113,0.0,0.02743590623140335,0.09843622893095016,0.03422040492296219,0.25479739904403687,1.4386272430419922,0.03732132539153099,0.0,0.015003866516053677,0.17748205363750458,0.0,1.4082043170928955,0.015352249145507812,0.0,0.0,0.16184939444065094,0.13493803143501282,0.0,0.0,0.05840831995010376,0.0,0.0,0.1264316439628601,0.06915728002786636,1.4702248573303223,0.15988552570343018,0.0,0.0,0.0,2.970217704772949,0.0798015296459198,0.5271797180175781,0.007680932059884071,0.0,0.0,0.0,0.03823439031839371,0.48015323281288147,0.5772894024848938,0.0,0.0,0.016204776242375374,0.0,0.2606429159641266,0.02609867975115776,0.09742514789104462,0.6493818163871765,0.24392378330230713,0.9218592643737793,0.3661118745803833,0.0,0.08376684039831161,0.139520525932312,0.0,0.0,0.0,0.0,0.166757270693779,0.0,0.0,0.0,0.0,0.0,0.021086828783154488,0.0,0.0,0.32716983556747437,0.45321154594421387,0.0,0.0,0.12516643106937408,1.1175309419631958,0.0,0.1805502027273178,0.009160109795629978,0.0,0.04097845032811165,0.7741814255714417,0.0,1.7339999675750732,0.0,1.7579357624053955,3.2723400592803955,0.0,1.6862152814865112,0.0,0.0014629558427259326,0.16683782637119293,0.14880406856536865,0.0,0.0,0.0,0.0,0.0,0.0,0.11658453196287155,0.0,1.0098941326141357,0.30066460371017456,1.3733805418014526,0.0,2.1872830390930176,0.0,0.0,0.0,0.04317046329379082,0.001050647464580834,0.37556394934654236,0.0,0.0,0.0,0.0,0.0,0.5470791459083557,0.0,0.05155894160270691,0.0,0.41361257433891296,0.007766431663185358,0.0,0.0,0.0,0.0,0.0,0.1412467211484909,0.18411488831043243,0.014263746328651905,0.03641912713646889,0.024185005575418472,0.4694673717021942,0.0,0.012179316021502018,0.0,0.0,0.33675485849380493,0.512773871421814,0.0,0.7507160902023315,0.17832674086093903,0.0451105572283268,0.16107666492462158,0.0,0.0,0.18477866053581238,0.0,0.9271454811096191,1.0087945461273193,1.6758147478103638,1.8404622077941895,0.032091110944747925,0.6292828321456909,0.0,3.5341978073120117,0.1326880007982254,0.1618957370519638,1.5715404748916626,0.0,0.0,0.0,0.0,0.0,0.005755249410867691,0.0,0.09369032084941864,0.00903463363647461,0.0,0.2558833062648773,0.0,0.0694228783249855,0.2932478189468384,0.0,1.2382222414016724,0.0,0.018772194162011147,0.028223134577274323,0.13122476637363434,0.0,0.0,0.0,0.0,0.7723619341850281,0.0,1.0445135831832886,0.0,0.003462139517068863,1.2850651741027832,0.0,0.014650062657892704,0.1510130614042282,0.5870618224143982,0.0,0.605822741985321,0.0406593382358551,1.3273839950561523,0.0,0.3586898446083069,0.0,0.0,0.6330761909484863,0.03156181424856186,0.04044787585735321,0.15351542830467224,0.0021115809213370085,0.0,0.011678929440677166,0.0,0.8118865489959717,0.1614973098039627,0.0019623017869889736,0.09407360851764679,0.033751197159290314,0.0,0.0,0.0,0.8135497570037842,0.0,0.0,0.6562726497650146,0.6080490946769714,0.2932193875312805,0.0,0.0,0.17753103375434875,0.009988200850784779,0.31544962525367737]</td><td>[-13.559207785885931,5.950375247650852,2.600703543052925,-15.268072816413303,-12.85104549031233,-2.1399181920960566,-3.961104615859072,10.262334740455566,-5.892220419164207,7.030283542383281,-8.980617874340904,-5.877481190481128,-5.971018402252254,-9.879937616045208,1.6005116841745883,-4.291551586888347,0.012301295194451627,1.3744993464111923,4.935745527423332,2.404263307161111,3.012996871397605,-1.7325059902983244,-1.73237334891881,-10.012811024864773,-2.7609067435012142,1.001150043366064,1.1923331393805914,1.5990601119224992,2.0206408560726183,0.4630177510082592,0.0016660974438079887,1.516343086629343,-0.9489614011019056,1.502140659835394,8.36412017064474,1.5887887826124778,4.472155254637737,0.375697592342252,2.580550983430927,4.1246455197648775,6.310877362560149,-2.0249621577957595,-1.595568972408066,3.9349672534481743,5.943303330165818,-0.04917329024909958,0.2146882169833689,-3.5881831075099693,-1.3621630606533472,-2.887091514745954,-3.0524657962735033,-2.2165322886757743,1.1907536871387399,0.9395276175338398,1.938170356764743,1.2593519349039635,0.10533061999282889,0.21729064382342228,3.559620533598976,2.705300341908794,2.852604961280469,3.2472457308611484,-5.330978652028273,0.5982678171610871,-2.3060294086827158,0.5983031862603142,-1.301745460667318,0.1813982040040555,-1.4109868840390194,4.26610061105834,-1.2800966769410091,0.5033903265647787,-4.957550708310959,1.503547122457799,-1.479695633695061,-2.9698934755550788,-2.8904450152186474,-0.21521753676489536,1.2184766552821118,4.014282785125101,-0.3647933045233409,-0.8293538475115201,-0.26451414055692973,2.4403534274684353,1.8082166088806673,-1.8089085248580956,-0.5278435917316701,3.9259069493794794,-0.28276412227012876,1.2922477279653166,0.057440818202337235,-1.0506962197460368,-1.287624846906297,2.030993797281324,-2.859320561054555,2.189653169897948,1.3786585687927275,0.6727694080575818,-0.2775020093769272,-3.917172534324175,3.923899901870358,1.4546414021040859,-0.9799426429360519,-2.4891323026950345,1.9126076745500813,0.31234390136373297,0.26710510197343207,0.28244495785944074,0.6700957417030584,3.699353937310809,-1.2895319294098913,0.8576875662921114,0.7289364907314942,2.05192845021282,-0.793415438742366,-5.820382150499146,1.8824850948703844,0.28541578892930336,-1.0943461121892353,0.15885580614291192,1.9912329694817335,2.718790857899031,-0.677680002547574,0.007028105222405415,-0.8726413063186066,0.259722882422956,0.6567881684333627,-2.989042101446623,-1.0685310844101243,1.0541354407518473,0.1416062234665145,0.22776998891784597,1.263622930265304,0.8890084490497095,-2.248830631937008,1.1259914674215448,1.4201162780653478,-1.1793798494415384,-2.1680649714063325,-2.016740227025144,0.5446731282699011,0.6437998372496491,-0.29092032524037675,-0.23931002298947868,-1.6241395678339852,1.0120550114147981,0.9900021463694331,-1.7758954197330685,-1.1437991603662345,1.708773183061056,-0.48087602787337547,0.9289372349257633,0.6205599907072239,0.39392542163141553,1.6725293528218224,-1.5741069246598285,-0.43794446514141894,-1.5104814012900292,0.2011428223400117,1.458267736944536,1.3835068048938761,0.9455080893088192,-0.17203872191339406,-0.28993333759364986,-0.6867588955349342,0.19941002471244348,-0.6202390405063151,-0.6298962708755521,1.0198267504892027,1.4184345560328604,-2.097226477230364,-1.7169891783363025,-1.5430549410710506,2.022590789002934,1.736502703558223,-1.6947854382265022,0.6368561942205702,3.24483641893587,0.36345006185816614,1.5856934332645536,-0.8991896739870376,-0.11583171428436528,-1.4230531486213778,1.6314757307784418,1.2697950474445325,1.2325255061730673,0.8546633683082139,-0.35279582924544206,-0.01868978135485338,1.5331481038425652,-0.4185854917773683,-1.74083940102043,-0.425254316622298,-0.4361296130463981,0.7254045248332508,-1.7212878153979683,1.4604866718276315,-0.5781885442911895,-0.5410972634545144,0.06465813442428907,0.9010435186560117,-1.1859570959916879,-0.4968366450822245,1.1649482842728947,0.9213790700580688,0.32175028773454406,3.2038565298198227,-1.2071299196709877,0.5867063071634165,0.19485560939092775,-0.6845750204056302,-0.48064847600303806,0.7092226244077581,-0.49501885129055107,1.317764825325694,0.12079962888293001,1.8987828255916857,1.3371802899365026,0.7018608465799965,-0.5291192473878794,-0.1072793639599061,1.4660952105505436,0.156465646756339,0.005555803316704635,1.010425922576288,-0.2464034793419202,-0.12919481206895864,-1.0706730383903769,-0.8367577071247823,-0.104669028716774,1.7029112345924788,-0.08908605736162574,0.8688748153240444,0.27925941587140835,2.0385657098009986,-0.5850508156031237,0.3666955898242559,0.2609132747547127,1.3420419281971663,-1.1307557245732205,0.4978460894796317,-0.9073766051610854,-1.3277461828131008,-0.19763936951968986,0.7437452005458928,-2.5933896464996504,0.31533670800133157,-0.4505372094511544,-0.5601587545336795,1.1056698225872275,1.0545704468843378,0.22672103205895017,0.842763438376393,0.8678037198624214,-0.41647769535965723,-0.05750927615461702,0.4340529790435371,0.9614202681715032,1.0965104768846903,-0.48981866545520386,0.409809441529694,0.09694091144761133,0.6954403985972214,-0.14380663114332956,-0.15658552948411167,-0.9003565518366601,-0.3174296601811966,-0.4892819347659991,-0.5042461943828337,1.0671227290543241,0.4296358541020704,0.2855735551598511,-0.6706858348800417,0.08703283528407608,0.12407184290942117,-0.30315738400483605,0.847808895673191,0.2415905573861998,1.3298807608313177,-0.7873956226368773,0.6621511613333767,1.1870249949039149,-0.26014367410322237,0.6205345883808613,-0.42106411257546567,0.8684250387167202,-0.9187279307797309,-0.5269966511315648,-0.531645036755051,-0.22068662450895934,-0.09782241396671058,-0.8233377128090028,0.10203186572639479,0.9145527817564398,0.401633806503797,-0.2206354702592795,1.1307449167545243,0.22829270915025268,-0.19662129636583217,0.8172873485031283,-1.1840679261833003,0.0017471279706689274,-0.5430670690813705,0.0801372636269511,0.43759619859311,-0.6654691641480086,0.8427869652885636,-0.452340819758679,-0.29322274030981194,-1.004239901852472,0.38907700740534856,-0.31809595526741674,-0.1483392223215769,-0.7106184291804866,-0.49585816468861665,1.1406842820103533,-0.6951342056655706,-0.869116862391625,0.447635439534812,-1.1030313088728958,0.3159635069481087,0.33916895739574554,-0.8095980389829233,0.3073623357815391,0.663938862939976,-0.9896831582911136,-0.9436824698182181,-0.2674738909101772,0.4482212532591764,0.49395107996943816,0.16233025001001605,0.7947361893450191,-0.45296536150115574,0.08371403042019156,-0.45328403796622235,-0.16938275503267605,0.12401364960312003,0.2717651184986443,-0.7669342660084264,1.693112211091781,0.5706319480071482,-1.1693731304900283]</td></tr><tr><td>s3://cap9-fruits/img/Watermelon/266_100.jpg</td><td>Watermelon</td><td>[0.02070634253323078,0.22066470980644226,0.0,0.0,2.175520896911621,0.21194717288017273,1.5845773220062256,0.0,0.0,0.0,0.3518024682998657,0.8695034980773926,0.0,1.810586929321289,0.0,0.6671355962753296,0.0,0.0,0.7581232786178589,0.32793307304382324,0.0,0.0,0.0,0.0,0.1642647236585617,0.4364466071128845,0.013170933350920677,0.0,0.0,1.5433357954025269,0.011175068095326424,0.0,0.0473957434296608,0.24517595767974854,0.31789180636405945,0.4262244701385498,0.47912904620170593,0.40932896733283997,0.7753275632858276,0.0,0.0,0.0,1.910427451133728,0.0,0.021207867190241814,0.0,0.7392563819885254,0.29148322343826294,1.283389687538147,0.018311431631445885,0.0,0.7392822504043579,0.007811303250491619,0.05742578208446503,0.1287347376346588,0.483562171459198,0.014188075438141823,1.4870611429214478,0.1828443557024002,0.07454204559326172,1.9747964143753052,0.8128389120101929,0.01803671568632126,0.0,2.3592782020568848,2.1326353549957275,2.285947322845459,0.2028428614139557,0.10020396113395691,0.0,0.0,0.18331602215766907,0.020584233105182648,0.9021684527397156,0.21150989830493927,0.45090025663375854,0.11648917943239212,1.1343412399291992,0.014546696096658707,0.03989037871360779,0.0,0.3794856071472168,0.0,0.02086702734231949,0.07321195304393768,0.0,0.14210160076618195,0.17929759621620178,0.6224335432052612,1.6454641819000244,1.4287707805633545,0.03268292546272278,0.7954651713371277,0.0,1.7687805891036987,0.0412539541721344,0.0,0.017555158585309982,0.9392239451408386,0.0,0.04912405461072922,0.02015586756169796,0.0,0.0,0.2908973693847656,0.0,0.0,2.2632904052734375,0.0,0.5281727313995361,0.03571812063455582,0.0,0.0,0.7542866468429565,0.0,0.08120018243789673,1.1063390970230103,0.0,0.01988615281879902,0.015974434092640877,0.13491851091384888,0.0,0.0,0.5600705146789551,0.01067445706576109,0.6442010402679443,1.9066162109375,1.5639679431915283,1.6489012241363525,0.22460563480854034,0.04278641194105148,0.9782087206840515,1.0941364765167236,0.0,0.5182467699050903,0.0,0.0,0.0,0.31383955478668213,0.3372821807861328,0.0,0.0,0.04073523357510567,0.0149443494156003,0.0,0.07121121883392334,1.0756261348724365,1.0718544721603394,0.1509064882993698,0.25516289472579956,0.0,0.0,0.0,0.0,0.0,1.0696778297424316,0.025805190205574036,0.0,0.8059412837028503,0.036676835268735886,0.0050438763573765755,0.0,0.01834900490939617,0.29756999015808105,1.490350365638733,2.3730175495147705,1.6328502893447876,0.3765430450439453,2.3590192794799805,1.6319752931594849,0.0031213564798235893,0.0,0.15144315361976624,0.0,0.0,0.0605224184691906,0.43742284178733826,0.0858263298869133,0.030609354376792908,0.0,2.520124673843384,0.0,1.0047965049743652,0.0,0.23642107844352722,0.36077040433883667,0.49864959716796875,0.16987302899360657,0.0,0.0,0.1768798828125,0.2237817943096161,1.501191258430481,1.564821481704712,0.17061640322208405,0.0,0.0,0.0,0.004392614122480154,0.25781917572021484,0.48884937167167664,0.0,1.3129564467817545E-4,0.06944764405488968,1.7882918119430542,0.0,0.0,0.08803825080394745,0.18096600472927094,0.20619703829288483,0.0,0.0,0.10551562905311584,0.10871553421020508,0.7597009539604187,0.8721943497657776,0.02865462377667427,0.0,0.054532479494810104,0.0,0.5252813100814819,0.0,0.357161283493042,0.0,0.17868994176387787,0.03167465701699257,0.4717741310596466,0.0,0.7668868899345398,0.1378713697195053,1.4493157863616943,0.12701332569122314,0.17277532815933228,0.11973793804645538,0.33627843856811523,0.5697970986366272,0.0,0.0,0.0,1.246552586555481,1.8196539878845215,0.0,0.0,0.008841310627758503,0.27714210748672485,0.005235866643488407,1.3994516134262085,0.4366835057735443,1.2074044942855835,0.41132694482803345,0.44498440623283386,0.34571364521980286,1.7609094381332397,0.0,0.8563258647918701,2.2322845458984375,2.4203860759735107,0.2481587529182434,0.0,0.32252880930900574,0.0,2.699773073196411,0.04747061803936958,0.8432983160018921,0.09933923929929733,0.7029259204864502,0.0,0.0,0.03520194813609123,0.10303080081939697,0.003183588618412614,0.0,2.902939796447754,0.3036457300186157,0.14995095133781433,0.25864675641059875,8.205880876630545E-4,0.049794986844062805,0.19045759737491608,0.38256946206092834,1.270490050315857,0.0,0.276598185300827,0.23828423023223877,2.0549445152282715,0.0,0.007858811877667904,0.03665905445814133,1.5545653104782104,0.14513294398784637,0.023873796686530113,0.5875664353370667,0.0,0.0,0.0,0.8819363117218018,0.2365083545446396,0.0043079121969640255,0.772239089012146,0.0,0.0,0.007694390136748552,0.5874854326248169,0.12251380831003189,0.4577941596508026,0.0,0.0,0.0,0.0,0.6865978837013245,0.24356873333454132,0.47392529249191284,0.5404096841812134,0.005556145682930946,1.097041130065918,0.0,0.0,0.0,0.0,0.0,0.022105654701590538,2.1385045051574707,1.2851649522781372,0.3999151587486267,0.0,0.0,0.0,0.0,0.0,0.21966144442558289,0.07434435188770294,0.0,2.0278327465057373,0.5490983724594116,0.0,1.3261382579803467,0.0,0.0,0.0705229789018631,0.5737940073013306,0.41351547837257385,0.0,0.5941783785820007,0.0,0.010948793962597847,0.12034644931554794,0.4389817714691162,0.0,0.0,0.0,0.03452150151133537,0.0842624083161354,0.0,1.616806149482727,0.0,0.13247434794902802,0.0,0.24283702671527863,0.5854969620704651,1.0903244018554688,0.031013108789920807,0.4436170756816864,0.54667067527771,0.4008792042732239,0.0,0.08303727209568024,0.048988934606313705,0.0,0.0,0.11824537813663483,0.0,0.06657599657773972,0.24149730801582336,0.0,3.2636587619781494,0.0,0.03461284190416336,0.3974044919013977,0.08978001773357391,0.009936566464602947,0.0,1.1668039560317993,0.043499354273080826,0.0,0.0,0.0,1.3998032808303833,0.0,0.047791946679353714,0.3402135372161865,1.238328456878662,0.09606742113828659,0.0,0.0,0.0,0.01998346671462059,0.0,3.400043642614037E-4,0.1285284459590912,0.07409954071044922,0.6675896048545837,0.29045501351356506,0.0,0.0,0.0,0.47978296875953674,0.0,0.45893868803977966,0.029128922149538994,0.004264169838279486,2.275939702987671,3.596742630004883,0.0,1.8959629232995212E-4,0.0,0.024914011359214783,0.0962207093834877,2.2463483810424805,0.0,3.032924175262451,0.0,2.396655321121216,0.8292854428291321,0.2988164722919464,0.1922241449356079,0.03065311722457409,0.36197903752326965,0.2182319164276123,0.0,0.10741638392210007,0.07921653240919113,0.0,0.0,0.06350891292095184,0.0,0.016258375719189644,0.0,0.12582693994045258,0.0,0.0,0.0,0.13374808430671692,1.2902050018310547,2.2915358543395996,2.5746376514434814,0.4376770257949829,0.005274393130093813,0.0,0.0,0.0,0.0,1.5196268558502197,0.5873891711235046,0.005221921484917402,2.2639904022216797,0.05632651597261429,0.0,0.002857412677258253,0.0,0.0,0.7346775531768799,0.0,0.0,0.031154904514551163,0.7332895994186401,0.014741186983883381,2.0515356063842773,0.007681943941861391,2.5743234157562256,9.46356332860887E-4,0.3006907105445862,0.0,0.0,3.2327027320861816,0.056611500680446625,0.29259562492370605,0.1281963735818863,0.10860824584960938,0.0,3.324244976043701,0.0,0.17891058325767517,0.0,1.2007360458374023,0.899517834186554,0.06685411930084229,1.641718864440918,2.8880465030670166,0.09130191057920456,0.40917667746543884,1.4291008710861206,0.01816263049840927,0.0,3.0840649604797363,1.7121587991714478,0.07368423789739609,0.06611136347055435,0.24500134587287903,0.9378604292869568,0.0,0.0,0.1831621378660202,0.0,0.0,0.0,0.0,0.0,0.0,0.03885411098599434,0.24974144995212555,0.16653968393802643,0.5336458086967468,0.0,0.012958730570971966,0.05121520161628723,0.1265697330236435,0.0,2.2123298549558967E-4,0.16262367367744446,0.0,9.353404166176915E-4,0.10019420832395554,0.0,0.9859004020690918,0.0,0.0,0.07279330492019653,0.0,1.7387038469314575,0.25758668780326843,0.0,1.6899784803390503,0.0,0.017763886600732803,0.7262496948242188,1.6821173429489136,0.0,0.0,0.13931003212928772,0.021463677287101746,0.0,0.0,0.8714152574539185,0.0,0.2184029072523117,0.0,0.0,0.2794632911682129,0.5168414115905762,1.029775857925415,0.8903053402900696,0.0,0.0,0.0,0.20900680124759674,0.1388259083032608,0.5221650004386902,0.8105839490890503,1.7944839000701904,1.545240879058838,0.2347196489572525,0.0,3.0186500549316406,0.010213278234004974,0.3631639778614044,0.039875663816928864,0.0979645773768425,0.0,0.13443365693092346,0.0,0.1509893536567688,0.1565617471933365,0.0,0.12638573348522186,1.3846080303192139,0.02012580819427967,0.6420997977256775,1.3147975206375122,0.0,1.3988392353057861,0.10037460178136826,0.0,0.0,0.0,0.0035434644669294357,0.0,0.1033916249871254,0.010772403329610825,1.2086477279663086,0.7386749982833862,1.556233286857605,1.4039958715438843,0.1478765457868576,3.1748600006103516,0.07528635114431381,0.0,0.0,2.8682687282562256,0.3020545542240143,0.0,0.7848658561706543,0.0,0.08186697214841843,0.13721726834774017,0.0,0.0,0.006460763979703188,0.8486741781234741,0.0,1.0106534957885742,2.0293824672698975,0.007433326914906502,0.1749013066291809,0.0,2.2731943130493164,0.05899544060230255,1.708949327468872,1.7285352945327759,0.4383681118488312,0.0,0.0,3.106980323791504,0.6391547918319702,0.08584848046302795,0.40312665700912476,0.0,0.12009845674037933,0.0,0.03416462242603302,0.0,0.30549243092536926,0.232406347990036,0.7840303182601929,0.0,0.0,0.5581550598144531,0.07257938385009766,0.3715789318084717,1.2832609415054321,2.045539140701294,0.0,0.052521687000989914,3.0243990421295166,0.15225133299827576,0.0,1.058011531829834,0.0,0.025286324322223663,1.2539281845092773,0.0,0.31051886081695557,0.0,0.0,0.0,0.16036194562911987,5.257762386463583E-4,0.34411177039146423,0.28538978099823,0.0,0.0,0.5535122156143188,1.799778938293457,0.012033248320221901,0.0,0.11833470314741135,1.22611403465271,0.0,0.0,0.02990109659731388,1.269155502319336,1.063779354095459,0.0,2.576693058013916,1.3236596584320068,0.1910696178674698,0.05403163656592369,0.7020754218101501,0.1756310760974884,0.23577873408794403,0.0,0.06115754693746567,0.05952402949333191,0.0,0.3101418614387512,0.04419265314936638,0.3285442292690277,0.44104868173599243,0.06823641806840897,0.7051929831504822,1.2818447351455688,1.3473490476608276,0.0,0.0,0.0,2.2977497577667236,0.0,0.03315412625670433,0.25419074296951294,0.0,0.0,0.0,0.011728140525519848,0.5164742469787598,0.0,0.0,0.3688512444496155,1.7301280498504639,0.23199233412742615,0.0,0.0,0.0,0.7011703848838806,2.2301557064056396,0.056002430617809296,0.8500940203666687,1.2318390607833862,0.25821900367736816,0.08118890970945358,0.2732732594013214,0.25606268644332886,0.020722370594739914,0.04294624179601669,0.6502511501312256,0.014489270746707916,0.15899033844470978,1.1356271505355835,1.3985118865966797,0.017306698486208916,0.0,0.9043144583702087,0.0,1.8911020755767822,0.5717157125473022,0.0,0.04931757226586342,0.9776352643966675,1.0712065696716309,0.0,0.02420920692384243,0.0,3.324394702911377,0.04872039705514908,1.1393024921417236,0.6715535521507263,0.4675227999687195,0.2499706894159317,0.0015348026063293219,0.5073778033256531,0.04526904225349426,0.0,0.0,0.0,0.1874370574951172,0.7678682804107666,1.086403727531433,0.058673080056905746,2.5539119243621826,0.6727566123008728,1.3718233108520508,0.03223150596022606,0.0,0.0014148245099931955,1.4430180788040161,0.0,0.0,0.6899288892745972,0.27699193358421326,0.18977348506450653,0.052420392632484436,0.0,0.137405127286911,0.11631106585264206,0.0,0.1490742564201355,0.0,0.24108144640922546,1.2775282859802246,0.9586568474769592,0.22431381046772003,0.1964692622423172,0.7424166202545166,0.0,0.0,0.8751993179321289,0.06623350828886032,0.0,0.0,0.0,0.4336169362068176,0.1912291795015335,0.5161099433898926,1.9525521993637085,0.23437488079071045,0.3097090721130371,0.0012645332608371973,0.0290791355073452,0.0,0.006782492622733116,0.16838128864765167,0.13252489268779755,0.2986782491207123,0.012037452310323715,0.0,0.0,0.0,0.0579795241355896,0.0,0.0,0.0,0.04784723371267319,0.33837294578552246,0.07240927964448929,0.0,0.6746975779533386,0.0332440547645092,0.9516608715057373,0.001506182597950101,0.0,0.0,0.0,0.011046945117413998,0.04477634280920029,0.0,0.0,0.8283727169036865,1.3330315351486206,0.0,2.6596150398254395,0.5307124853134155,0.12516474723815918,0.42434313893318176,0.04812835156917572,0.01042245328426361,0.0,0.0,0.016153929755091667,0.14516772329807281,0.0,0.3798421025276184,0.0,0.0,0.1290329098701477,0.1491243690252304,1.994987964630127,1.0847609043121338,0.10683097690343857,0.015972672030329704,0.5022859573364258,0.09010165929794312,0.0,0.0,2.9206149578094482,0.0,0.07116767019033432,0.007747328840196133,0.0,2.9931392669677734,0.0,0.0,0.0,0.002474492881447077,0.023455776274204254,0.031037388369441032,0.0,0.0,0.0,0.0,0.04463693127036095,1.3487516641616821,0.16896378993988037,0.02551606297492981,0.07264605164527893,0.22660177946090698,0.08177226036787033,0.14858050644397736,0.0,0.0,0.0,0.0,0.345672607421875,0.0,0.0010260756826028228,0.7074341773986816,0.033694423735141754,0.07974320650100708,0.05333142355084419,0.9653623700141907,0.0,0.21929123997688293,0.007255709730088711,0.0,0.0,0.0,0.6103119850158691,0.0,0.00547178415581584,0.0,0.3512089252471924,0.0,0.04268365353345871,0.11054139584302902,0.6896743178367615,0.4121890962123871,0.0,0.7270655035972595,0.0,0.0,0.0,0.0,0.08156406879425049,0.0,0.0,0.0,0.4594547748565674,0.0,0.0,0.0,1.1769864559173584,0.0,0.0,0.0,0.37385597825050354,1.441853404045105,0.0,0.0,0.23207516968250275,0.5184358954429626,0.0,0.0,0.041177116334438324,0.0,0.020778276026248932,0.0,1.121120572090149,0.0,0.3990974426269531,1.5849738121032715,0.13535164296627045,0.02516655996441841,0.008373094722628593,0.0,0.46361494064331055,0.0,0.7334018349647522,0.10379192978143692,0.20067457854747772,3.7258636951446533,0.06738936901092529,0.3611988127231598,0.0,1.3425379991531372,0.3014344871044159,0.432494580745697,0.0,0.5112550854682922,1.6183055639266968,2.14874529838562,0.032709695398807526,0.11452469229698181,0.47794032096862793,0.009018674492835999,0.0,0.10437901318073273,0.0,0.8318448066711426,0.0,2.0687920914497226E-4,0.9657678604125977,0.0,0.0,0.0,1.5374634265899658,1.82860267162323,2.742873191833496,0.05922785401344299,0.0,0.3667013943195343,0.6383979320526123,0.15009351074695587,1.265755295753479,0.0,0.7574933171272278,2.169792652130127,0.031490325927734375,0.16678155958652496,0.003865037579089403,0.0,0.15997201204299927,0.0,0.0,0.0,0.7264012694358826,0.0,0.6268808841705322,0.0526927150785923,0.0,0.7292152047157288,0.6401365399360657,0.0,2.380094528198242,0.0,0.7296577095985413,0.39224398136138916,0.0,0.0,0.7689006328582764,0.26401039958000183,0.15013402700424194,0.0,0.5301143527030945,0.0,0.0758470743894577,0.0,0.6898472309112549,1.082337498664856,0.19032961130142212,1.2020890712738037,0.7363907098770142,0.694005012512207,0.0,0.4274156987667084,2.1646223068237305,0.04409277066588402,0.0,0.0,0.4061565697193146,0.7768969535827637,0.4871695637702942,0.462656170129776,0.10152307152748108,0.0,0.6424275040626526,2.019592523574829,1.195608377456665,1.3565016984939575,0.0,0.0,0.015950417146086693,0.45351120829582214,0.12226622551679611,1.4158855676651,0.0,0.28081032633781433,0.0,1.99033522605896,0.012577076442539692,0.0,1.244096040725708,3.0190605320967734E-4,1.531947374343872,0.011141805909574032,0.0,0.2260591983795166,0.8270917534828186,2.4876813888549805,0.030715027824044228,1.1314358711242676,2.6899404525756836,0.0,0.0,1.6984608173370361,0.0033043453004211187,0.5964856147766113,0.0,0.0,0.0,1.2667368650436401,0.16407430171966553,2.0334057807922363,0.3838605284690857,0.17513440549373627,1.12004554271698,0.0,1.3234045505523682,0.0,0.22039160132408142,0.0,1.2012242078781128,0.0200631283223629,0.006507552228868008,1.4246078729629517,0.6048139333724976,0.0,0.02072405256330967,0.5816743969917297,0.10080951452255249,0.0,0.031620562076568604,1.750796914100647,0.0,0.2147134244441986,1.375173568725586,0.24320466816425323,2.3231253623962402,0.0,0.0,0.0,0.3086560368537903,0.0,0.042338937520980835,0.012092269025743008,0.0,1.8702778816223145,1.364716649055481,0.0,0.0,0.006025791168212891,0.5095484256744385,0.0,0.018283046782016754,0.05432780832052231,0.0,0.021856307983398438,0.5159055590629578,0.3795703947544098,0.050078246742486954,0.01993435248732567,0.18511034548282623,1.879326343536377,0.0,0.0,0.0,1.2895320653915405,0.0,0.00665329908952117,0.5809012651443481,0.030335864052176476,0.3760787844657898,0.011460771784186363,1.788805603981018,0.9701072573661804,0.0,0.0,0.13375696539878845,1.7226762771606445,0.0,2.257814645767212,1.6197712421417236,0.0,0.02705499157309532,0.0,0.0,2.0468661785125732,0.6227146983146667,0.035508427768945694,0.9077295064926147,0.0,0.0,0.0,0.0,1.380928635597229,0.854254424571991,0.6510910391807556,0.05565797910094261,0.1346619427204132,2.2602081298828125E-4,1.7850788831710815,0.0,0.3730897605419159,0.21243694424629211,0.26689469814300537,0.13203896582126617,0.39287957549095154,0.0,0.2579069435596466,0.7740618586540222,0.0,0.0,0.019187266007065773,0.0,0.0,0.0,0.18849556148052216,0.0,0.0,0.06688331812620163,0.4093197286128998,1.2486763000488281,0.0,0.0,0.42223501205444336,0.6619843244552612,1.3050755262374878,0.0,0.5017882585525513,0.38627806305885315,0.005422650370746851,0.41945329308509827,0.25348788499832153,0.10844208300113678,0.014510874636471272,0.0,0.06405416876077652,1.3689078092575073,0.2636167109012604,1.7227035760879517,0.48783987760543823,0.6706699728965759,0.0,0.5405116081237793,0.37452569603919983,0.01792987436056137,1.3092942237854004,1.318764090538025,1.1853961944580078,0.0011986615136265755,0.0,0.06026133894920349,0.6367992758750916,0.37143412232398987,0.5157774686813354,0.00293627567589283,0.0,0.5998446941375732,0.03056376241147518,0.023908235132694244,0.0,0.3924962282180786,0.7794408202171326,1.4260568618774414,0.0,0.9315420389175415,0.2164430171251297,0.3699476420879364,0.08864167332649231,0.04424527287483215,0.3510341942310333,0.042117517441511154,0.8888992667198181,0.08401244133710861,0.29184451699256897,0.0,0.15337049961090088,0.4885663390159607,2.8289051055908203,0.20201191306114197,0.45081499218940735,0.0,0.0,0.06547088176012039,1.196711778640747,0.4469747841358185,0.7938913106918335,0.5505497455596924,0.01526959054172039,0.013891677372157574,0.0017526393057778478,0.10005412995815277,0.24654905498027802,0.0,0.008742468431591988,0.22280116379261017,0.1972508281469345,0.12734945118427277,0.05569063872098923,1.1872925758361816,0.013755341060459614,0.4191596508026123,0.0,0.24495521187782288,0.0,0.948686420917511,0.0,0.5517663359642029,0.30738064646720886,0.0,0.5609028339385986,0.0,0.05180170014500618,1.5306931734085083,0.2107996642589569,0.0,0.1975930631160736,0.06756538897752762,0.023960882797837257,0.06791406124830246,0.4628291726112366,0.03044465184211731,0.7818570733070374,0.07034294307231903]</td><td>[-8.370920765325288,6.972111413376043,-2.992988685755116,-2.2305036705835692,-0.6420097279347577,0.5659351758540544,-2.5726235292092445,1.6910247835648535,3.728470443805105,-6.064107706940026,-1.979802359919864,-3.769334308630116,15.21286643678693,4.676589925198569,7.979314602251365,-4.428917797907332,4.353937878151529,0.2980856185840096,-2.000149575513212,7.309369240450812,-7.4799912814860425,-4.140372604189217,11.808353677834926,12.981714324152865,0.11143110898754593,1.7194823139469768,3.5839680146633266,-9.291544366380826,0.09385677140556814,3.386842771529905,-0.9528439714082916,-1.6862822015437904,-1.9367466865277738,4.447743693842183,6.930235533746102,2.628177827100888,-6.968575311783097,-3.7023686223757406,-1.0646332148401192,5.394576489609953,-1.4437138903309403,-0.83233093271795,2.0797428240281275,-4.090957337013281,3.061670922842398,0.71707494546486,-7.54868225452175,4.190944871904853,7.058322692355614,-0.5422888182409896,-8.03355395395284,4.267225997999079,-1.9206413610326794,4.567402160262928,3.220608895120546,1.2137926473762624,5.851622398890912,-3.344265413997371,0.38047229418182876,0.3716390136915798,4.491346493270582,-1.5110737467119797,-1.5018234425709778,-0.7639056195046734,1.772887314541644,-0.6788137863854864,-3.220191114491052,3.329338295699807,-1.7801219055185766,4.286567436127419,1.5768095568274287,0.5955105530160876,1.6297413770612446,-2.8685839229099246,-1.9095086351313322,-0.9149038510576085,3.0437323251584583,-3.5839560844303615,0.036564179621583606,2.6802795927678544,0.16073534094233932,-2.2567934572124653,-2.6218492790411094,0.2898775761725801,-0.3693558283744436,-1.166419760784921,2.7237529412945003,-0.5637540688072289,0.8689702047484993,-0.1632032362268325,-1.3016293370753897,-0.10124891704861361,1.0356553360931424,-3.4490102731765666,-0.9296990307688042,-2.136400159346999,-0.2519726582675542,-2.0866882816743932,2.104119456608099,-2.107401422602813,0.520186110254877,2.5181208209600547,-0.2813233548898391,0.8765482637851204,-1.451428811950785,0.018508515736410453,-1.6708274830416032,0.9102033976482791,-1.6751156670068073,0.03697850068898013,-0.12294273046834102,0.8431061186708396,1.3114535120650026,-0.39340759909128353,-0.3702057453128963,1.5088072008974012,3.7777426009431423,-1.476958097358032,4.552705052849453,0.3717696455249663,0.13548799617832505,-1.4733753884353888,-1.1194017674049972,-0.4178516259734632,2.049310707032924,1.8241988276456387,0.2693798239491091,-0.2567480159948036,0.5209237567530247,1.399108176174705,-1.5899777531965145,-0.06632234566633297,0.8210996321133696,0.4217146915099508,0.35811496721723807,-0.020689626437500476,0.2976981491717666,0.9977123142742543,0.3299158786147546,0.06176184977519551,-0.6783176637025085,-1.3512846667858154,-0.8192227396070624,1.190569855943299,1.5442503769549931,-0.45574781535172004,1.3040003623694894,-1.9233143561049693,0.26133576136188835,0.3114450379175509,-0.045634119679467865,-1.0841060782438279,-0.28985408741345514,-0.15415541685091103,-1.5438756227733887,-0.2714629968275248,-0.6953744914386844,-0.36659280364514385,1.569204327545541,0.551865876474017,0.6270623094887083,0.4392838838242642,0.012817980770831254,-0.9447099249226163,1.2256954585000128,0.39258714950641027,0.5903515515927343,-0.10377109631613819,-1.3962044949896018,-0.18574997808246727,-0.13057021414363498,0.10554625129755628,-0.5706992796914195,0.021801081104139152,-0.22468808700888987,0.8400363425607799,0.26330766065251077,0.8339629883883646,0.9146017106276273,1.0650372304992077,-0.11487998779615971,1.2341668784460065,0.1647343716073904,0.8549136485581085,-0.12819036208542522,-0.037431771792946836,-1.1140425018832867,0.4170484405611795,0.15362134524845933,0.09767031871749425,-0.7240534677151139,-0.05973662086494687,-0.15151178413637312,0.023609481478592934,1.1964264842517858,-0.4184083825735681,-1.9681130464962648,-1.4989214920997833,0.5949311135623435,-2.002707418131259,1.585651696629821,0.583477559767359,-0.15217294011684532,0.4322186586506526,-0.30507382923613807,1.2231204288495687,-1.3797264763114188,0.978936092865099,-0.4927745773394273,-0.34153163661570746,0.2822332676032947,0.3844594705475229,0.3577693776311373,0.05349259703522121,-0.1583826181189356,0.5762457495298668,-0.8300506009988222,0.4935530361911967,-0.35330746040780053,-0.9191387476926381,-0.5168131165270107,-0.3692822627962507,-0.3803046761376602,-0.41347623883233897,-0.41365445872801543,-0.08453685133441824,-0.43378539522386705,-0.2491845686339487,0.6453133975685201,-0.10523537896357571,0.44098746653274973,0.014561068254669187,0.2651927413504296,-0.3790145415472509,0.2995652409842423,-0.5761088124317802,0.4941550514907939,1.5913202286261305,-1.108435419186405,-0.44833397894135474,-0.8273416402510327,0.9953051845779722,-0.8193651369255609,-1.228792715446315,-0.8573210275936802,-0.8127147696931125,0.3624222955585632,0.057427253016588214,0.2845045668903879,-0.6469311484212112,2.032547234351372,1.4396853247787122,-0.8235569455066981,0.6422753218757572,0.16883227587987765,-0.6376289374369761,-0.8554622784854005,-0.8782643082025386,-0.1452786069276213,-0.014246309236044984,0.7718492090082157,-0.06291246700993491,-0.6433875799790367,0.09671208861905427,-0.5882396076038271,0.7000572716603616,0.8059237139735782,-0.14890724208090148,-0.1311780410469896,0.9166293677861804,0.43493657009936115,0.6413872468515108,-0.10403370571849264,-0.9750785519546282,-0.38365496313172565,1.037267956465854,-0.7407398669876232,0.9569568423489847,0.28382406111685116,1.708284813110104,-0.8669129396418896,-0.10771803176000315,-0.3951458210561722,-0.9122925270297063,1.2934792695793695,0.005023658613396829,-0.0022110393922265778,0.13912894728325947,-0.2641572358649956,-0.42868082753576087,1.473028886572427,0.8748873074659452,-0.47820593568443387,1.1497187600561194,0.8443509073429438,0.8924446126191918,-0.7275122202619989,-0.08043950425537219,0.9325037956152156,0.9454547586706323,0.6033114399597854,-0.6010660368415315,0.5284925594769686,0.9150605710429229,0.3289055370479036,1.5403788867764716,-0.060495437280280055,0.23618342166660136,-0.9170270129570731,0.21828011521208282,0.7852646792058419,-0.29827544933352323,-0.22062329858777724,-0.5235452381449416,-0.48048648558211,0.16568014202357403,1.0974317057667622,0.8070666724089461,-0.3902762736569194,0.14538107120446614,-0.18134988475310368,-0.23736701778974983,-0.10022958209490232,-0.08923111549054386,-0.162862220041583,-0.5890405329406769,-0.35066768100345197,0.7794547051891971,-0.5443140723273683,0.9724766841654149,-0.42084348541982913,0.32482685628250907,0.25701909151876895,1.3123885476487067,-0.44795415120917836,-0.23021899333744708,0.7810817324682234,1.3846839704606986,-0.19294732375202817,0.734260220200919,-0.6023880959494635,-1.5209927761936577]</td></tr></table><br /><pre>only showing top 5 rows</pre>"
      ],
      "text/plain": [
       "<IPython.core.display.HTML object>"
      ]
     },
     "metadata": {},
     "output_type": "display_data"
    }
   ],
   "source": [
    "%%pretty\n",
    "df_spark.show(5, False)"
   ]
  },
  {
   "cell_type": "markdown",
   "id": "9c694478-a552-426b-bef4-34e776cdb619",
   "metadata": {},
   "source": [
    "<u>Vérification du nombre d'images traitées, et des nombres de features extraites avant et après PCA :"
   ]
  },
  {
   "cell_type": "code",
   "execution_count": 33,
   "id": "5845f85e",
   "metadata": {},
   "outputs": [
    {
     "data": {
      "application/vnd.jupyter.widget-view+json": {
       "model_id": "",
       "version_major": 2,
       "version_minor": 0
      },
      "text/plain": [
       "FloatProgress(value=0.0, bar_style='info', description='Progress:', layout=Layout(height='25px', width='50%'),…"
      ]
     },
     "metadata": {},
     "output_type": "display_data"
    },
    {
     "name": "stdout",
     "output_type": "stream",
     "text": [
      "Nombre d'images : 22688\n",
      "\n",
      "Taille du vecteur 'features' : 1280\n",
      "\n",
      "Nombre de composantes expliquant 90 % de la variance : 342\n",
      "Taille du vecteur 'pca_features' : 342"
     ]
    }
   ],
   "source": [
    "# Nombre de lignes du DataFrame = nombre d'images traitées\n",
    "num_rows = df_spark.count()\n",
    "\n",
    "# Première ligne du DataFrame\n",
    "first_row = df_spark.select(\"features\", \"pca_features\").first()\n",
    "\n",
    "# Taille des vecteurs 'features' et 'pca_features'\n",
    "features_size = len(first_row[\"features\"])\n",
    "pca_features_size = len(first_row[\"pca_features\"])\n",
    "\n",
    "# Afficher les tailles des vecteurs\n",
    "print(f\"Nombre d'images : {num_rows}\\n\")\n",
    "print(f\"Taille du vecteur 'features' : {features_size}\\n\")\n",
    "print(f\"Nombre de composantes expliquant 90 % de la variance : {num_components}\")\n",
    "print(f\"Taille du vecteur 'pca_features' : {pca_features_size}\")"
   ]
  }
 ],
 "metadata": {
  "celltoolbar": "Format de la Cellule Texte Brut",
  "kernelspec": {
   "display_name": "PySpark",
   "language": "",
   "name": "pysparkkernel"
  },
  "language_info": {
   "codemirror_mode": {
    "name": "python",
    "version": 3
   },
   "file_extension": ".py",
   "mimetype": "text/x-python",
   "name": "pyspark",
   "pygments_lexer": "python3"
  }
 },
 "nbformat": 4,
 "nbformat_minor": 5
}
